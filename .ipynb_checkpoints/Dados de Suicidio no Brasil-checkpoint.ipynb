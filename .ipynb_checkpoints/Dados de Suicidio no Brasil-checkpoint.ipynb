{
 "cells": [
  {
   "cell_type": "markdown",
   "metadata": {},
   "source": [
    "# Análise do índice de suicídio n"
   ]
  },
  {
   "cell_type": "markdown",
   "metadata": {},
   "source": [
    "Créditos: [Rodolfo dos Santos](https://rodolfo-santos.com), de São José dos campos - São Paulo.\n",
    "\n",
    "O estudo a seguir teve a finalidade de correlacionar dados referentes ao posicionamento do atual Presidente do Brasil (2020) Jair Messias Bolsonaro. O objetivo deste estudo é exclusivamente acadêmico, não tendo vínculo com nenhum veículo de mídia tradicional brasileira, os dados apresentados não refletem a opinião do autor, apenas evidenciam a relação de dados coletados em por meio de veiculos públicos.\n"
   ]
  },
  {
   "cell_type": "markdown",
   "metadata": {},
   "source": [
    "## APIs Utilizadas"
   ]
  },
  {
   "cell_type": "markdown",
   "metadata": {},
   "source": [
    "twitter_scrapper, pytube"
   ]
  },
  {
   "cell_type": "code",
   "execution_count": 2,
   "metadata": {},
   "outputs": [],
   "source": [
    "from IPython.core.display import display, HTML\n",
    "\n",
    "import pandas as pd\n",
    "import numpy as np\n",
    "import matplotlib.pyplot as plt\n",
    "import requests\n",
    "from twitter_scraper import *\n",
    "import datetime as dt\n",
    "\n",
    "low_memory=False\n",
    "%matplotlib inline\n",
    "pd.options.display.max_columns = 80\n",
    "pd.options.display.max_rows = 90"
   ]
  },
  {
   "cell_type": "markdown",
   "metadata": {},
   "source": [
    "_____________________________"
   ]
  },
  {
   "cell_type": "markdown",
   "metadata": {},
   "source": [
    "# Painel Coronavírus\n",
    "\n",
    "_Fonte:_ https://covid.saude.gov.br/"
   ]
  },
  {
   "cell_type": "code",
   "execution_count": 12,
   "metadata": {},
   "outputs": [
    {
     "data": {
      "text/html": [
       "<div>\n",
       "<style scoped>\n",
       "    .dataframe tbody tr th:only-of-type {\n",
       "        vertical-align: middle;\n",
       "    }\n",
       "\n",
       "    .dataframe tbody tr th {\n",
       "        vertical-align: top;\n",
       "    }\n",
       "\n",
       "    .dataframe thead th {\n",
       "        text-align: right;\n",
       "    }\n",
       "</style>\n",
       "<table border=\"1\" class=\"dataframe\">\n",
       "  <thead>\n",
       "    <tr style=\"text-align: right;\">\n",
       "      <th></th>\n",
       "      <th>Região</th>\n",
       "      <th>UF</th>\n",
       "      <th>Cidade</th>\n",
       "      <th>Cód_UF</th>\n",
       "      <th>codmun</th>\n",
       "      <th>codRegiaoSaude</th>\n",
       "      <th>nomeRegiaoSaude</th>\n",
       "      <th>data</th>\n",
       "      <th>semanaEpi</th>\n",
       "      <th>populacaoTCU2019</th>\n",
       "      <th>casosAcumulado</th>\n",
       "      <th>casosNovos</th>\n",
       "      <th>obitosAcumulado</th>\n",
       "      <th>obitosNovos</th>\n",
       "      <th>Recuperadosnovos</th>\n",
       "      <th>emAcompanhamentoNovos</th>\n",
       "      <th>FgMetro</th>\n",
       "    </tr>\n",
       "  </thead>\n",
       "  <tbody>\n",
       "    <tr>\n",
       "      <th>0</th>\n",
       "      <td>Brasil</td>\n",
       "      <td>NaN</td>\n",
       "      <td>NaN</td>\n",
       "      <td>76</td>\n",
       "      <td>NaN</td>\n",
       "      <td>NaN</td>\n",
       "      <td>NaN</td>\n",
       "      <td>2020-02-25</td>\n",
       "      <td>9</td>\n",
       "      <td>210147125</td>\n",
       "      <td>0</td>\n",
       "      <td>0</td>\n",
       "      <td>0</td>\n",
       "      <td>0</td>\n",
       "      <td>NaN</td>\n",
       "      <td>NaN</td>\n",
       "      <td>NaN</td>\n",
       "    </tr>\n",
       "    <tr>\n",
       "      <th>1</th>\n",
       "      <td>Brasil</td>\n",
       "      <td>NaN</td>\n",
       "      <td>NaN</td>\n",
       "      <td>76</td>\n",
       "      <td>NaN</td>\n",
       "      <td>NaN</td>\n",
       "      <td>NaN</td>\n",
       "      <td>2020-02-26</td>\n",
       "      <td>9</td>\n",
       "      <td>210147125</td>\n",
       "      <td>1</td>\n",
       "      <td>1</td>\n",
       "      <td>0</td>\n",
       "      <td>0</td>\n",
       "      <td>NaN</td>\n",
       "      <td>NaN</td>\n",
       "      <td>NaN</td>\n",
       "    </tr>\n",
       "    <tr>\n",
       "      <th>2</th>\n",
       "      <td>Brasil</td>\n",
       "      <td>NaN</td>\n",
       "      <td>NaN</td>\n",
       "      <td>76</td>\n",
       "      <td>NaN</td>\n",
       "      <td>NaN</td>\n",
       "      <td>NaN</td>\n",
       "      <td>2020-02-27</td>\n",
       "      <td>9</td>\n",
       "      <td>210147125</td>\n",
       "      <td>1</td>\n",
       "      <td>0</td>\n",
       "      <td>0</td>\n",
       "      <td>0</td>\n",
       "      <td>NaN</td>\n",
       "      <td>NaN</td>\n",
       "      <td>NaN</td>\n",
       "    </tr>\n",
       "    <tr>\n",
       "      <th>3</th>\n",
       "      <td>Brasil</td>\n",
       "      <td>NaN</td>\n",
       "      <td>NaN</td>\n",
       "      <td>76</td>\n",
       "      <td>NaN</td>\n",
       "      <td>NaN</td>\n",
       "      <td>NaN</td>\n",
       "      <td>2020-02-28</td>\n",
       "      <td>9</td>\n",
       "      <td>210147125</td>\n",
       "      <td>1</td>\n",
       "      <td>0</td>\n",
       "      <td>0</td>\n",
       "      <td>0</td>\n",
       "      <td>NaN</td>\n",
       "      <td>NaN</td>\n",
       "      <td>NaN</td>\n",
       "    </tr>\n",
       "    <tr>\n",
       "      <th>4</th>\n",
       "      <td>Brasil</td>\n",
       "      <td>NaN</td>\n",
       "      <td>NaN</td>\n",
       "      <td>76</td>\n",
       "      <td>NaN</td>\n",
       "      <td>NaN</td>\n",
       "      <td>NaN</td>\n",
       "      <td>2020-02-29</td>\n",
       "      <td>9</td>\n",
       "      <td>210147125</td>\n",
       "      <td>2</td>\n",
       "      <td>1</td>\n",
       "      <td>0</td>\n",
       "      <td>0</td>\n",
       "      <td>NaN</td>\n",
       "      <td>NaN</td>\n",
       "      <td>NaN</td>\n",
       "    </tr>\n",
       "    <tr>\n",
       "      <th>...</th>\n",
       "      <td>...</td>\n",
       "      <td>...</td>\n",
       "      <td>...</td>\n",
       "      <td>...</td>\n",
       "      <td>...</td>\n",
       "      <td>...</td>\n",
       "      <td>...</td>\n",
       "      <td>...</td>\n",
       "      <td>...</td>\n",
       "      <td>...</td>\n",
       "      <td>...</td>\n",
       "      <td>...</td>\n",
       "      <td>...</td>\n",
       "      <td>...</td>\n",
       "      <td>...</td>\n",
       "      <td>...</td>\n",
       "      <td>...</td>\n",
       "    </tr>\n",
       "    <tr>\n",
       "      <th>456533</th>\n",
       "      <td>Centro-Oeste</td>\n",
       "      <td>DF</td>\n",
       "      <td>Brasília</td>\n",
       "      <td>53</td>\n",
       "      <td>530010.0</td>\n",
       "      <td>53001.0</td>\n",
       "      <td>DISTRITO FEDERAL</td>\n",
       "      <td>2020-06-20</td>\n",
       "      <td>25</td>\n",
       "      <td>3015268</td>\n",
       "      <td>32238</td>\n",
       "      <td>1336</td>\n",
       "      <td>404</td>\n",
       "      <td>8</td>\n",
       "      <td>NaN</td>\n",
       "      <td>NaN</td>\n",
       "      <td>1.0</td>\n",
       "    </tr>\n",
       "    <tr>\n",
       "      <th>456534</th>\n",
       "      <td>Centro-Oeste</td>\n",
       "      <td>DF</td>\n",
       "      <td>Brasília</td>\n",
       "      <td>53</td>\n",
       "      <td>530010.0</td>\n",
       "      <td>53001.0</td>\n",
       "      <td>DISTRITO FEDERAL</td>\n",
       "      <td>2020-06-21</td>\n",
       "      <td>26</td>\n",
       "      <td>3015268</td>\n",
       "      <td>33227</td>\n",
       "      <td>989</td>\n",
       "      <td>423</td>\n",
       "      <td>19</td>\n",
       "      <td>NaN</td>\n",
       "      <td>NaN</td>\n",
       "      <td>1.0</td>\n",
       "    </tr>\n",
       "    <tr>\n",
       "      <th>456535</th>\n",
       "      <td>Centro-Oeste</td>\n",
       "      <td>DF</td>\n",
       "      <td>Brasília</td>\n",
       "      <td>53</td>\n",
       "      <td>530010.0</td>\n",
       "      <td>53001.0</td>\n",
       "      <td>DISTRITO FEDERAL</td>\n",
       "      <td>2020-06-22</td>\n",
       "      <td>26</td>\n",
       "      <td>3015268</td>\n",
       "      <td>34148</td>\n",
       "      <td>921</td>\n",
       "      <td>449</td>\n",
       "      <td>26</td>\n",
       "      <td>NaN</td>\n",
       "      <td>NaN</td>\n",
       "      <td>1.0</td>\n",
       "    </tr>\n",
       "    <tr>\n",
       "      <th>456536</th>\n",
       "      <td>Centro-Oeste</td>\n",
       "      <td>DF</td>\n",
       "      <td>Brasília</td>\n",
       "      <td>53</td>\n",
       "      <td>530010.0</td>\n",
       "      <td>53001.0</td>\n",
       "      <td>DISTRITO FEDERAL</td>\n",
       "      <td>2020-06-23</td>\n",
       "      <td>26</td>\n",
       "      <td>3015268</td>\n",
       "      <td>35368</td>\n",
       "      <td>1220</td>\n",
       "      <td>475</td>\n",
       "      <td>26</td>\n",
       "      <td>NaN</td>\n",
       "      <td>NaN</td>\n",
       "      <td>1.0</td>\n",
       "    </tr>\n",
       "    <tr>\n",
       "      <th>456537</th>\n",
       "      <td>Centro-Oeste</td>\n",
       "      <td>DF</td>\n",
       "      <td>Brasília</td>\n",
       "      <td>53</td>\n",
       "      <td>530010.0</td>\n",
       "      <td>53001.0</td>\n",
       "      <td>DISTRITO FEDERAL</td>\n",
       "      <td>2020-06-24</td>\n",
       "      <td>26</td>\n",
       "      <td>3015268</td>\n",
       "      <td>37254</td>\n",
       "      <td>1886</td>\n",
       "      <td>495</td>\n",
       "      <td>20</td>\n",
       "      <td>NaN</td>\n",
       "      <td>NaN</td>\n",
       "      <td>1.0</td>\n",
       "    </tr>\n",
       "  </tbody>\n",
       "</table>\n",
       "<p>456538 rows × 17 columns</p>\n",
       "</div>"
      ],
      "text/plain": [
       "              Região   UF    Cidade  Cód_UF    codmun  codRegiaoSaude  \\\n",
       "0             Brasil  NaN       NaN      76       NaN             NaN   \n",
       "1             Brasil  NaN       NaN      76       NaN             NaN   \n",
       "2             Brasil  NaN       NaN      76       NaN             NaN   \n",
       "3             Brasil  NaN       NaN      76       NaN             NaN   \n",
       "4             Brasil  NaN       NaN      76       NaN             NaN   \n",
       "...              ...  ...       ...     ...       ...             ...   \n",
       "456533  Centro-Oeste   DF  Brasília      53  530010.0         53001.0   \n",
       "456534  Centro-Oeste   DF  Brasília      53  530010.0         53001.0   \n",
       "456535  Centro-Oeste   DF  Brasília      53  530010.0         53001.0   \n",
       "456536  Centro-Oeste   DF  Brasília      53  530010.0         53001.0   \n",
       "456537  Centro-Oeste   DF  Brasília      53  530010.0         53001.0   \n",
       "\n",
       "         nomeRegiaoSaude       data  semanaEpi populacaoTCU2019  \\\n",
       "0                    NaN 2020-02-25          9        210147125   \n",
       "1                    NaN 2020-02-26          9        210147125   \n",
       "2                    NaN 2020-02-27          9        210147125   \n",
       "3                    NaN 2020-02-28          9        210147125   \n",
       "4                    NaN 2020-02-29          9        210147125   \n",
       "...                  ...        ...        ...              ...   \n",
       "456533  DISTRITO FEDERAL 2020-06-20         25          3015268   \n",
       "456534  DISTRITO FEDERAL 2020-06-21         26          3015268   \n",
       "456535  DISTRITO FEDERAL 2020-06-22         26          3015268   \n",
       "456536  DISTRITO FEDERAL 2020-06-23         26          3015268   \n",
       "456537  DISTRITO FEDERAL 2020-06-24         26          3015268   \n",
       "\n",
       "        casosAcumulado  casosNovos  obitosAcumulado  obitosNovos  \\\n",
       "0                    0           0                0            0   \n",
       "1                    1           1                0            0   \n",
       "2                    1           0                0            0   \n",
       "3                    1           0                0            0   \n",
       "4                    2           1                0            0   \n",
       "...                ...         ...              ...          ...   \n",
       "456533           32238        1336              404            8   \n",
       "456534           33227         989              423           19   \n",
       "456535           34148         921              449           26   \n",
       "456536           35368        1220              475           26   \n",
       "456537           37254        1886              495           20   \n",
       "\n",
       "        Recuperadosnovos  emAcompanhamentoNovos  FgMetro  \n",
       "0                    NaN                    NaN      NaN  \n",
       "1                    NaN                    NaN      NaN  \n",
       "2                    NaN                    NaN      NaN  \n",
       "3                    NaN                    NaN      NaN  \n",
       "4                    NaN                    NaN      NaN  \n",
       "...                  ...                    ...      ...  \n",
       "456533               NaN                    NaN      1.0  \n",
       "456534               NaN                    NaN      1.0  \n",
       "456535               NaN                    NaN      1.0  \n",
       "456536               NaN                    NaN      1.0  \n",
       "456537               NaN                    NaN      1.0  \n",
       "\n",
       "[456538 rows x 17 columns]"
      ]
     },
     "execution_count": 12,
     "metadata": {},
     "output_type": "execute_result"
    }
   ],
   "source": [
    "filename = 'HIST_PAINEL_COVIDBR.xlsx'\n",
    "df = pd.read_excel(filename)"
   ]
  },
  {
   "cell_type": "code",
   "execution_count": 17,
   "metadata": {},
   "outputs": [],
   "source": [
    "df.rename(columns={\n",
    "    'regiao' : 'Região',\n",
    "    'estado' : 'UF',\n",
    "    'municipio' : 'Cidade',\n",
    "    'coduf' : \"Cód_UF\"\n",
    "}, inplace = True)"
   ]
  },
  {
   "cell_type": "code",
   "execution_count": null,
   "metadata": {},
   "outputs": [],
   "source": []
  },
  {
   "cell_type": "code",
   "execution_count": 35,
   "metadata": {},
   "outputs": [
    {
     "data": {
      "text/plain": [
       "3565893"
      ]
     },
     "execution_count": 35,
     "metadata": {},
     "output_type": "execute_result"
    }
   ],
   "source": [
    "df['casosNovos'].sum()"
   ]
  },
  {
   "cell_type": "code",
   "execution_count": 6,
   "metadata": {},
   "outputs": [
    {
     "data": {
      "text/plain": [
       "Text(0.5, 1.0, 'Relação dos Estados com mais casos de COVID-19')"
      ]
     },
     "execution_count": 6,
     "metadata": {},
     "output_type": "execute_result"
    },
    {
     "data": {
      "image/png": "[encoded data removed]",
      "text/plain": [
       "<Figure size 720x360 with 1 Axes>"
      ]
     },
     "metadata": {
      "needs_background": "light"
     },
     "output_type": "display_data"
    }
   ],
   "source": [
    "df.groupby('estado').size().sort_values()[14:].plot(kind='barh', figsize=(10,5), fontsize = 'medium')\n",
    "plt.grid(True, which='major')\n",
    "plt.title('Relação dos Estados com mais casos de COVID-19')"
   ]
  },
  {
   "cell_type": "code",
   "execution_count": 7,
   "metadata": {},
   "outputs": [
    {
     "data": {
      "text/plain": [
       "Text(0.5, 1.0, 'Relação dos Estados com menos casos de COVID-19')"
      ]
     },
     "execution_count": 7,
     "metadata": {},
     "output_type": "execute_result"
    },
    {
     "data": {
      "image/png": "[encoded data removed]",
      "text/plain": [
       "<Figure size 720x360 with 1 Axes>"
      ]
     },
     "metadata": {
      "needs_background": "light"
     },
     "output_type": "display_data"
    }
   ],
   "source": [
    "df.groupby('estado').size().sort_values()[:14].sort_values(ascending=True).plot(kind='barh', figsize=(10,5), fontsize = 'medium')\n",
    "plt.grid(True, which='major')\n",
    "plt.title('Relação dos Estados com menos casos de COVID-19')"
   ]
  },
  {
   "cell_type": "markdown",
   "metadata": {},
   "source": [
    "# Painel Bolsonaro"
   ]
  },
  {
   "cell_type": "code",
   "execution_count": 26,
   "metadata": {},
   "outputs": [],
   "source": [
    "tuites = []\n",
    "for t in  get_tweets('jairbolsonaro', pages=999999):\n",
    "    if 'corona' in t['text'].lower() or 'covid' in t['text'].lower() :\n",
    "        d = {'text':t['text'], 'likes':t['likes'], 'time' : t['time'], 'tweetUrl' : t['tweetUrl']}\n",
    "        tuites.append(d)"
   ]
  },
  {
   "cell_type": "code",
   "execution_count": 32,
   "metadata": {},
   "outputs": [
    {
     "data": {
      "text/html": [
       "<hr>"
      ],
      "text/plain": [
       "<IPython.core.display.HTML object>"
      ]
     },
     "metadata": {},
     "output_type": "display_data"
    },
    {
     "data": {
      "text/html": [
       "<strong> Tweet </strong>: A. Além de tudo divulgado diariamente e avanços com pesquisas de novo medicamento contra o covid-19 via @mctic @Astro_Pontes , o @minsaude anuncia avanços no fechamento de acordo com a Universidade de Oxford para produção de vacina. pic.twitter.com/DocoiJsfAF "
      ],
      "text/plain": [
       "<IPython.core.display.HTML object>"
      ]
     },
     "metadata": {},
     "output_type": "display_data"
    },
    {
     "data": {
      "text/html": [
       "<strong> Data </strong>: 2020-06-25 08:49:05 "
      ],
      "text/plain": [
       "<IPython.core.display.HTML object>"
      ]
     },
     "metadata": {},
     "output_type": "display_data"
    },
    {
     "data": {
      "text/html": [
       "<strong> Likes </strong>: 12794 "
      ],
      "text/plain": [
       "<IPython.core.display.HTML object>"
      ]
     },
     "metadata": {},
     "output_type": "display_data"
    },
    {
     "data": {
      "text/html": [
       "<strong> Link </strong>: <a href='https://twitter.com//jairbolsonaro/status/1276120224220286976' target='_blank'> Acessar </a> "
      ],
      "text/plain": [
       "<IPython.core.display.HTML object>"
      ]
     },
     "metadata": {},
     "output_type": "display_data"
    },
    {
     "data": {
      "text/html": [
       "<hr>"
      ],
      "text/plain": [
       "<IPython.core.display.HTML object>"
      ]
     },
     "metadata": {},
     "output_type": "display_data"
    },
    {
     "data": {
      "text/html": [
       "<strong> Tweet </strong>: - A medida consolida a legislação, valoriza a responsabilidade e estimula o espírito solidário entre os brasileiros, principalmente neste momento de crise devido aos impactos econômicos e sociais causados pela pandemia de Covid-19. "
      ],
      "text/plain": [
       "<IPython.core.display.HTML object>"
      ]
     },
     "metadata": {},
     "output_type": "display_data"
    },
    {
     "data": {
      "text/html": [
       "<strong> Data </strong>: 2020-06-24 16:05:51 "
      ],
      "text/plain": [
       "<IPython.core.display.HTML object>"
      ]
     },
     "metadata": {},
     "output_type": "display_data"
    },
    {
     "data": {
      "text/html": [
       "<strong> Likes </strong>: 19608 "
      ],
      "text/plain": [
       "<IPython.core.display.HTML object>"
      ]
     },
     "metadata": {},
     "output_type": "display_data"
    },
    {
     "data": {
      "text/html": [
       "<strong> Link </strong>: <a href='https://twitter.com//jairbolsonaro/status/1275867754202103810' target='_blank'> Acessar </a> "
      ],
      "text/plain": [
       "<IPython.core.display.HTML object>"
      ]
     },
     "metadata": {},
     "output_type": "display_data"
    },
    {
     "data": {
      "text/html": [
       "<hr>"
      ],
      "text/plain": [
       "<IPython.core.display.HTML object>"
      ]
     },
     "metadata": {},
     "output_type": "display_data"
    },
    {
     "data": {
      "text/html": [
       "<strong> Tweet </strong>: 1.3- Operação Solercia: O objetivo é apurar supostas irregularidades na contratação, por órgãos e secretarias do Governo do Estado do Pará, de grupo de empresas fornecedoras de produtos alimentícios, como merenda escolar no enfrentamento ao Covid-19. Detalhes: @CGUonline pic.twitter.com/SHixWISv8K "
      ],
      "text/plain": [
       "<IPython.core.display.HTML object>"
      ]
     },
     "metadata": {},
     "output_type": "display_data"
    },
    {
     "data": {
      "text/html": [
       "<strong> Data </strong>: 2020-06-21 07:57:02 "
      ],
      "text/plain": [
       "<IPython.core.display.HTML object>"
      ]
     },
     "metadata": {},
     "output_type": "display_data"
    },
    {
     "data": {
      "text/html": [
       "<strong> Likes </strong>: 5065 "
      ],
      "text/plain": [
       "<IPython.core.display.HTML object>"
      ]
     },
     "metadata": {},
     "output_type": "display_data"
    },
    {
     "data": {
      "text/html": [
       "<strong> Link </strong>: <a href='https://twitter.com//jairbolsonaro/status/1274657573195730951' target='_blank'> Acessar </a> "
      ],
      "text/plain": [
       "<IPython.core.display.HTML object>"
      ]
     },
     "metadata": {},
     "output_type": "display_data"
    },
    {
     "data": {
      "text/html": [
       "<hr>"
      ],
      "text/plain": [
       "<IPython.core.display.HTML object>"
      ]
     },
     "metadata": {},
     "output_type": "display_data"
    },
    {
     "data": {
      "text/html": [
       "<strong> Tweet </strong>: O STF determinou que as ações diretas em relação ao covid-19 são de responsabilidade de estados e municípios. Mesmo assim, o @govbr não tem medido esforços no auxílio dos brasileiros desde o início. Lamentavelmente, estes fatos não são mostrados na maior parte da mídia. @secomvc pic.twitter.com/g9yVB9f8hP "
      ],
      "text/plain": [
       "<IPython.core.display.HTML object>"
      ]
     },
     "metadata": {},
     "output_type": "display_data"
    },
    {
     "data": {
      "text/html": [
       "<strong> Data </strong>: 2020-06-19 18:49:19 "
      ],
      "text/plain": [
       "<IPython.core.display.HTML object>"
      ]
     },
     "metadata": {},
     "output_type": "display_data"
    },
    {
     "data": {
      "text/html": [
       "<strong> Likes </strong>: 48995 "
      ],
      "text/plain": [
       "<IPython.core.display.HTML object>"
      ]
     },
     "metadata": {},
     "output_type": "display_data"
    },
    {
     "data": {
      "text/html": [
       "<strong> Link </strong>: <a href='https://twitter.com//jairbolsonaro/status/1274096953450790914' target='_blank'> Acessar </a> "
      ],
      "text/plain": [
       "<IPython.core.display.HTML object>"
      ]
     },
     "metadata": {},
     "output_type": "display_data"
    },
    {
     "data": {
      "text/html": [
       "<hr>"
      ],
      "text/plain": [
       "<IPython.core.display.HTML object>"
      ]
     },
     "metadata": {},
     "output_type": "display_data"
    },
    {
     "data": {
      "text/html": [
       "<strong> Tweet </strong>: O STF determinou que as ações diretas em relação ao covid-19 são de responsabilidade de estados e municípios. Mesmo assim, o @govbr não tem medido esforços no auxílio dos brasileiros desde o início. Lamentavelmente, estes fatos não são mostrados na maior parte da mídia. @secomvc pic.twitter.com/g9yVB9f8hP "
      ],
      "text/plain": [
       "<IPython.core.display.HTML object>"
      ]
     },
     "metadata": {},
     "output_type": "display_data"
    },
    {
     "data": {
      "text/html": [
       "<strong> Data </strong>: 2020-06-19 18:49:19 "
      ],
      "text/plain": [
       "<IPython.core.display.HTML object>"
      ]
     },
     "metadata": {},
     "output_type": "display_data"
    },
    {
     "data": {
      "text/html": [
       "<strong> Likes </strong>: 48995 "
      ],
      "text/plain": [
       "<IPython.core.display.HTML object>"
      ]
     },
     "metadata": {},
     "output_type": "display_data"
    },
    {
     "data": {
      "text/html": [
       "<strong> Link </strong>: <a href='https://twitter.com//jairbolsonaro/status/1274096953450790914' target='_blank'> Acessar </a> "
      ],
      "text/plain": [
       "<IPython.core.display.HTML object>"
      ]
     },
     "metadata": {},
     "output_type": "display_data"
    },
    {
     "data": {
      "text/html": [
       "<hr>"
      ],
      "text/plain": [
       "<IPython.core.display.HTML object>"
      ]
     },
     "metadata": {},
     "output_type": "display_data"
    },
    {
     "data": {
      "text/html": [
       "<strong> Tweet </strong>: 3- O @govbr continua as ações de apoio aos caminhoneiros. Desta vez em BH/MG, em parceria com empresa concessionária, Polícia Militar e SEST/SENAT. Realização de testes rápidos para COVID-19 e distribuição de kits com máscara reutilizável. Detalhes: @MInfraestrutura pic.twitter.com/Mx0kJKp6fB "
      ],
      "text/plain": [
       "<IPython.core.display.HTML object>"
      ]
     },
     "metadata": {},
     "output_type": "display_data"
    },
    {
     "data": {
      "text/html": [
       "<strong> Data </strong>: 2020-06-19 07:10:36 "
      ],
      "text/plain": [
       "<IPython.core.display.HTML object>"
      ]
     },
     "metadata": {},
     "output_type": "display_data"
    },
    {
     "data": {
      "text/html": [
       "<strong> Likes </strong>: 5616 "
      ],
      "text/plain": [
       "<IPython.core.display.HTML object>"
      ]
     },
     "metadata": {},
     "output_type": "display_data"
    },
    {
     "data": {
      "text/html": [
       "<strong> Link </strong>: <a href='https://twitter.com//jairbolsonaro/status/1273921115874877441' target='_blank'> Acessar </a> "
      ],
      "text/plain": [
       "<IPython.core.display.HTML object>"
      ]
     },
     "metadata": {},
     "output_type": "display_data"
    },
    {
     "data": {
      "text/html": [
       "<hr>"
      ],
      "text/plain": [
       "<IPython.core.display.HTML object>"
      ]
     },
     "metadata": {},
     "output_type": "display_data"
    },
    {
     "data": {
      "text/html": [
       "<strong> Tweet </strong>: 1- O Auxílio Emergencial que visa reduzir os efeitos econômicos do Covid19 diante de comércios fechados em estados e municípios já totalizam R$ 81,3 bilhões. Ao todo, 63,5 milhões de brasileiros já receberam os recursos. Detalhes: http://bit.ly/2zOqOiQ  . O  NÃO PODE PARAR! pic.twitter.com/4anG7ssOid "
      ],
      "text/plain": [
       "<IPython.core.display.HTML object>"
      ]
     },
     "metadata": {},
     "output_type": "display_data"
    },
    {
     "data": {
      "text/html": [
       "<strong> Data </strong>: 2020-06-19 07:07:03 "
      ],
      "text/plain": [
       "<IPython.core.display.HTML object>"
      ]
     },
     "metadata": {},
     "output_type": "display_data"
    },
    {
     "data": {
      "text/html": [
       "<strong> Likes </strong>: 27293 "
      ],
      "text/plain": [
       "<IPython.core.display.HTML object>"
      ]
     },
     "metadata": {},
     "output_type": "display_data"
    },
    {
     "data": {
      "text/html": [
       "<strong> Link </strong>: <a href='https://twitter.com//jairbolsonaro/status/1273920219711488000' target='_blank'> Acessar </a> "
      ],
      "text/plain": [
       "<IPython.core.display.HTML object>"
      ]
     },
     "metadata": {},
     "output_type": "display_data"
    },
    {
     "data": {
      "text/html": [
       "<hr>"
      ],
      "text/plain": [
       "<IPython.core.display.HTML object>"
      ]
     },
     "metadata": {},
     "output_type": "display_data"
    },
    {
     "data": {
      "text/html": [
       "<strong> Tweet </strong>: F. O Secretário Especial de Produtividade, Emprego e Competitividade Carlos da Costa, e o alinhamento dos eixos do caminho da prosperidade do ambiente de negócios com o Pró-Brasil, para crescimento após a pandemia de Covid-19.  @MinEconomia / @casacivilbr . pic.twitter.com/HW5koJP2AO "
      ],
      "text/plain": [
       "<IPython.core.display.HTML object>"
      ]
     },
     "metadata": {},
     "output_type": "display_data"
    },
    {
     "data": {
      "text/html": [
       "<strong> Data </strong>: 2020-06-18 06:56:57 "
      ],
      "text/plain": [
       "<IPython.core.display.HTML object>"
      ]
     },
     "metadata": {},
     "output_type": "display_data"
    },
    {
     "data": {
      "text/html": [
       "<strong> Likes </strong>: 13140 "
      ],
      "text/plain": [
       "<IPython.core.display.HTML object>"
      ]
     },
     "metadata": {},
     "output_type": "display_data"
    },
    {
     "data": {
      "text/html": [
       "<strong> Link </strong>: <a href='https://twitter.com//jairbolsonaro/status/1273555292140326913' target='_blank'> Acessar </a> "
      ],
      "text/plain": [
       "<IPython.core.display.HTML object>"
      ]
     },
     "metadata": {},
     "output_type": "display_data"
    },
    {
     "data": {
      "text/html": [
       "<hr>"
      ],
      "text/plain": [
       "<IPython.core.display.HTML object>"
      ]
     },
     "metadata": {},
     "output_type": "display_data"
    },
    {
     "data": {
      "text/html": [
       "<strong> Tweet </strong>: C2. Assim se mede a carga viral no início do protocolo e ao longo do tratamento, que dura 5 dias e mais 9 dias de observação. Um outra arma poderosíssima contra os efeitos da Covid-19. "
      ],
      "text/plain": [
       "<IPython.core.display.HTML object>"
      ]
     },
     "metadata": {},
     "output_type": "display_data"
    },
    {
     "data": {
      "text/html": [
       "<strong> Data </strong>: 2020-06-18 06:51:17 "
      ],
      "text/plain": [
       "<IPython.core.display.HTML object>"
      ]
     },
     "metadata": {},
     "output_type": "display_data"
    },
    {
     "data": {
      "text/html": [
       "<strong> Likes </strong>: 10448 "
      ],
      "text/plain": [
       "<IPython.core.display.HTML object>"
      ]
     },
     "metadata": {},
     "output_type": "display_data"
    },
    {
     "data": {
      "text/html": [
       "<strong> Link </strong>: <a href='https://twitter.com//jairbolsonaro/status/1273553863732330496' target='_blank'> Acessar </a> "
      ],
      "text/plain": [
       "<IPython.core.display.HTML object>"
      ]
     },
     "metadata": {},
     "output_type": "display_data"
    },
    {
     "data": {
      "text/html": [
       "<hr>"
      ],
      "text/plain": [
       "<IPython.core.display.HTML object>"
      ]
     },
     "metadata": {},
     "output_type": "display_data"
    },
    {
     "data": {
      "text/html": [
       "<strong> Tweet </strong>: C1. O @mctic , @Astro_Pontes , anunciou o início do segundo protocolo de testes clínicos com o nitazoxanida em pessoas que tenham sido infectadas com o coronavírus. Agora, pacientes assintomáticos também serão testados. pic.twitter.com/HMaoEg3CRz "
      ],
      "text/plain": [
       "<IPython.core.display.HTML object>"
      ]
     },
     "metadata": {},
     "output_type": "display_data"
    },
    {
     "data": {
      "text/html": [
       "<strong> Data </strong>: 2020-06-18 06:50:32 "
      ],
      "text/plain": [
       "<IPython.core.display.HTML object>"
      ]
     },
     "metadata": {},
     "output_type": "display_data"
    },
    {
     "data": {
      "text/html": [
       "<strong> Likes </strong>: 9558 "
      ],
      "text/plain": [
       "<IPython.core.display.HTML object>"
      ]
     },
     "metadata": {},
     "output_type": "display_data"
    },
    {
     "data": {
      "text/html": [
       "<strong> Link </strong>: <a href='https://twitter.com//jairbolsonaro/status/1273553675001233408' target='_blank'> Acessar </a> "
      ],
      "text/plain": [
       "<IPython.core.display.HTML object>"
      ]
     },
     "metadata": {},
     "output_type": "display_data"
    },
    {
     "data": {
      "text/html": [
       "<hr>"
      ],
      "text/plain": [
       "<IPython.core.display.HTML object>"
      ]
     },
     "metadata": {},
     "output_type": "display_data"
    },
    {
     "data": {
      "text/html": [
       "<strong> Tweet </strong>: - Nesta manhã, conversei com o Presidente da Rússia, Vladimir Putin.\n",
       "\n",
       "- Concordamos em aprofundar ainda mais a cooperação entre nossos países, inclusive no combate à covid-19.\n",
       "\n",
       "- Tratamos também dos resultados que queremos atingir na próxima Cúpula do BRICS, em São Petersburgo. pic.twitter.com/LL08lqexsH "
      ],
      "text/plain": [
       "<IPython.core.display.HTML object>"
      ]
     },
     "metadata": {},
     "output_type": "display_data"
    },
    {
     "data": {
      "text/html": [
       "<strong> Data </strong>: 2020-06-15 11:01:12 "
      ],
      "text/plain": [
       "<IPython.core.display.HTML object>"
      ]
     },
     "metadata": {},
     "output_type": "display_data"
    },
    {
     "data": {
      "text/html": [
       "<strong> Likes </strong>: 38365 "
      ],
      "text/plain": [
       "<IPython.core.display.HTML object>"
      ]
     },
     "metadata": {},
     "output_type": "display_data"
    },
    {
     "data": {
      "text/html": [
       "<strong> Link </strong>: <a href='https://twitter.com//jairbolsonaro/status/1272529594772570112' target='_blank'> Acessar </a> "
      ],
      "text/plain": [
       "<IPython.core.display.HTML object>"
      ]
     },
     "metadata": {},
     "output_type": "display_data"
    },
    {
     "data": {
      "text/html": [
       "<hr>"
      ],
      "text/plain": [
       "<IPython.core.display.HTML object>"
      ]
     },
     "metadata": {},
     "output_type": "display_data"
    },
    {
     "data": {
      "text/html": [
       "<strong> Tweet </strong>: H- Apoio para incentivar pequenos produtores orgânicos no Brasil durante a covid-19. @Mapa_Brasil @TerezaCrisMS . Detalhes: https://youtu.be/c3CVHZXWrss  "
      ],
      "text/plain": [
       "<IPython.core.display.HTML object>"
      ]
     },
     "metadata": {},
     "output_type": "display_data"
    },
    {
     "data": {
      "text/html": [
       "<strong> Data </strong>: 2020-06-14 11:30:52 "
      ],
      "text/plain": [
       "<IPython.core.display.HTML object>"
      ]
     },
     "metadata": {},
     "output_type": "display_data"
    },
    {
     "data": {
      "text/html": [
       "<strong> Likes </strong>: 5800 "
      ],
      "text/plain": [
       "<IPython.core.display.HTML object>"
      ]
     },
     "metadata": {},
     "output_type": "display_data"
    },
    {
     "data": {
      "text/html": [
       "<strong> Link </strong>: <a href='https://twitter.com//jairbolsonaro/status/1272174672344485889' target='_blank'> Acessar </a> "
      ],
      "text/plain": [
       "<IPython.core.display.HTML object>"
      ]
     },
     "metadata": {},
     "output_type": "display_data"
    },
    {
     "data": {
      "text/html": [
       "<hr>"
      ],
      "text/plain": [
       "<IPython.core.display.HTML object>"
      ]
     },
     "metadata": {},
     "output_type": "display_data"
    },
    {
     "data": {
      "text/html": [
       "<strong> Tweet </strong>: 6- Comunidades tradicionais seguem recebendo suporte do Governo Federal durante a pandemia do coronavírus. A expectativa é superar a marca de 500 mil cestas básicas entregues nos próximos meses. @DHumanosBrasil @DamaresAlves pic.twitter.com/o1CBCqT30K "
      ],
      "text/plain": [
       "<IPython.core.display.HTML object>"
      ]
     },
     "metadata": {},
     "output_type": "display_data"
    },
    {
     "data": {
      "text/html": [
       "<strong> Data </strong>: 2020-06-12 06:50:23 "
      ],
      "text/plain": [
       "<IPython.core.display.HTML object>"
      ]
     },
     "metadata": {},
     "output_type": "display_data"
    },
    {
     "data": {
      "text/html": [
       "<strong> Likes </strong>: 11601 "
      ],
      "text/plain": [
       "<IPython.core.display.HTML object>"
      ]
     },
     "metadata": {},
     "output_type": "display_data"
    },
    {
     "data": {
      "text/html": [
       "<strong> Link </strong>: <a href='https://twitter.com//jairbolsonaro/status/1271379311526887428' target='_blank'> Acessar </a> "
      ],
      "text/plain": [
       "<IPython.core.display.HTML object>"
      ]
     },
     "metadata": {},
     "output_type": "display_data"
    },
    {
     "data": {
      "text/html": [
       "<hr>"
      ],
      "text/plain": [
       "<IPython.core.display.HTML object>"
      ]
     },
     "metadata": {},
     "output_type": "display_data"
    },
    {
     "data": {
      "text/html": [
       "<strong> Tweet </strong>: AÇÕES DIÁRIAS: DIVULGADAS NAS REDES SOCIAIS:\n",
       "\n",
       "1- Com a quarentena do coronavírus, @govbr está preocupado com o aumento dos casos de agressões contra crianças e idosos. Ao presenciar um caso de agressão, quebre o silêncio e denuncie ao Disque 100. @DHumanosBrasil @DamaresAlves pic.twitter.com/qNfGpww7QX "
      ],
      "text/plain": [
       "<IPython.core.display.HTML object>"
      ]
     },
     "metadata": {},
     "output_type": "display_data"
    },
    {
     "data": {
      "text/html": [
       "<strong> Data </strong>: 2020-06-12 06:34:53 "
      ],
      "text/plain": [
       "<IPython.core.display.HTML object>"
      ]
     },
     "metadata": {},
     "output_type": "display_data"
    },
    {
     "data": {
      "text/html": [
       "<strong> Likes </strong>: 26508 "
      ],
      "text/plain": [
       "<IPython.core.display.HTML object>"
      ]
     },
     "metadata": {},
     "output_type": "display_data"
    },
    {
     "data": {
      "text/html": [
       "<strong> Link </strong>: <a href='https://twitter.com//jairbolsonaro/status/1271375411868565505' target='_blank'> Acessar </a> "
      ],
      "text/plain": [
       "<IPython.core.display.HTML object>"
      ]
     },
     "metadata": {},
     "output_type": "display_data"
    },
    {
     "data": {
      "text/html": [
       "<hr>"
      ],
      "text/plain": [
       "<IPython.core.display.HTML object>"
      ]
     },
     "metadata": {},
     "output_type": "display_data"
    },
    {
     "data": {
      "text/html": [
       "<strong> Tweet </strong>: D- O Brasil é um dos países que mais investe contra o coronavírus no mundo. Em média, duas vezes mais que os países emergentes e superior a maioria das nações desenvolvidos do mundo (5,8% do PIB). @MinEconomia @secomvc @govbr "
      ],
      "text/plain": [
       "<IPython.core.display.HTML object>"
      ]
     },
     "metadata": {},
     "output_type": "display_data"
    },
    {
     "data": {
      "text/html": [
       "<strong> Data </strong>: 2020-06-11 08:25:21 "
      ],
      "text/plain": [
       "<IPython.core.display.HTML object>"
      ]
     },
     "metadata": {},
     "output_type": "display_data"
    },
    {
     "data": {
      "text/html": [
       "<strong> Likes </strong>: 4479 "
      ],
      "text/plain": [
       "<IPython.core.display.HTML object>"
      ]
     },
     "metadata": {},
     "output_type": "display_data"
    },
    {
     "data": {
      "text/html": [
       "<strong> Link </strong>: <a href='https://twitter.com//jairbolsonaro/status/1271040821945610242' target='_blank'> Acessar </a> "
      ],
      "text/plain": [
       "<IPython.core.display.HTML object>"
      ]
     },
     "metadata": {},
     "output_type": "display_data"
    },
    {
     "data": {
      "text/html": [
       "<hr>"
      ],
      "text/plain": [
       "<IPython.core.display.HTML object>"
      ]
     },
     "metadata": {},
     "output_type": "display_data"
    },
    {
     "data": {
      "text/html": [
       "<strong> Tweet </strong>: - O nosso Ministro @WRosarioCGU mostrando todo o trabalho da @CGUonline no combate à corrupção e às fraudes na Saúde ligadas ao COVID. http://youtu.be/jJrrMG5DDrU  "
      ],
      "text/plain": [
       "<IPython.core.display.HTML object>"
      ]
     },
     "metadata": {},
     "output_type": "display_data"
    },
    {
     "data": {
      "text/html": [
       "<strong> Data </strong>: 2020-06-10 08:16:20 "
      ],
      "text/plain": [
       "<IPython.core.display.HTML object>"
      ]
     },
     "metadata": {},
     "output_type": "display_data"
    },
    {
     "data": {
      "text/html": [
       "<strong> Likes </strong>: 23967 "
      ],
      "text/plain": [
       "<IPython.core.display.HTML object>"
      ]
     },
     "metadata": {},
     "output_type": "display_data"
    },
    {
     "data": {
      "text/html": [
       "<strong> Link </strong>: <a href='https://twitter.com//jairbolsonaro/status/1270676165150289923' target='_blank'> Acessar </a> "
      ],
      "text/plain": [
       "<IPython.core.display.HTML object>"
      ]
     },
     "metadata": {},
     "output_type": "display_data"
    },
    {
     "data": {
      "text/html": [
       "<hr>"
      ],
      "text/plain": [
       "<IPython.core.display.HTML object>"
      ]
     },
     "metadata": {},
     "output_type": "display_data"
    },
    {
     "data": {
      "text/html": [
       "<strong> Tweet </strong>: . Ministros expõem ações de suas pastas diante do covid-19: https://twitter.com/tvbrasilgov/status/1270318361461825536 … "
      ],
      "text/plain": [
       "<IPython.core.display.HTML object>"
      ]
     },
     "metadata": {},
     "output_type": "display_data"
    },
    {
     "data": {
      "text/html": [
       "<strong> Data </strong>: 2020-06-09 08:37:54 "
      ],
      "text/plain": [
       "<IPython.core.display.HTML object>"
      ]
     },
     "metadata": {},
     "output_type": "display_data"
    },
    {
     "data": {
      "text/html": [
       "<strong> Likes </strong>: 29863 "
      ],
      "text/plain": [
       "<IPython.core.display.HTML object>"
      ]
     },
     "metadata": {},
     "output_type": "display_data"
    },
    {
     "data": {
      "text/html": [
       "<strong> Link </strong>: <a href='https://twitter.com//jairbolsonaro/status/1270319205573898240' target='_blank'> Acessar </a> "
      ],
      "text/plain": [
       "<IPython.core.display.HTML object>"
      ]
     },
     "metadata": {},
     "output_type": "display_data"
    },
    {
     "data": {
      "text/html": [
       "<hr>"
      ],
      "text/plain": [
       "<IPython.core.display.HTML object>"
      ]
     },
     "metadata": {},
     "output_type": "display_data"
    },
    {
     "data": {
      "text/html": [
       "<strong> Tweet </strong>: 3.3- Os investimentos e a logística organizada têm sido determinantes para o agronegócio ser o único setor da economia nacional a conseguir crescer em meio à pandemia de coronavírus no país, subindo 1,9% no trimestre. "
      ],
      "text/plain": [
       "<IPython.core.display.HTML object>"
      ]
     },
     "metadata": {},
     "output_type": "display_data"
    },
    {
     "data": {
      "text/html": [
       "<strong> Data </strong>: 2020-06-08 14:18:15 "
      ],
      "text/plain": [
       "<IPython.core.display.HTML object>"
      ]
     },
     "metadata": {},
     "output_type": "display_data"
    },
    {
     "data": {
      "text/html": [
       "<strong> Likes </strong>: 4819 "
      ],
      "text/plain": [
       "<IPython.core.display.HTML object>"
      ]
     },
     "metadata": {},
     "output_type": "display_data"
    },
    {
     "data": {
      "text/html": [
       "<strong> Link </strong>: <a href='https://twitter.com//jairbolsonaro/status/1270042470722736128' target='_blank'> Acessar </a> "
      ],
      "text/plain": [
       "<IPython.core.display.HTML object>"
      ]
     },
     "metadata": {},
     "output_type": "display_data"
    },
    {
     "data": {
      "text/html": [
       "<hr>"
      ],
      "text/plain": [
       "<IPython.core.display.HTML object>"
      ]
     },
     "metadata": {},
     "output_type": "display_data"
    },
    {
     "data": {
      "text/html": [
       "<strong> Tweet </strong>: 1.3- Os estabelecimentos também terão que acompanhar casos suspeitos e confirmados, orientar sobre medidas de prevenção e combate ao coronavírus e realizar o encaminhamento de casos graves a outras unidades de saúde. "
      ],
      "text/plain": [
       "<IPython.core.display.HTML object>"
      ]
     },
     "metadata": {},
     "output_type": "display_data"
    },
    {
     "data": {
      "text/html": [
       "<strong> Data </strong>: 2020-06-08 14:11:25 "
      ],
      "text/plain": [
       "<IPython.core.display.HTML object>"
      ]
     },
     "metadata": {},
     "output_type": "display_data"
    },
    {
     "data": {
      "text/html": [
       "<strong> Likes </strong>: 9692 "
      ],
      "text/plain": [
       "<IPython.core.display.HTML object>"
      ]
     },
     "metadata": {},
     "output_type": "display_data"
    },
    {
     "data": {
      "text/html": [
       "<strong> Link </strong>: <a href='https://twitter.com//jairbolsonaro/status/1270040748822495236' target='_blank'> Acessar </a> "
      ],
      "text/plain": [
       "<IPython.core.display.HTML object>"
      ]
     },
     "metadata": {},
     "output_type": "display_data"
    },
    {
     "data": {
      "text/html": [
       "<hr>"
      ],
      "text/plain": [
       "<IPython.core.display.HTML object>"
      ]
     },
     "metadata": {},
     "output_type": "display_data"
    },
    {
     "data": {
      "text/html": [
       "<strong> Tweet </strong>: 1.2- Os recursos financeiros serão repassados aos municípios que criarem Centros Comunitários de Referência e Centros de Atendimento para Enfrentamento à Covid-19, que serão responsáveis por testar a população de risco. "
      ],
      "text/plain": [
       "<IPython.core.display.HTML object>"
      ]
     },
     "metadata": {},
     "output_type": "display_data"
    },
    {
     "data": {
      "text/html": [
       "<strong> Data </strong>: 2020-06-08 14:10:53 "
      ],
      "text/plain": [
       "<IPython.core.display.HTML object>"
      ]
     },
     "metadata": {},
     "output_type": "display_data"
    },
    {
     "data": {
      "text/html": [
       "<strong> Likes </strong>: 4946 "
      ],
      "text/plain": [
       "<IPython.core.display.HTML object>"
      ]
     },
     "metadata": {},
     "output_type": "display_data"
    },
    {
     "data": {
      "text/html": [
       "<strong> Link </strong>: <a href='https://twitter.com//jairbolsonaro/status/1270040613459763205' target='_blank'> Acessar </a> "
      ],
      "text/plain": [
       "<IPython.core.display.HTML object>"
      ]
     },
     "metadata": {},
     "output_type": "display_data"
    },
    {
     "data": {
      "text/html": [
       "<hr>"
      ],
      "text/plain": [
       "<IPython.core.display.HTML object>"
      ]
     },
     "metadata": {},
     "output_type": "display_data"
    },
    {
     "data": {
      "text/html": [
       "<strong> Tweet </strong>: 1.1- Dando continuidade às ações diárias de assistência à população, o @minsaude repassa até R$ 1,2 bilhão para ampliação da rede de vigilância a casos leves da Covid-19 e criação de centros de atendimento em favelas e comunidades do país. pic.twitter.com/Cb4jNBIBMd "
      ],
      "text/plain": [
       "<IPython.core.display.HTML object>"
      ]
     },
     "metadata": {},
     "output_type": "display_data"
    },
    {
     "data": {
      "text/html": [
       "<strong> Data </strong>: 2020-06-08 14:10:21 "
      ],
      "text/plain": [
       "<IPython.core.display.HTML object>"
      ]
     },
     "metadata": {},
     "output_type": "display_data"
    },
    {
     "data": {
      "text/html": [
       "<strong> Likes </strong>: 25223 "
      ],
      "text/plain": [
       "<IPython.core.display.HTML object>"
      ]
     },
     "metadata": {},
     "output_type": "display_data"
    },
    {
     "data": {
      "text/html": [
       "<strong> Link </strong>: <a href='https://twitter.com//jairbolsonaro/status/1270040480374386738' target='_blank'> Acessar </a> "
      ],
      "text/plain": [
       "<IPython.core.display.HTML object>"
      ]
     },
     "metadata": {},
     "output_type": "display_data"
    },
    {
     "data": {
      "text/html": [
       "<hr>"
      ],
      "text/plain": [
       "<IPython.core.display.HTML object>"
      ]
     },
     "metadata": {},
     "output_type": "display_data"
    },
    {
     "data": {
      "text/html": [
       "<strong> Tweet </strong>: O @govbr , via @ItamaratyGovBr , @mdregional_br e outros se alinham com as grandes potências do mundo para passos pós e durante covid-19. Esta semana em conversas com Chanceleres da Austrália, Coreia do Sul, EUA, Índia, Israel e Emirados Árabes, Japão e Canadá. pic.twitter.com/Rc9NgEKCsc "
      ],
      "text/plain": [
       "<IPython.core.display.HTML object>"
      ]
     },
     "metadata": {},
     "output_type": "display_data"
    },
    {
     "data": {
      "text/html": [
       "<strong> Data </strong>: 2020-06-07 12:47:40 "
      ],
      "text/plain": [
       "<IPython.core.display.HTML object>"
      ]
     },
     "metadata": {},
     "output_type": "display_data"
    },
    {
     "data": {
      "text/html": [
       "<strong> Likes </strong>: 27201 "
      ],
      "text/plain": [
       "<IPython.core.display.HTML object>"
      ]
     },
     "metadata": {},
     "output_type": "display_data"
    },
    {
     "data": {
      "text/html": [
       "<strong> Link </strong>: <a href='https://twitter.com//jairbolsonaro/status/1269657286382948353' target='_blank'> Acessar </a> "
      ],
      "text/plain": [
       "<IPython.core.display.HTML object>"
      ]
     },
     "metadata": {},
     "output_type": "display_data"
    },
    {
     "data": {
      "text/html": [
       "<hr>"
      ],
      "text/plain": [
       "<IPython.core.display.HTML object>"
      ]
     },
     "metadata": {},
     "output_type": "display_data"
    },
    {
     "data": {
      "text/html": [
       "<strong> Tweet </strong>: 6- Além das operações da @CGUonline e demais autoridades no combate à possíveis desvios de dinheiro do pagador de impostos, mais um grupo de profissionais do Programa “Brasil Conta Comigo” embarcou para Macapá/AP para reforçar o combate ao covid-19. pic.twitter.com/rQ37h8OKxS "
      ],
      "text/plain": [
       "<IPython.core.display.HTML object>"
      ]
     },
     "metadata": {},
     "output_type": "display_data"
    },
    {
     "data": {
      "text/html": [
       "<strong> Data </strong>: 2020-06-07 08:06:42 "
      ],
      "text/plain": [
       "<IPython.core.display.HTML object>"
      ]
     },
     "metadata": {},
     "output_type": "display_data"
    },
    {
     "data": {
      "text/html": [
       "<strong> Likes </strong>: 7344 "
      ],
      "text/plain": [
       "<IPython.core.display.HTML object>"
      ]
     },
     "metadata": {},
     "output_type": "display_data"
    },
    {
     "data": {
      "text/html": [
       "<strong> Link </strong>: <a href='https://twitter.com//jairbolsonaro/status/1269586578529300480' target='_blank'> Acessar </a> "
      ],
      "text/plain": [
       "<IPython.core.display.HTML object>"
      ]
     },
     "metadata": {},
     "output_type": "display_data"
    },
    {
     "data": {
      "text/html": [
       "<hr>"
      ],
      "text/plain": [
       "<IPython.core.display.HTML object>"
      ]
     },
     "metadata": {},
     "output_type": "display_data"
    },
    {
     "data": {
      "text/html": [
       "<strong> Tweet </strong>: 1- O @govbr estrutura laboratórios públicos ampliando a testagem e diagnóstico do covid-19 no  . Assista ao vídeo e obtenha detalhes: @minsaude pic.twitter.com/xMBn9EXKtr "
      ],
      "text/plain": [
       "<IPython.core.display.HTML object>"
      ]
     },
     "metadata": {},
     "output_type": "display_data"
    },
    {
     "data": {
      "text/html": [
       "<strong> Data </strong>: 2020-06-07 07:44:06 "
      ],
      "text/plain": [
       "<IPython.core.display.HTML object>"
      ]
     },
     "metadata": {},
     "output_type": "display_data"
    },
    {
     "data": {
      "text/html": [
       "<strong> Likes </strong>: 21335 "
      ],
      "text/plain": [
       "<IPython.core.display.HTML object>"
      ]
     },
     "metadata": {},
     "output_type": "display_data"
    },
    {
     "data": {
      "text/html": [
       "<strong> Link </strong>: <a href='https://twitter.com//jairbolsonaro/status/1269580888687480833' target='_blank'> Acessar </a> "
      ],
      "text/plain": [
       "<IPython.core.display.HTML object>"
      ]
     },
     "metadata": {},
     "output_type": "display_data"
    },
    {
     "data": {
      "text/html": [
       "<hr>"
      ],
      "text/plain": [
       "<IPython.core.display.HTML object>"
      ]
     },
     "metadata": {},
     "output_type": "display_data"
    },
    {
     "data": {
      "text/html": [
       "<strong> Tweet </strong>: L- Hoje (6/6), um KC-390 da FAB decolou de Brasília/DF transportando profissionais de saúde e 1,9 tonelada de equipamentos e insumos para apoio ao combate à COVID19 em São Gabriel da Cachoeira/AM e região. @DefesaGovBr @fab_oficial pic.twitter.com/IyYR8Km4NQ "
      ],
      "text/plain": [
       "<IPython.core.display.HTML object>"
      ]
     },
     "metadata": {},
     "output_type": "display_data"
    },
    {
     "data": {
      "text/html": [
       "<strong> Data </strong>: 2020-06-06 13:28:49 "
      ],
      "text/plain": [
       "<IPython.core.display.HTML object>"
      ]
     },
     "metadata": {},
     "output_type": "display_data"
    },
    {
     "data": {
      "text/html": [
       "<strong> Likes </strong>: 11257 "
      ],
      "text/plain": [
       "<IPython.core.display.HTML object>"
      ]
     },
     "metadata": {},
     "output_type": "display_data"
    },
    {
     "data": {
      "text/html": [
       "<strong> Link </strong>: <a href='https://twitter.com//jairbolsonaro/status/1269305254752944131' target='_blank'> Acessar </a> "
      ],
      "text/plain": [
       "<IPython.core.display.HTML object>"
      ]
     },
     "metadata": {},
     "output_type": "display_data"
    },
    {
     "data": {
      "text/html": [
       "<hr>"
      ],
      "text/plain": [
       "<IPython.core.display.HTML object>"
      ]
     },
     "metadata": {},
     "output_type": "display_data"
    },
    {
     "data": {
      "text/html": [
       "<strong> Tweet </strong>: G. @Mapa_Brasil @TerezaCrisMS antecipou de forma inédita a liberação dos recursos do Fundo de Defesa da Economia Cafeeira (Funcafé). A liberação que só ocorreria em julho objetiva apoiar o setor neste momento de crise da covid-19; pic.twitter.com/7llKvMJYAN "
      ],
      "text/plain": [
       "<IPython.core.display.HTML object>"
      ]
     },
     "metadata": {},
     "output_type": "display_data"
    },
    {
     "data": {
      "text/html": [
       "<strong> Data </strong>: 2020-06-06 13:13:28 "
      ],
      "text/plain": [
       "<IPython.core.display.HTML object>"
      ]
     },
     "metadata": {},
     "output_type": "display_data"
    },
    {
     "data": {
      "text/html": [
       "<strong> Likes </strong>: 4803 "
      ],
      "text/plain": [
       "<IPython.core.display.HTML object>"
      ]
     },
     "metadata": {},
     "output_type": "display_data"
    },
    {
     "data": {
      "text/html": [
       "<strong> Link </strong>: <a href='https://twitter.com//jairbolsonaro/status/1269301388103868416' target='_blank'> Acessar </a> "
      ],
      "text/plain": [
       "<IPython.core.display.HTML object>"
      ]
     },
     "metadata": {},
     "output_type": "display_data"
    },
    {
     "data": {
      "text/html": [
       "<hr>"
      ],
      "text/plain": [
       "<IPython.core.display.HTML object>"
      ]
     },
     "metadata": {},
     "output_type": "display_data"
    },
    {
     "data": {
      "text/html": [
       "<strong> Tweet </strong>: .DIVULGAÇÕES DIÁRIAS NAS REDES SOCIAIS DESDE O INÍCIO:\n",
       "\n",
       "A1. O @govbr dá mais um passo em direção ao desenvolvimento de uma vacina contra a covid-19. Portaria da Anvisa autoriza a realização de testes clínicos de uma potencial vacina pela Universidade de Oxford. pic.twitter.com/6CRM9Zhv6A "
      ],
      "text/plain": [
       "<IPython.core.display.HTML object>"
      ]
     },
     "metadata": {},
     "output_type": "display_data"
    },
    {
     "data": {
      "text/html": [
       "<strong> Data </strong>: 2020-06-06 12:55:33 "
      ],
      "text/plain": [
       "<IPython.core.display.HTML object>"
      ]
     },
     "metadata": {},
     "output_type": "display_data"
    },
    {
     "data": {
      "text/html": [
       "<strong> Likes </strong>: 25023 "
      ],
      "text/plain": [
       "<IPython.core.display.HTML object>"
      ]
     },
     "metadata": {},
     "output_type": "display_data"
    },
    {
     "data": {
      "text/html": [
       "<strong> Link </strong>: <a href='https://twitter.com//jairbolsonaro/status/1269296881940783109' target='_blank'> Acessar </a> "
      ],
      "text/plain": [
       "<IPython.core.display.HTML object>"
      ]
     },
     "metadata": {},
     "output_type": "display_data"
    },
    {
     "data": {
      "text/html": [
       "<hr>"
      ],
      "text/plain": [
       "<IPython.core.display.HTML object>"
      ]
     },
     "metadata": {},
     "output_type": "display_data"
    },
    {
     "data": {
      "text/html": [
       "<strong> Tweet </strong>: 1- O @minsaude adequou a divulgação dos dados sobre casos e mortes relacionados ao Covid-19.\n",
       "\n",
       "Ao longo do enfrentamento da doença, a coleta de informações evoluiu com capacitação e serviços laboratoriais. As medidas, assim, permitem obter dados mais precisos sobre cada região. "
      ],
      "text/plain": [
       "<IPython.core.display.HTML object>"
      ]
     },
     "metadata": {},
     "output_type": "display_data"
    },
    {
     "data": {
      "text/html": [
       "<strong> Data </strong>: 2020-06-06 09:14:41 "
      ],
      "text/plain": [
       "<IPython.core.display.HTML object>"
      ]
     },
     "metadata": {},
     "output_type": "display_data"
    },
    {
     "data": {
      "text/html": [
       "<strong> Likes </strong>: 37718 "
      ],
      "text/plain": [
       "<IPython.core.display.HTML object>"
      ]
     },
     "metadata": {},
     "output_type": "display_data"
    },
    {
     "data": {
      "text/html": [
       "<strong> Link </strong>: <a href='https://twitter.com//jairbolsonaro/status/1269241298801831937' target='_blank'> Acessar </a> "
      ],
      "text/plain": [
       "<IPython.core.display.HTML object>"
      ]
     },
     "metadata": {},
     "output_type": "display_data"
    },
    {
     "data": {
      "text/html": [
       "<hr>"
      ],
      "text/plain": [
       "<IPython.core.display.HTML object>"
      ]
     },
     "metadata": {},
     "output_type": "display_data"
    },
    {
     "data": {
      "text/html": [
       "<strong> Tweet </strong>: 13. O @govbr vetou a proposição de lei que repassava + R$ 8,6 bi a estados e municípios p/ não cometer crime de responsabilidade fiscal. Em 28 de maio, foi sancionada lei de envio de R$S 60 bi p/ o combate ao covid-19, além de créditos e ações do @minsaude . Ministro @jorgeofco "
      ],
      "text/plain": [
       "<IPython.core.display.HTML object>"
      ]
     },
     "metadata": {},
     "output_type": "display_data"
    },
    {
     "data": {
      "text/html": [
       "<strong> Data </strong>: 2020-06-04 12:19:12 "
      ],
      "text/plain": [
       "<IPython.core.display.HTML object>"
      ]
     },
     "metadata": {},
     "output_type": "display_data"
    },
    {
     "data": {
      "text/html": [
       "<strong> Likes </strong>: 10911 "
      ],
      "text/plain": [
       "<IPython.core.display.HTML object>"
      ]
     },
     "metadata": {},
     "output_type": "display_data"
    },
    {
     "data": {
      "text/html": [
       "<strong> Link </strong>: <a href='https://twitter.com//jairbolsonaro/status/1268562958986153985' target='_blank'> Acessar </a> "
      ],
      "text/plain": [
       "<IPython.core.display.HTML object>"
      ]
     },
     "metadata": {},
     "output_type": "display_data"
    },
    {
     "data": {
      "text/html": [
       "<hr>"
      ],
      "text/plain": [
       "<IPython.core.display.HTML object>"
      ]
     },
     "metadata": {},
     "output_type": "display_data"
    },
    {
     "data": {
      "text/html": [
       "<strong> Tweet </strong>: 7. O Governo Federal faz parte de iniciativa internacional para compartilhar tecnologia, informação e acelerar desenvolvimento de vacinas, testes e tratamentos contra o coronavírus e outros. O “Acelerador de Vacinas”envolve 44 países. @mctic @Astro_Pontes "
      ],
      "text/plain": [
       "<IPython.core.display.HTML object>"
      ]
     },
     "metadata": {},
     "output_type": "display_data"
    },
    {
     "data": {
      "text/html": [
       "<strong> Data </strong>: 2020-06-04 12:11:41 "
      ],
      "text/plain": [
       "<IPython.core.display.HTML object>"
      ]
     },
     "metadata": {},
     "output_type": "display_data"
    },
    {
     "data": {
      "text/html": [
       "<strong> Likes </strong>: 3556 "
      ],
      "text/plain": [
       "<IPython.core.display.HTML object>"
      ]
     },
     "metadata": {},
     "output_type": "display_data"
    },
    {
     "data": {
      "text/html": [
       "<strong> Link </strong>: <a href='https://twitter.com//jairbolsonaro/status/1268561064628760578' target='_blank'> Acessar </a> "
      ],
      "text/plain": [
       "<IPython.core.display.HTML object>"
      ]
     },
     "metadata": {},
     "output_type": "display_data"
    },
    {
     "data": {
      "text/html": [
       "<hr>"
      ],
      "text/plain": [
       "<IPython.core.display.HTML object>"
      ]
     },
     "metadata": {},
     "output_type": "display_data"
    },
    {
     "data": {
      "text/html": [
       "<strong> Tweet </strong>: 2. Esta semana, mais 410 moradias serão entregues para famílias de baixa renda no RS; @mdregional_br @rogeriosmarinho \n",
       "\n",
       "3. Desenvolvimento, no Instituto Tecnológico da Aeronáuica, de equipamento que identifica o coronavírus no ar; @fab_oficial "
      ],
      "text/plain": [
       "<IPython.core.display.HTML object>"
      ]
     },
     "metadata": {},
     "output_type": "display_data"
    },
    {
     "data": {
      "text/html": [
       "<strong> Data </strong>: 2020-06-04 11:57:23 "
      ],
      "text/plain": [
       "<IPython.core.display.HTML object>"
      ]
     },
     "metadata": {},
     "output_type": "display_data"
    },
    {
     "data": {
      "text/html": [
       "<strong> Likes </strong>: 3921 "
      ],
      "text/plain": [
       "<IPython.core.display.HTML object>"
      ]
     },
     "metadata": {},
     "output_type": "display_data"
    },
    {
     "data": {
      "text/html": [
       "<strong> Link </strong>: <a href='https://twitter.com//jairbolsonaro/status/1268557465983037440' target='_blank'> Acessar </a> "
      ],
      "text/plain": [
       "<IPython.core.display.HTML object>"
      ]
     },
     "metadata": {},
     "output_type": "display_data"
    },
    {
     "data": {
      "text/html": [
       "<hr>"
      ],
      "text/plain": [
       "<IPython.core.display.HTML object>"
      ]
     },
     "metadata": {},
     "output_type": "display_data"
    },
    {
     "data": {
      "text/html": [
       "<strong> Tweet </strong>: 3.1- As obras executadas pelo @govbr não pararam durante a pandemia do coronavírus. Só nos últimos 90 dias, 21 obras de infraestrutura nos setores rodoviário, aeroviário, ferroviário e hidroviário foram entregues aos brasileiros. @MInfraestrutura pic.twitter.com/LJunjdKgpB "
      ],
      "text/plain": [
       "<IPython.core.display.HTML object>"
      ]
     },
     "metadata": {},
     "output_type": "display_data"
    },
    {
     "data": {
      "text/html": [
       "<strong> Data </strong>: 2020-06-03 16:02:11 "
      ],
      "text/plain": [
       "<IPython.core.display.HTML object>"
      ]
     },
     "metadata": {},
     "output_type": "display_data"
    },
    {
     "data": {
      "text/html": [
       "<strong> Likes </strong>: 6117 "
      ],
      "text/plain": [
       "<IPython.core.display.HTML object>"
      ]
     },
     "metadata": {},
     "output_type": "display_data"
    },
    {
     "data": {
      "text/html": [
       "<strong> Link </strong>: <a href='https://twitter.com//jairbolsonaro/status/1268256684637552641' target='_blank'> Acessar </a> "
      ],
      "text/plain": [
       "<IPython.core.display.HTML object>"
      ]
     },
     "metadata": {},
     "output_type": "display_data"
    },
    {
     "data": {
      "text/html": [
       "<hr>"
      ],
      "text/plain": [
       "<IPython.core.display.HTML object>"
      ]
     },
     "metadata": {},
     "output_type": "display_data"
    },
    {
     "data": {
      "text/html": [
       "<strong> Tweet </strong>: 1.2- Para acompanhar, basta acessar: https://bit.ly/painel-compras-covid …. Quem encontrar irregularidades ou tiver alguma dúvida pode entrar em contato com a Ouvidoria da Controladoria-Geral da União (CGU) no portal https://bit.ly/portal-falabr . "
      ],
      "text/plain": [
       "<IPython.core.display.HTML object>"
      ]
     },
     "metadata": {},
     "output_type": "display_data"
    },
    {
     "data": {
      "text/html": [
       "<strong> Data </strong>: 2020-06-03 15:57:44 "
      ],
      "text/plain": [
       "<IPython.core.display.HTML object>"
      ]
     },
     "metadata": {},
     "output_type": "display_data"
    },
    {
     "data": {
      "text/html": [
       "<strong> Likes </strong>: 5114 "
      ],
      "text/plain": [
       "<IPython.core.display.HTML object>"
      ]
     },
     "metadata": {},
     "output_type": "display_data"
    },
    {
     "data": {
      "text/html": [
       "<strong> Link </strong>: <a href='https://twitter.com//jairbolsonaro/status/1268255566113243138' target='_blank'> Acessar </a> "
      ],
      "text/plain": [
       "<IPython.core.display.HTML object>"
      ]
     },
     "metadata": {},
     "output_type": "display_data"
    },
    {
     "data": {
      "text/html": [
       "<hr>"
      ],
      "text/plain": [
       "<IPython.core.display.HTML object>"
      ]
     },
     "metadata": {},
     "output_type": "display_data"
    },
    {
     "data": {
      "text/html": [
       "<strong> Tweet </strong>: C. Sanção da lei que desburocratiza e agiliza importação de produtos de combate ao covid-19;\n",
       "\n",
       "D. R$ 1,8 bilhão investidos em compras de insumos de saúde para o enfrentamento do vírus; @minsaude \n",
       "\n",
       "E. R$ 500 milhões empenhados pelo @MTurismo para financiar empresas do setor; "
      ],
      "text/plain": [
       "<IPython.core.display.HTML object>"
      ]
     },
     "metadata": {},
     "output_type": "display_data"
    },
    {
     "data": {
      "text/html": [
       "<strong> Data </strong>: 2020-06-03 06:46:00 "
      ],
      "text/plain": [
       "<IPython.core.display.HTML object>"
      ]
     },
     "metadata": {},
     "output_type": "display_data"
    },
    {
     "data": {
      "text/html": [
       "<strong> Likes </strong>: 5338 "
      ],
      "text/plain": [
       "<IPython.core.display.HTML object>"
      ]
     },
     "metadata": {},
     "output_type": "display_data"
    },
    {
     "data": {
      "text/html": [
       "<strong> Link </strong>: <a href='https://twitter.com//jairbolsonaro/status/1268116718188199936' target='_blank'> Acessar </a> "
      ],
      "text/plain": [
       "<IPython.core.display.HTML object>"
      ]
     },
     "metadata": {},
     "output_type": "display_data"
    },
    {
     "data": {
      "text/html": [
       "<hr>"
      ],
      "text/plain": [
       "<IPython.core.display.HTML object>"
      ]
     },
     "metadata": {},
     "output_type": "display_data"
    },
    {
     "data": {
      "text/html": [
       "<strong> Tweet </strong>: 6- O RN acaba de receber quase três toneladas de EPIs, enviados pelo @minsaude para o enfrentamento da covid-19 no Estado. São 358 caixas, com peso total de 2.940kg. Essa é mais uma confirmação das ações do governo federal junto de estados. @fabiofaria5555 @MInfraestrutura pic.twitter.com/qOsjoXZ4C5 "
      ],
      "text/plain": [
       "<IPython.core.display.HTML object>"
      ]
     },
     "metadata": {},
     "output_type": "display_data"
    },
    {
     "data": {
      "text/html": [
       "<strong> Data </strong>: 2020-06-02 16:19:21 "
      ],
      "text/plain": [
       "<IPython.core.display.HTML object>"
      ]
     },
     "metadata": {},
     "output_type": "display_data"
    },
    {
     "data": {
      "text/html": [
       "<strong> Likes </strong>: 14489 "
      ],
      "text/plain": [
       "<IPython.core.display.HTML object>"
      ]
     },
     "metadata": {},
     "output_type": "display_data"
    },
    {
     "data": {
      "text/html": [
       "<strong> Link </strong>: <a href='https://twitter.com//jairbolsonaro/status/1267898618889023495' target='_blank'> Acessar </a> "
      ],
      "text/plain": [
       "<IPython.core.display.HTML object>"
      ]
     },
     "metadata": {},
     "output_type": "display_data"
    },
    {
     "data": {
      "text/html": [
       "<hr>"
      ],
      "text/plain": [
       "<IPython.core.display.HTML object>"
      ]
     },
     "metadata": {},
     "output_type": "display_data"
    },
    {
     "data": {
      "text/html": [
       "<strong> Tweet </strong>: 2- A média diária de exames p/ detecção da Covid-19 dos Laboratórios Centrais de Saúde Pública passou de 1.689 em março p/ 7.624 em maio. Crescimento de 451% no total de testes realizados/dia. Dedicação de profissionais, permitindo que os setores funcionem 24h/dia, 7 dias/semana. pic.twitter.com/dFYjeEhcAb "
      ],
      "text/plain": [
       "<IPython.core.display.HTML object>"
      ]
     },
     "metadata": {},
     "output_type": "display_data"
    },
    {
     "data": {
      "text/html": [
       "<strong> Data </strong>: 2020-06-02 16:16:28 "
      ],
      "text/plain": [
       "<IPython.core.display.HTML object>"
      ]
     },
     "metadata": {},
     "output_type": "display_data"
    },
    {
     "data": {
      "text/html": [
       "<strong> Likes </strong>: 10504 "
      ],
      "text/plain": [
       "<IPython.core.display.HTML object>"
      ]
     },
     "metadata": {},
     "output_type": "display_data"
    },
    {
     "data": {
      "text/html": [
       "<strong> Link </strong>: <a href='https://twitter.com//jairbolsonaro/status/1267897890023919617' target='_blank'> Acessar </a> "
      ],
      "text/plain": [
       "<IPython.core.display.HTML object>"
      ]
     },
     "metadata": {},
     "output_type": "display_data"
    },
    {
     "data": {
      "text/html": [
       "<hr>"
      ],
      "text/plain": [
       "<IPython.core.display.HTML object>"
      ]
     },
     "metadata": {},
     "output_type": "display_data"
    },
    {
     "data": {
      "text/html": [
       "<strong> Tweet </strong>: . 1744 leitos de UTI habilitados para o coronavírus;\n",
       ". 93.801.637 de EPIs enviados aos estados;\n",
       ". 15 mil respiradores adquiridos e consertados;\n",
       ". R$ 417,7 bilhões investidos no combate direto ao vírus (ESTADOS E MUNICÍPIOS).\n",
       "\n",
       "- O BRASIL NÃO PODE PARAR! "
      ],
      "text/plain": [
       "<IPython.core.display.HTML object>"
      ]
     },
     "metadata": {},
     "output_type": "display_data"
    },
    {
     "data": {
      "text/html": [
       "<strong> Data </strong>: 2020-06-01 13:06:42 "
      ],
      "text/plain": [
       "<IPython.core.display.HTML object>"
      ]
     },
     "metadata": {},
     "output_type": "display_data"
    },
    {
     "data": {
      "text/html": [
       "<strong> Likes </strong>: 20179 "
      ],
      "text/plain": [
       "<IPython.core.display.HTML object>"
      ]
     },
     "metadata": {},
     "output_type": "display_data"
    },
    {
     "data": {
      "text/html": [
       "<strong> Link </strong>: <a href='https://twitter.com//jairbolsonaro/status/1267487748119826432' target='_blank'> Acessar </a> "
      ],
      "text/plain": [
       "<IPython.core.display.HTML object>"
      ]
     },
     "metadata": {},
     "output_type": "display_data"
    },
    {
     "data": {
      "text/html": [
       "<hr>"
      ],
      "text/plain": [
       "<IPython.core.display.HTML object>"
      ]
     },
     "metadata": {},
     "output_type": "display_data"
    },
    {
     "data": {
      "text/html": [
       "<strong> Tweet </strong>: - Conforme divulgação diária nos órgãos do @govbr , seguem mais alguns pontos até aqui:\n",
       "\n",
       ". 11,4 milhões de medicamentos distribuídos;\n",
       ". 14 mil novos médicos;\n",
       ". 10, 6 milhões de testes enviados aos estados;\n",
       ". Impostos zerados sobre os insumos do covid-19; @minsaude / @MinEconomia "
      ],
      "text/plain": [
       "<IPython.core.display.HTML object>"
      ]
     },
     "metadata": {},
     "output_type": "display_data"
    },
    {
     "data": {
      "text/html": [
       "<strong> Data </strong>: 2020-06-01 13:06:27 "
      ],
      "text/plain": [
       "<IPython.core.display.HTML object>"
      ]
     },
     "metadata": {},
     "output_type": "display_data"
    },
    {
     "data": {
      "text/html": [
       "<strong> Likes </strong>: 32569 "
      ],
      "text/plain": [
       "<IPython.core.display.HTML object>"
      ]
     },
     "metadata": {},
     "output_type": "display_data"
    },
    {
     "data": {
      "text/html": [
       "<strong> Link </strong>: <a href='https://twitter.com//jairbolsonaro/status/1267487684148297728' target='_blank'> Acessar </a> "
      ],
      "text/plain": [
       "<IPython.core.display.HTML object>"
      ]
     },
     "metadata": {},
     "output_type": "display_data"
    },
    {
     "data": {
      "text/html": [
       "<hr>"
      ],
      "text/plain": [
       "<IPython.core.display.HTML object>"
      ]
     },
     "metadata": {},
     "output_type": "display_data"
    },
    {
     "data": {
      "text/html": [
       "<strong> Tweet </strong>: Cooperação Brasil-EUA no combate ao Covid-19 continua avançando. Chegaram hoje ao Brasil 2 milhões de doses de hidroxicloroquina doadas pelos EUA. Colaboraremos com os EUA na pesquisa clínica da hidroxicloroquina e no desenvolvimento de uma vacina.\n",
       " http://www.itamaraty.gov.br/pt-BR/notas-a-imprensa/21544-declaracao-conjunta-dos-governos-da-republica-federativa-do-brasil-e-dos-estados-unidos-da-america-relativa-a-cooperacao-em-saude-2 … "
      ],
      "text/plain": [
       "<IPython.core.display.HTML object>"
      ]
     },
     "metadata": {},
     "output_type": "display_data"
    },
    {
     "data": {
      "text/html": [
       "<strong> Data </strong>: 2020-05-31 19:26:32 "
      ],
      "text/plain": [
       "<IPython.core.display.HTML object>"
      ]
     },
     "metadata": {},
     "output_type": "display_data"
    },
    {
     "data": {
      "text/html": [
       "<strong> Likes </strong>: 36187 "
      ],
      "text/plain": [
       "<IPython.core.display.HTML object>"
      ]
     },
     "metadata": {},
     "output_type": "display_data"
    },
    {
     "data": {
      "text/html": [
       "<strong> Link </strong>: <a href='https://twitter.com//ernestofaraujo/status/1267220946953408513' target='_blank'> Acessar </a> "
      ],
      "text/plain": [
       "<IPython.core.display.HTML object>"
      ]
     },
     "metadata": {},
     "output_type": "display_data"
    },
    {
     "data": {
      "text/html": [
       "<hr>"
      ],
      "text/plain": [
       "<IPython.core.display.HTML object>"
      ]
     },
     "metadata": {},
     "output_type": "display_data"
    },
    {
     "data": {
      "text/html": [
       "<strong> Tweet </strong>: MAIS AÇÕES DO GOVERNO DO BRASIL desenvolvidas na terceira semana de maio. (Parte 3)\n",
       "\n",
       "A. 5,8% do PIB em esforço fiscal disponíveis para o combate ao covid-19. Proporcionalmente um dos maiores investimentos dos países emergentes no mundo; "
      ],
      "text/plain": [
       "<IPython.core.display.HTML object>"
      ]
     },
     "metadata": {},
     "output_type": "display_data"
    },
    {
     "data": {
      "text/html": [
       "<strong> Data </strong>: 2020-05-31 14:28:02 "
      ],
      "text/plain": [
       "<IPython.core.display.HTML object>"
      ]
     },
     "metadata": {},
     "output_type": "display_data"
    },
    {
     "data": {
      "text/html": [
       "<strong> Likes </strong>: 29584 "
      ],
      "text/plain": [
       "<IPython.core.display.HTML object>"
      ]
     },
     "metadata": {},
     "output_type": "display_data"
    },
    {
     "data": {
      "text/html": [
       "<strong> Link </strong>: <a href='https://twitter.com//jairbolsonaro/status/1267145828856139782' target='_blank'> Acessar </a> "
      ],
      "text/plain": [
       "<IPython.core.display.HTML object>"
      ]
     },
     "metadata": {},
     "output_type": "display_data"
    },
    {
     "data": {
      "text/html": [
       "<hr>"
      ],
      "text/plain": [
       "<IPython.core.display.HTML object>"
      ]
     },
     "metadata": {},
     "output_type": "display_data"
    },
    {
     "data": {
      "text/html": [
       "<strong> Tweet </strong>: 8- 1.738 leitos exclusivos para covid-19 em Hospitais Universitários; @MEC_Comunicacao \n",
       "\n",
       "9- Inauguração e Ala Indígena no Hospital de Manaus; @minsaude \n",
       "\n",
       "10- Construção de centro hospitalar na Fiocruz para tratar casos graves de covid-19; @minsaude "
      ],
      "text/plain": [
       "<IPython.core.display.HTML object>"
      ]
     },
     "metadata": {},
     "output_type": "display_data"
    },
    {
     "data": {
      "text/html": [
       "<strong> Data </strong>: 2020-05-31 06:37:52 "
      ],
      "text/plain": [
       "<IPython.core.display.HTML object>"
      ]
     },
     "metadata": {},
     "output_type": "display_data"
    },
    {
     "data": {
      "text/html": [
       "<strong> Likes </strong>: 5712 "
      ],
      "text/plain": [
       "<IPython.core.display.HTML object>"
      ]
     },
     "metadata": {},
     "output_type": "display_data"
    },
    {
     "data": {
      "text/html": [
       "<strong> Link </strong>: <a href='https://twitter.com//jairbolsonaro/status/1267027505208311808' target='_blank'> Acessar </a> "
      ],
      "text/plain": [
       "<IPython.core.display.HTML object>"
      ]
     },
     "metadata": {},
     "output_type": "display_data"
    },
    {
     "data": {
      "text/html": [
       "<hr>"
      ],
      "text/plain": [
       "<IPython.core.display.HTML object>"
      ]
     },
     "metadata": {},
     "output_type": "display_data"
    },
    {
     "data": {
      "text/html": [
       "<strong> Tweet </strong>: 6- 1.612 respiradores entregues nos estados e força tarefa reforma mais centenas destes aparelhos no Brasil ; @minsaude e @mctic \n",
       "\n",
       "7- Nota informativa com orientações para uso da hidroxicloroquina no tratamento precoce da covid-19; @minsaude "
      ],
      "text/plain": [
       "<IPython.core.display.HTML object>"
      ]
     },
     "metadata": {},
     "output_type": "display_data"
    },
    {
     "data": {
      "text/html": [
       "<strong> Data </strong>: 2020-05-31 06:35:44 "
      ],
      "text/plain": [
       "<IPython.core.display.HTML object>"
      ]
     },
     "metadata": {},
     "output_type": "display_data"
    },
    {
     "data": {
      "text/html": [
       "<strong> Likes </strong>: 6044 "
      ],
      "text/plain": [
       "<IPython.core.display.HTML object>"
      ]
     },
     "metadata": {},
     "output_type": "display_data"
    },
    {
     "data": {
      "text/html": [
       "<strong> Link </strong>: <a href='https://twitter.com//jairbolsonaro/status/1267026968026902528' target='_blank'> Acessar </a> "
      ],
      "text/plain": [
       "<IPython.core.display.HTML object>"
      ]
     },
     "metadata": {},
     "output_type": "display_data"
    },
    {
     "data": {
      "text/html": [
       "<hr>"
      ],
      "text/plain": [
       "<IPython.core.display.HTML object>"
      ]
     },
     "metadata": {},
     "output_type": "display_data"
    },
    {
     "data": {
      "text/html": [
       "<strong> Tweet </strong>: 3- Governo Americano anuncia doação de 1.000 respiradores ao Brasil; @ItamaratyGovBr \n",
       "\n",
       "4- Autorizada a contratação de mais de 5.158 profissionais de saúde; @MinEconomia \n",
       "\n",
       "5- 6.459 leitos de UTI exclusivos para covid-19 habilitados em todo Brasil; @minsaude "
      ],
      "text/plain": [
       "<IPython.core.display.HTML object>"
      ]
     },
     "metadata": {},
     "output_type": "display_data"
    },
    {
     "data": {
      "text/html": [
       "<strong> Data </strong>: 2020-05-31 06:34:29 "
      ],
      "text/plain": [
       "<IPython.core.display.HTML object>"
      ]
     },
     "metadata": {},
     "output_type": "display_data"
    },
    {
     "data": {
      "text/html": [
       "<strong> Likes </strong>: 6298 "
      ],
      "text/plain": [
       "<IPython.core.display.HTML object>"
      ]
     },
     "metadata": {},
     "output_type": "display_data"
    },
    {
     "data": {
      "text/html": [
       "<strong> Link </strong>: <a href='https://twitter.com//jairbolsonaro/status/1267026657136848896' target='_blank'> Acessar </a> "
      ],
      "text/plain": [
       "<IPython.core.display.HTML object>"
      ]
     },
     "metadata": {},
     "output_type": "display_data"
    },
    {
     "data": {
      "text/html": [
       "<hr>"
      ],
      "text/plain": [
       "<IPython.core.display.HTML object>"
      ]
     },
     "metadata": {},
     "output_type": "display_data"
    },
    {
     "data": {
      "text/html": [
       "<strong> Tweet </strong>: - DIVULGAÇÃO DE AÇÕES DIÁRIAS DO @govbr (terceira semana de maio)\n",
       "\n",
       "1- Mais de 200 mil brasileiros curados da covid-19; @minsaude \n",
       "\n",
       "2- Mais 115 milhões de medicamentos, testes e EPIs distribuídos; @DefesaGovBr e @MInfraestrutura "
      ],
      "text/plain": [
       "<IPython.core.display.HTML object>"
      ]
     },
     "metadata": {},
     "output_type": "display_data"
    },
    {
     "data": {
      "text/html": [
       "<strong> Data </strong>: 2020-05-31 06:32:47 "
      ],
      "text/plain": [
       "<IPython.core.display.HTML object>"
      ]
     },
     "metadata": {},
     "output_type": "display_data"
    },
    {
     "data": {
      "text/html": [
       "<strong> Likes </strong>: 32838 "
      ],
      "text/plain": [
       "<IPython.core.display.HTML object>"
      ]
     },
     "metadata": {},
     "output_type": "display_data"
    },
    {
     "data": {
      "text/html": [
       "<strong> Link </strong>: <a href='https://twitter.com//jairbolsonaro/status/1267026227799490560' target='_blank'> Acessar </a> "
      ],
      "text/plain": [
       "<IPython.core.display.HTML object>"
      ]
     },
     "metadata": {},
     "output_type": "display_data"
    },
    {
     "data": {
      "text/html": [
       "<hr>"
      ],
      "text/plain": [
       "<IPython.core.display.HTML object>"
      ]
     },
     "metadata": {},
     "output_type": "display_data"
    },
    {
     "data": {
      "text/html": [
       "<strong> Tweet </strong>: 3- 1.218 municípios já contam com o reforço de mais 3.314 médicos no atendimento a pacientes com Covid-19. O aumento no número de profissionais é resultado de duas primeiras chamadas do Edital nº 5/20, lançado emergencialmente como medida de enfrentamento à pandemia. @minsaude "
      ],
      "text/plain": [
       "<IPython.core.display.HTML object>"
      ]
     },
     "metadata": {},
     "output_type": "display_data"
    },
    {
     "data": {
      "text/html": [
       "<strong> Data </strong>: 2020-05-21 06:44:05 "
      ],
      "text/plain": [
       "<IPython.core.display.HTML object>"
      ]
     },
     "metadata": {},
     "output_type": "display_data"
    },
    {
     "data": {
      "text/html": [
       "<strong> Likes </strong>: 17808 "
      ],
      "text/plain": [
       "<IPython.core.display.HTML object>"
      ]
     },
     "metadata": {},
     "output_type": "display_data"
    },
    {
     "data": {
      "text/html": [
       "<strong> Link </strong>: <a href='https://twitter.com//jairbolsonaro/status/1263405192801812481' target='_blank'> Acessar </a> "
      ],
      "text/plain": [
       "<IPython.core.display.HTML object>"
      ]
     },
     "metadata": {},
     "output_type": "display_data"
    },
    {
     "data": {
      "text/html": [
       "<hr>"
      ],
      "text/plain": [
       "<IPython.core.display.HTML object>"
      ]
     },
     "metadata": {},
     "output_type": "display_data"
    },
    {
     "data": {
      "text/html": [
       "<strong> Tweet </strong>: - @govbr libera recursos ao @mctic para cerca de 100 projetos:\n",
       "\n",
       "1. Internet ( interligando 16.000 unidades básicas de saúde de todo país, também as de localidades mais isoladas);\n",
       "\n",
       "2. Testes em andamento de medicamento no combate ao covid-19 e outras epidemias; pic.twitter.com/gckMhtHxXx "
      ],
      "text/plain": [
       "<IPython.core.display.HTML object>"
      ]
     },
     "metadata": {},
     "output_type": "display_data"
    },
    {
     "data": {
      "text/html": [
       "<strong> Data </strong>: 2020-05-20 17:20:40 "
      ],
      "text/plain": [
       "<IPython.core.display.HTML object>"
      ]
     },
     "metadata": {},
     "output_type": "display_data"
    },
    {
     "data": {
      "text/html": [
       "<strong> Likes </strong>: 18782 "
      ],
      "text/plain": [
       "<IPython.core.display.HTML object>"
      ]
     },
     "metadata": {},
     "output_type": "display_data"
    },
    {
     "data": {
      "text/html": [
       "<strong> Link </strong>: <a href='https://twitter.com//jairbolsonaro/status/1263203006683779072' target='_blank'> Acessar </a> "
      ],
      "text/plain": [
       "<IPython.core.display.HTML object>"
      ]
     },
     "metadata": {},
     "output_type": "display_data"
    },
    {
     "data": {
      "text/html": [
       "<hr>"
      ],
      "text/plain": [
       "<IPython.core.display.HTML object>"
      ]
     },
     "metadata": {},
     "output_type": "display_data"
    },
    {
     "data": {
      "text/html": [
       "<strong> Tweet </strong>: - Ainda não existe comprovação científica, mas sendo monitorada e usada no Brasil e no mundo. Contudo, estamos em Guerra: “Pior do que ser derrotado é a vergonha de não ter lutado.”\n",
       "\n",
       "- Deus abençoe o nosso Brasil. https://saude.gov.br/images/pdf/2020/May/20/Termo-de-Cie--ncia-e-Consentimento-Hidroxicloroquina-Cloroquina-COVID-19.pdf … "
      ],
      "text/plain": [
       "<IPython.core.display.HTML object>"
      ]
     },
     "metadata": {},
     "output_type": "display_data"
    },
    {
     "data": {
      "text/html": [
       "<strong> Data </strong>: 2020-05-20 12:32:27 "
      ],
      "text/plain": [
       "<IPython.core.display.HTML object>"
      ]
     },
     "metadata": {},
     "output_type": "display_data"
    },
    {
     "data": {
      "text/html": [
       "<strong> Likes </strong>: 34904 "
      ],
      "text/plain": [
       "<IPython.core.display.HTML object>"
      ]
     },
     "metadata": {},
     "output_type": "display_data"
    },
    {
     "data": {
      "text/html": [
       "<strong> Link </strong>: <a href='https://twitter.com//jairbolsonaro/status/1263130475167657984' target='_blank'> Acessar </a> "
      ],
      "text/plain": [
       "<IPython.core.display.HTML object>"
      ]
     },
     "metadata": {},
     "output_type": "display_data"
    },
    {
     "data": {
      "text/html": [
       "<hr>"
      ],
      "text/plain": [
       "<IPython.core.display.HTML object>"
      ]
     },
     "metadata": {},
     "output_type": "display_data"
    },
    {
     "data": {
      "text/html": [
       "<strong> Tweet </strong>: O @minsaude divulga orientações para tratamento da Covid-19, onde a Cloroquina pode ser ministrada em casos leves, com recomendação médica e autorização do próprio paciente/família. "
      ],
      "text/plain": [
       "<IPython.core.display.HTML object>"
      ]
     },
     "metadata": {},
     "output_type": "display_data"
    },
    {
     "data": {
      "text/html": [
       "<strong> Data </strong>: 2020-05-20 12:31:24 "
      ],
      "text/plain": [
       "<IPython.core.display.HTML object>"
      ]
     },
     "metadata": {},
     "output_type": "display_data"
    },
    {
     "data": {
      "text/html": [
       "<strong> Likes </strong>: 52007 "
      ],
      "text/plain": [
       "<IPython.core.display.HTML object>"
      ]
     },
     "metadata": {},
     "output_type": "display_data"
    },
    {
     "data": {
      "text/html": [
       "<strong> Link </strong>: <a href='https://twitter.com//jairbolsonaro/status/1263130208967766024' target='_blank'> Acessar </a> "
      ],
      "text/plain": [
       "<IPython.core.display.HTML object>"
      ]
     },
     "metadata": {},
     "output_type": "display_data"
    },
    {
     "data": {
      "text/html": [
       "<hr>"
      ],
      "text/plain": [
       "<IPython.core.display.HTML object>"
      ]
     },
     "metadata": {},
     "output_type": "display_data"
    },
    {
     "data": {
      "text/html": [
       "<strong> Tweet </strong>: 9- Esta semana, foram repatriados 147 brasileiros do México, sendo 82 estudantes \n",
       "intercambistas. Já foram repatriados 22.318 brasileiros. @ItamaratyGovBr\n",
       "\n",
       "10- Até 16 de maio, 89.672 mil pessoas já se recuperaram da Covid-19. @minsaude "
      ],
      "text/plain": [
       "<IPython.core.display.HTML object>"
      ]
     },
     "metadata": {},
     "output_type": "display_data"
    },
    {
     "data": {
      "text/html": [
       "<strong> Data </strong>: 2020-05-20 10:52:37 "
      ],
      "text/plain": [
       "<IPython.core.display.HTML object>"
      ]
     },
     "metadata": {},
     "output_type": "display_data"
    },
    {
     "data": {
      "text/html": [
       "<strong> Likes </strong>: 9616 "
      ],
      "text/plain": [
       "<IPython.core.display.HTML object>"
      ]
     },
     "metadata": {},
     "output_type": "display_data"
    },
    {
     "data": {
      "text/html": [
       "<strong> Link </strong>: <a href='https://twitter.com//jairbolsonaro/status/1263105350850379777' target='_blank'> Acessar </a> "
      ],
      "text/plain": [
       "<IPython.core.display.HTML object>"
      ]
     },
     "metadata": {},
     "output_type": "display_data"
    },
    {
     "data": {
      "text/html": [
       "<hr>"
      ],
      "text/plain": [
       "<IPython.core.display.HTML object>"
      ]
     },
     "metadata": {},
     "output_type": "display_data"
    },
    {
     "data": {
      "text/html": [
       "<strong> Tweet </strong>: 4- Desde o começo da pandemia, o Governo Federal já distribuiu 101,8 milhões \n",
       "de medicamentos, testes e EPIs para estados e municípios.\n",
       "\n",
       "5- O @govbr já habilitou 3,8 mil leitos de UTI para tratamento exclusivo \n",
       "de pacientes com a Covid-19. "
      ],
      "text/plain": [
       "<IPython.core.display.HTML object>"
      ]
     },
     "metadata": {},
     "output_type": "display_data"
    },
    {
     "data": {
      "text/html": [
       "<strong> Data </strong>: 2020-05-20 10:49:33 "
      ],
      "text/plain": [
       "<IPython.core.display.HTML object>"
      ]
     },
     "metadata": {},
     "output_type": "display_data"
    },
    {
     "data": {
      "text/html": [
       "<strong> Likes </strong>: 2983 "
      ],
      "text/plain": [
       "<IPython.core.display.HTML object>"
      ]
     },
     "metadata": {},
     "output_type": "display_data"
    },
    {
     "data": {
      "text/html": [
       "<strong> Link </strong>: <a href='https://twitter.com//jairbolsonaro/status/1263104578624425984' target='_blank'> Acessar </a> "
      ],
      "text/plain": [
       "<IPython.core.display.HTML object>"
      ]
     },
     "metadata": {},
     "output_type": "display_data"
    },
    {
     "data": {
      "text/html": [
       "<hr>"
      ],
      "text/plain": [
       "<IPython.core.display.HTML object>"
      ]
     },
     "metadata": {},
     "output_type": "display_data"
    },
    {
     "data": {
      "text/html": [
       "<strong> Tweet </strong>: DESDE O INÍCIO, MAIS E MAIS AÇÕES DO @govbr DIVULGADAS DIARIAMENTE NAS REDES SOCIAIS: CENTRO DE OPERAÇÕES DO COMITÉ DE CRISE DA COVID-19 E DESTAQUES MINISTERIAIS:\n",
       "\n",
       "1- Iniciado pagamento da 2a parcela do Auxílio de R$600 nesta segunda-feira (18). Mais informações @MinCidadania "
      ],
      "text/plain": [
       "<IPython.core.display.HTML object>"
      ]
     },
     "metadata": {},
     "output_type": "display_data"
    },
    {
     "data": {
      "text/html": [
       "<strong> Data </strong>: 2020-05-20 10:48:32 "
      ],
      "text/plain": [
       "<IPython.core.display.HTML object>"
      ]
     },
     "metadata": {},
     "output_type": "display_data"
    },
    {
     "data": {
      "text/html": [
       "<strong> Likes </strong>: 21541 "
      ],
      "text/plain": [
       "<IPython.core.display.HTML object>"
      ]
     },
     "metadata": {},
     "output_type": "display_data"
    },
    {
     "data": {
      "text/html": [
       "<strong> Link </strong>: <a href='https://twitter.com//jairbolsonaro/status/1263104320792231942' target='_blank'> Acessar </a> "
      ],
      "text/plain": [
       "<IPython.core.display.HTML object>"
      ]
     },
     "metadata": {},
     "output_type": "display_data"
    },
    {
     "data": {
      "text/html": [
       "<hr>"
      ],
      "text/plain": [
       "<IPython.core.display.HTML object>"
      ]
     },
     "metadata": {},
     "output_type": "display_data"
    },
    {
     "data": {
      "text/html": [
       "<strong> Tweet </strong>: 5- Nova lista de redução tarifária inclui mais de 80 medicamentos considerados essenciais pelos municípios brasileiros no enfrentamento do covid-19. No total, são 509 produtos com imposto de importação zerados. @MinEconomia . Detalhes:  http://gov.br/economia  "
      ],
      "text/plain": [
       "<IPython.core.display.HTML object>"
      ]
     },
     "metadata": {},
     "output_type": "display_data"
    },
    {
     "data": {
      "text/html": [
       "<strong> Data </strong>: 2020-05-19 17:08:47 "
      ],
      "text/plain": [
       "<IPython.core.display.HTML object>"
      ]
     },
     "metadata": {},
     "output_type": "display_data"
    },
    {
     "data": {
      "text/html": [
       "<strong> Likes </strong>: 10135 "
      ],
      "text/plain": [
       "<IPython.core.display.HTML object>"
      ]
     },
     "metadata": {},
     "output_type": "display_data"
    },
    {
     "data": {
      "text/html": [
       "<strong> Link </strong>: <a href='https://twitter.com//jairbolsonaro/status/1262837627658657793' target='_blank'> Acessar </a> "
      ],
      "text/plain": [
       "<IPython.core.display.HTML object>"
      ]
     },
     "metadata": {},
     "output_type": "display_data"
    },
    {
     "data": {
      "text/html": [
       "<hr>"
      ],
      "text/plain": [
       "<IPython.core.display.HTML object>"
      ]
     },
     "metadata": {},
     "output_type": "display_data"
    },
    {
     "data": {
      "text/html": [
       "<strong> Tweet </strong>: O Governo Federal zera impostos sobre medicamentos em teste para Covid-19. A isenção da alíquota do Imposto de Importação versa sobre mais de 100 medicamentos, como antirretrovirais e antivirais, afim de facilitar leques de estudos no combate ao vírus. Detalhes @MinEconomia "
      ],
      "text/plain": [
       "<IPython.core.display.HTML object>"
      ]
     },
     "metadata": {},
     "output_type": "display_data"
    },
    {
     "data": {
      "text/html": [
       "<strong> Data </strong>: 2020-05-18 13:10:42 "
      ],
      "text/plain": [
       "<IPython.core.display.HTML object>"
      ]
     },
     "metadata": {},
     "output_type": "display_data"
    },
    {
     "data": {
      "text/html": [
       "<strong> Likes </strong>: 46036 "
      ],
      "text/plain": [
       "<IPython.core.display.HTML object>"
      ]
     },
     "metadata": {},
     "output_type": "display_data"
    },
    {
     "data": {
      "text/html": [
       "<strong> Link </strong>: <a href='https://twitter.com//jairbolsonaro/status/1262415323946508289' target='_blank'> Acessar </a> "
      ],
      "text/plain": [
       "<IPython.core.display.HTML object>"
      ]
     },
     "metadata": {},
     "output_type": "display_data"
    },
    {
     "data": {
      "text/html": [
       "<hr>"
      ],
      "text/plain": [
       "<IPython.core.display.HTML object>"
      ]
     },
     "metadata": {},
     "output_type": "display_data"
    },
    {
     "data": {
      "text/html": [
       "<strong> Tweet </strong>: A- A @policiafederal iniciou ações no RJ, PA e outros estados, no combate à corrupção de recursos aplicados neste período de covid-19; "
      ],
      "text/plain": [
       "<IPython.core.display.HTML object>"
      ]
     },
     "metadata": {},
     "output_type": "display_data"
    },
    {
     "data": {
      "text/html": [
       "<strong> Data </strong>: 2020-05-15 07:56:33 "
      ],
      "text/plain": [
       "<IPython.core.display.HTML object>"
      ]
     },
     "metadata": {},
     "output_type": "display_data"
    },
    {
     "data": {
      "text/html": [
       "<strong> Likes </strong>: 47705 "
      ],
      "text/plain": [
       "<IPython.core.display.HTML object>"
      ]
     },
     "metadata": {},
     "output_type": "display_data"
    },
    {
     "data": {
      "text/html": [
       "<strong> Link </strong>: <a href='https://twitter.com//jairbolsonaro/status/1261249103083835394' target='_blank'> Acessar </a> "
      ],
      "text/plain": [
       "<IPython.core.display.HTML object>"
      ]
     },
     "metadata": {},
     "output_type": "display_data"
    },
    {
     "data": {
      "text/html": [
       "<hr>"
      ],
      "text/plain": [
       "<IPython.core.display.HTML object>"
      ]
     },
     "metadata": {},
     "output_type": "display_data"
    },
    {
     "data": {
      "text/html": [
       "<strong> Tweet </strong>: 1- Mesmo com o covid-19, o @govbr segue trabalhando no andamento de obras pelo país. Para sustentar a continuidade de projetos de saneamento, o @mdregional_br liberou recursos que vão atender mais 15 estados: AP, BA, GO, MG, MT, MS, PA, PE, PR, RJ, RN, RS, SC, SE e SP. pic.twitter.com/sbz6UI5Y9I "
      ],
      "text/plain": [
       "<IPython.core.display.HTML object>"
      ]
     },
     "metadata": {},
     "output_type": "display_data"
    },
    {
     "data": {
      "text/html": [
       "<strong> Data </strong>: 2020-05-13 17:50:47 "
      ],
      "text/plain": [
       "<IPython.core.display.HTML object>"
      ]
     },
     "metadata": {},
     "output_type": "display_data"
    },
    {
     "data": {
      "text/html": [
       "<strong> Likes </strong>: 25305 "
      ],
      "text/plain": [
       "<IPython.core.display.HTML object>"
      ]
     },
     "metadata": {},
     "output_type": "display_data"
    },
    {
     "data": {
      "text/html": [
       "<strong> Link </strong>: <a href='https://twitter.com//jairbolsonaro/status/1260673869897183246' target='_blank'> Acessar </a> "
      ],
      "text/plain": [
       "<IPython.core.display.HTML object>"
      ]
     },
     "metadata": {},
     "output_type": "display_data"
    },
    {
     "data": {
      "text/html": [
       "<hr>"
      ],
      "text/plain": [
       "<IPython.core.display.HTML object>"
      ]
     },
     "metadata": {},
     "output_type": "display_data"
    },
    {
     "data": {
      "text/html": [
       "<strong> Tweet </strong>: 13- R$ 20,3 MILHÕES RECEBIDOS PELO GOVERNO FEDERAL EM DOAÇÕES PARA COMBATER A PANDEMIA;\n",
       "\n",
       "14- LIBERAÇÃO DE R$ 5 MILHÕES DO BANCO DO NORDESTE PARA PROJETOS DE COMBATE À COVID-19; "
      ],
      "text/plain": [
       "<IPython.core.display.HTML object>"
      ]
     },
     "metadata": {},
     "output_type": "display_data"
    },
    {
     "data": {
      "text/html": [
       "<strong> Data </strong>: 2020-05-10 21:43:54 "
      ],
      "text/plain": [
       "<IPython.core.display.HTML object>"
      ]
     },
     "metadata": {},
     "output_type": "display_data"
    },
    {
     "data": {
      "text/html": [
       "<strong> Likes </strong>: 12484 "
      ],
      "text/plain": [
       "<IPython.core.display.HTML object>"
      ]
     },
     "metadata": {},
     "output_type": "display_data"
    },
    {
     "data": {
      "text/html": [
       "<strong> Link </strong>: <a href='https://twitter.com//jairbolsonaro/status/1259645373896933378' target='_blank'> Acessar </a> "
      ],
      "text/plain": [
       "<IPython.core.display.HTML object>"
      ]
     },
     "metadata": {},
     "output_type": "display_data"
    },
    {
     "data": {
      "text/html": [
       "<hr>"
      ],
      "text/plain": [
       "<IPython.core.display.HTML object>"
      ]
     },
     "metadata": {},
     "output_type": "display_data"
    },
    {
     "data": {
      "text/html": [
       "<strong> Tweet </strong>: 11- EXPORTAÇÕES DO AGRO SOBEM 17,5% EM QUATRO MESES GARANTINDO NESTE MOMENTO MENOR DIMINUIÇÃO DO PIB E EMPREGOS DEVIDO A DEMANDA AUMENTADA;\n",
       "\n",
       "12- R$ 349,4 BILHÕES INVESTIDOS NO COMBATE À COVID-19; "
      ],
      "text/plain": [
       "<IPython.core.display.HTML object>"
      ]
     },
     "metadata": {},
     "output_type": "display_data"
    },
    {
     "data": {
      "text/html": [
       "<strong> Data </strong>: 2020-05-10 21:43:34 "
      ],
      "text/plain": [
       "<IPython.core.display.HTML object>"
      ]
     },
     "metadata": {},
     "output_type": "display_data"
    },
    {
     "data": {
      "text/html": [
       "<strong> Likes </strong>: 6632 "
      ],
      "text/plain": [
       "<IPython.core.display.HTML object>"
      ]
     },
     "metadata": {},
     "output_type": "display_data"
    },
    {
     "data": {
      "text/html": [
       "<strong> Link </strong>: <a href='https://twitter.com//jairbolsonaro/status/1259645289964736513' target='_blank'> Acessar </a> "
      ],
      "text/plain": [
       "<IPython.core.display.HTML object>"
      ]
     },
     "metadata": {},
     "output_type": "display_data"
    },
    {
     "data": {
      "text/html": [
       "<hr>"
      ],
      "text/plain": [
       "<IPython.core.display.HTML object>"
      ]
     },
     "metadata": {},
     "output_type": "display_data"
    },
    {
     "data": {
      "text/html": [
       "<strong> Tweet </strong>: MAIS AÇÕES DO @govbr\n",
       "(1º/5 A 7/5):\n",
       "\n",
       "1- ATO DE 2019, ABRE TODAS AS MOVIMENTAÇÕES PÚBLICAS FINANCEIRAS. LOGO, O GOVERNO FEDERAL DETERMINOU À CONTROLADORIA GERAL DA UNIÃO QUE AJA NA FISCALIZAÇÃO DE TODOS OS GASTOS, INCLUSIVE NESTE MOMENTO DE COVID-19. FATO EM PROCESSO EVOLUTIVO; "
      ],
      "text/plain": [
       "<IPython.core.display.HTML object>"
      ]
     },
     "metadata": {},
     "output_type": "display_data"
    },
    {
     "data": {
      "text/html": [
       "<strong> Data </strong>: 2020-05-10 21:30:46 "
      ],
      "text/plain": [
       "<IPython.core.display.HTML object>"
      ]
     },
     "metadata": {},
     "output_type": "display_data"
    },
    {
     "data": {
      "text/html": [
       "<strong> Likes </strong>: 29905 "
      ],
      "text/plain": [
       "<IPython.core.display.HTML object>"
      ]
     },
     "metadata": {},
     "output_type": "display_data"
    },
    {
     "data": {
      "text/html": [
       "<strong> Link </strong>: <a href='https://twitter.com//jairbolsonaro/status/1259642065799000064' target='_blank'> Acessar </a> "
      ],
      "text/plain": [
       "<IPython.core.display.HTML object>"
      ]
     },
     "metadata": {},
     "output_type": "display_data"
    },
    {
     "data": {
      "text/html": [
       "<hr>"
      ],
      "text/plain": [
       "<IPython.core.display.HTML object>"
      ]
     },
     "metadata": {},
     "output_type": "display_data"
    },
    {
     "data": {
      "text/html": [
       "<strong> Tweet </strong>: - A verdade: covid-19. http://youtu.be/R2kjKLbHOt8  "
      ],
      "text/plain": [
       "<IPython.core.display.HTML object>"
      ]
     },
     "metadata": {},
     "output_type": "display_data"
    },
    {
     "data": {
      "text/html": [
       "<strong> Data </strong>: 2020-05-09 22:58:18 "
      ],
      "text/plain": [
       "<IPython.core.display.HTML object>"
      ]
     },
     "metadata": {},
     "output_type": "display_data"
    },
    {
     "data": {
      "text/html": [
       "<strong> Likes </strong>: 26571 "
      ],
      "text/plain": [
       "<IPython.core.display.HTML object>"
      ]
     },
     "metadata": {},
     "output_type": "display_data"
    },
    {
     "data": {
      "text/html": [
       "<strong> Link </strong>: <a href='https://twitter.com//jairbolsonaro/status/1259301707873497091' target='_blank'> Acessar </a> "
      ],
      "text/plain": [
       "<IPython.core.display.HTML object>"
      ]
     },
     "metadata": {},
     "output_type": "display_data"
    },
    {
     "data": {
      "text/html": [
       "<hr>"
      ],
      "text/plain": [
       "<IPython.core.display.HTML object>"
      ]
     },
     "metadata": {},
     "output_type": "display_data"
    },
    {
     "data": {
      "text/html": [
       "<strong> Tweet </strong>: 8. Vacina contra a covid-19: o @minsaude @TeichNelson se antecipa em conversas com laboratórios para garantir PRIORIDADE na aquisição do recurso assim que o mapeamento for detectado. "
      ],
      "text/plain": [
       "<IPython.core.display.HTML object>"
      ]
     },
     "metadata": {},
     "output_type": "display_data"
    },
    {
     "data": {
      "text/html": [
       "<strong> Data </strong>: 2020-05-08 06:36:11 "
      ],
      "text/plain": [
       "<IPython.core.display.HTML object>"
      ]
     },
     "metadata": {},
     "output_type": "display_data"
    },
    {
     "data": {
      "text/html": [
       "<strong> Likes </strong>: 16181 "
      ],
      "text/plain": [
       "<IPython.core.display.HTML object>"
      ]
     },
     "metadata": {},
     "output_type": "display_data"
    },
    {
     "data": {
      "text/html": [
       "<strong> Link </strong>: <a href='https://twitter.com//jairbolsonaro/status/1258692162969055232' target='_blank'> Acessar </a> "
      ],
      "text/plain": [
       "<IPython.core.display.HTML object>"
      ]
     },
     "metadata": {},
     "output_type": "display_data"
    },
    {
     "data": {
      "text/html": [
       "<hr>"
      ],
      "text/plain": [
       "<IPython.core.display.HTML object>"
      ]
     },
     "metadata": {},
     "output_type": "display_data"
    },
    {
     "data": {
      "text/html": [
       "<strong> Tweet </strong>: 7. O @DHumanosBrasil destina mais R$ 2,5 bi no combate ao Covid-19. Equipamentos de Proteção Individual (EPIs) para profissionais das unidades públicas de atendimento, pessoas com deficiência atendidas pelo Serviço de Acolhimento Institucional e reforço a alimentação de idosos. pic.twitter.com/8LMC83UhBJ "
      ],
      "text/plain": [
       "<IPython.core.display.HTML object>"
      ]
     },
     "metadata": {},
     "output_type": "display_data"
    },
    {
     "data": {
      "text/html": [
       "<strong> Data </strong>: 2020-05-08 06:35:26 "
      ],
      "text/plain": [
       "<IPython.core.display.HTML object>"
      ]
     },
     "metadata": {},
     "output_type": "display_data"
    },
    {
     "data": {
      "text/html": [
       "<strong> Likes </strong>: 13869 "
      ],
      "text/plain": [
       "<IPython.core.display.HTML object>"
      ]
     },
     "metadata": {},
     "output_type": "display_data"
    },
    {
     "data": {
      "text/html": [
       "<strong> Link </strong>: <a href='https://twitter.com//jairbolsonaro/status/1258691971645833216' target='_blank'> Acessar </a> "
      ],
      "text/plain": [
       "<IPython.core.display.HTML object>"
      ]
     },
     "metadata": {},
     "output_type": "display_data"
    },
    {
     "data": {
      "text/html": [
       "<hr>"
      ],
      "text/plain": [
       "<IPython.core.display.HTML object>"
      ]
     },
     "metadata": {},
     "output_type": "display_data"
    },
    {
     "data": {
      "text/html": [
       "<strong> Tweet </strong>: 4. Brasil investe mais que a média dos países avançados no combate ao covid-19. Balanço da Secretaria Especial de Fazenda do @MinEconomia aponta esforço fiscal de R$ 394,4 bilhões no enfrentamento ao coronavírus; "
      ],
      "text/plain": [
       "<IPython.core.display.HTML object>"
      ]
     },
     "metadata": {},
     "output_type": "display_data"
    },
    {
     "data": {
      "text/html": [
       "<strong> Data </strong>: 2020-05-08 06:25:32 "
      ],
      "text/plain": [
       "<IPython.core.display.HTML object>"
      ]
     },
     "metadata": {},
     "output_type": "display_data"
    },
    {
     "data": {
      "text/html": [
       "<strong> Likes </strong>: 5633 "
      ],
      "text/plain": [
       "<IPython.core.display.HTML object>"
      ]
     },
     "metadata": {},
     "output_type": "display_data"
    },
    {
     "data": {
      "text/html": [
       "<strong> Link </strong>: <a href='https://twitter.com//jairbolsonaro/status/1258689481709846529' target='_blank'> Acessar </a> "
      ],
      "text/plain": [
       "<IPython.core.display.HTML object>"
      ]
     },
     "metadata": {},
     "output_type": "display_data"
    },
    {
     "data": {
      "text/html": [
       "<hr>"
      ],
      "text/plain": [
       "<IPython.core.display.HTML object>"
      ]
     },
     "metadata": {},
     "output_type": "display_data"
    },
    {
     "data": {
      "text/html": [
       "<strong> Tweet </strong>: 8- O Governo Federal reforçou o atendimento a pacientes com coronavírus nos estados do AM, AL, PE e SC recebendo novos leitos de UTI. São 599 unidades para atendimento adulto e 33 para suporte pediátrico. @minsaude @TeichNelson "
      ],
      "text/plain": [
       "<IPython.core.display.HTML object>"
      ]
     },
     "metadata": {},
     "output_type": "display_data"
    },
    {
     "data": {
      "text/html": [
       "<strong> Data </strong>: 2020-05-06 06:54:55 "
      ],
      "text/plain": [
       "<IPython.core.display.HTML object>"
      ]
     },
     "metadata": {},
     "output_type": "display_data"
    },
    {
     "data": {
      "text/html": [
       "<strong> Likes </strong>: 6801 "
      ],
      "text/plain": [
       "<IPython.core.display.HTML object>"
      ]
     },
     "metadata": {},
     "output_type": "display_data"
    },
    {
     "data": {
      "text/html": [
       "<strong> Link </strong>: <a href='https://twitter.com//jairbolsonaro/status/1257972098846294017' target='_blank'> Acessar </a> "
      ],
      "text/plain": [
       "<IPython.core.display.HTML object>"
      ]
     },
     "metadata": {},
     "output_type": "display_data"
    },
    {
     "data": {
      "text/html": [
       "<hr>"
      ],
      "text/plain": [
       "<IPython.core.display.HTML object>"
      ]
     },
     "metadata": {},
     "output_type": "display_data"
    },
    {
     "data": {
      "text/html": [
       "<strong> Tweet </strong>: O Governo retirou o sigilo bancário das operações envolvendo recursos públicos federais, inclusive em transações com estados, municípios e instâncias da administração federal. A medida vale desde abril de 2019, e pode ajudar muito neste momento de combate ao #coronavírus. pic.twitter.com/9VtHRQwwMp "
      ],
      "text/plain": [
       "<IPython.core.display.HTML object>"
      ]
     },
     "metadata": {},
     "output_type": "display_data"
    },
    {
     "data": {
      "text/html": [
       "<strong> Data </strong>: 2020-05-05 13:39:25 "
      ],
      "text/plain": [
       "<IPython.core.display.HTML object>"
      ]
     },
     "metadata": {},
     "output_type": "display_data"
    },
    {
     "data": {
      "text/html": [
       "<strong> Likes </strong>: 19794 "
      ],
      "text/plain": [
       "<IPython.core.display.HTML object>"
      ]
     },
     "metadata": {},
     "output_type": "display_data"
    },
    {
     "data": {
      "text/html": [
       "<strong> Link </strong>: <a href='https://twitter.com//secomvc/status/1257711508546629633' target='_blank'> Acessar </a> "
      ],
      "text/plain": [
       "<IPython.core.display.HTML object>"
      ]
     },
     "metadata": {},
     "output_type": "display_data"
    },
    {
     "data": {
      "text/html": [
       "<hr>"
      ],
      "text/plain": [
       "<IPython.core.display.HTML object>"
      ]
     },
     "metadata": {},
     "output_type": "display_data"
    },
    {
     "data": {
      "text/html": [
       "<strong> Tweet </strong>: - EXEMPLOS DE AÇÕES DAS FORÇAS ARMADAS NO COMBATE AO COVID-19:\n",
       "\n",
       "1. Mais de 29 mil militares da @marmilbr , @exercitooficial e @fab_oficial atuam no combate ao covid-19 desde o início do problema; "
      ],
      "text/plain": [
       "<IPython.core.display.HTML object>"
      ]
     },
     "metadata": {},
     "output_type": "display_data"
    },
    {
     "data": {
      "text/html": [
       "<strong> Data </strong>: 2020-05-01 19:46:27 "
      ],
      "text/plain": [
       "<IPython.core.display.HTML object>"
      ]
     },
     "metadata": {},
     "output_type": "display_data"
    },
    {
     "data": {
      "text/html": [
       "<strong> Likes </strong>: 33915 "
      ],
      "text/plain": [
       "<IPython.core.display.HTML object>"
      ]
     },
     "metadata": {},
     "output_type": "display_data"
    },
    {
     "data": {
      "text/html": [
       "<strong> Link </strong>: <a href='https://twitter.com//jairbolsonaro/status/1256354325288202240' target='_blank'> Acessar </a> "
      ],
      "text/plain": [
       "<IPython.core.display.HTML object>"
      ]
     },
     "metadata": {},
     "output_type": "display_data"
    },
    {
     "data": {
      "text/html": [
       "<hr>"
      ],
      "text/plain": [
       "<IPython.core.display.HTML object>"
      ]
     },
     "metadata": {},
     "output_type": "display_data"
    },
    {
     "data": {
      "text/html": [
       "<strong> Tweet </strong>: AL,PE e GO ganharam novos 497 leitos de UTI. 5 deles de UTI pediátrica, habilitados pelo Ministério da Saúde para atender pacientes graves ou críticos da Covid-19. Com isto, o total de novos leitos no Brasil, somente em abril, chega a 2.258, sendo 26 de UTI pediátrica. @minsaude "
      ],
      "text/plain": [
       "<IPython.core.display.HTML object>"
      ]
     },
     "metadata": {},
     "output_type": "display_data"
    },
    {
     "data": {
      "text/html": [
       "<strong> Data </strong>: 2020-04-30 13:00:00 "
      ],
      "text/plain": [
       "<IPython.core.display.HTML object>"
      ]
     },
     "metadata": {},
     "output_type": "display_data"
    },
    {
     "data": {
      "text/html": [
       "<strong> Likes </strong>: 38840 "
      ],
      "text/plain": [
       "<IPython.core.display.HTML object>"
      ]
     },
     "metadata": {},
     "output_type": "display_data"
    },
    {
     "data": {
      "text/html": [
       "<strong> Link </strong>: <a href='https://twitter.com//jairbolsonaro/status/1255889649668632578' target='_blank'> Acessar </a> "
      ],
      "text/plain": [
       "<IPython.core.display.HTML object>"
      ]
     },
     "metadata": {},
     "output_type": "display_data"
    },
    {
     "data": {
      "text/html": [
       "<hr>"
      ],
      "text/plain": [
       "<IPython.core.display.HTML object>"
      ]
     },
     "metadata": {},
     "output_type": "display_data"
    },
    {
     "data": {
      "text/html": [
       "<strong> Tweet </strong>: 10-  30,1 mil brasileiros curados da covid-19;\n",
       "\n",
       "11- Anvisa libera testes do covid-19 em farmácias para desafogar as unidades hospitalares do país;\n",
       "\n",
       "12-  Mais de 3,5 milhões de empregos preservados com o programa emergencial de preservação de emprego e renda; "
      ],
      "text/plain": [
       "<IPython.core.display.HTML object>"
      ]
     },
     "metadata": {},
     "output_type": "display_data"
    },
    {
     "data": {
      "text/html": [
       "<strong> Data </strong>: 2020-04-29 07:10:31 "
      ],
      "text/plain": [
       "<IPython.core.display.HTML object>"
      ]
     },
     "metadata": {},
     "output_type": "display_data"
    },
    {
     "data": {
      "text/html": [
       "<strong> Likes </strong>: 21803 "
      ],
      "text/plain": [
       "<IPython.core.display.HTML object>"
      ]
     },
     "metadata": {},
     "output_type": "display_data"
    },
    {
     "data": {
      "text/html": [
       "<strong> Link </strong>: <a href='https://twitter.com//jairbolsonaro/status/1255439311039856640' target='_blank'> Acessar </a> "
      ],
      "text/plain": [
       "<IPython.core.display.HTML object>"
      ]
     },
     "metadata": {},
     "output_type": "display_data"
    },
    {
     "data": {
      "text/html": [
       "<hr>"
      ],
      "text/plain": [
       "<IPython.core.display.HTML object>"
      ]
     },
     "metadata": {},
     "output_type": "display_data"
    },
    {
     "data": {
      "text/html": [
       "<strong> Tweet </strong>: C- Mesmo com a crise ocasionada pelo covid-19, o @govbr continua trabalhando. Desde o início da pandemia, o @MInfraestrutura já entregou 12 obras para melhorar rodovias, portos e aeroportos nos estados do AM, MT, MG, SC, CE, MS, SE, RS, BA e RN. Detalhes. pic.twitter.com/XesRMlr628 "
      ],
      "text/plain": [
       "<IPython.core.display.HTML object>"
      ]
     },
     "metadata": {},
     "output_type": "display_data"
    },
    {
     "data": {
      "text/html": [
       "<strong> Data </strong>: 2020-04-28 14:51:29 "
      ],
      "text/plain": [
       "<IPython.core.display.HTML object>"
      ]
     },
     "metadata": {},
     "output_type": "display_data"
    },
    {
     "data": {
      "text/html": [
       "<strong> Likes </strong>: 15602 "
      ],
      "text/plain": [
       "<IPython.core.display.HTML object>"
      ]
     },
     "metadata": {},
     "output_type": "display_data"
    },
    {
     "data": {
      "text/html": [
       "<strong> Link </strong>: <a href='https://twitter.com//jairbolsonaro/status/1255192928554713090' target='_blank'> Acessar </a> "
      ],
      "text/plain": [
       "<IPython.core.display.HTML object>"
      ]
     },
     "metadata": {},
     "output_type": "display_data"
    },
    {
     "data": {
      "text/html": [
       "<hr>"
      ],
      "text/plain": [
       "<IPython.core.display.HTML object>"
      ]
     },
     "metadata": {},
     "output_type": "display_data"
    },
    {
     "data": {
      "text/html": [
       "<strong> Tweet </strong>: A- O @govbr concluiu dentro do prazo estipulado a construção do hospital de campanha para atendimento a pacientes com Covid19. A obra, realizada em 15 dias no município de Águas Lindas (GO), atenderá a população de Goiás e do Distrito Federal. @MInfraestrutura @DefesaGovBr "
      ],
      "text/plain": [
       "<IPython.core.display.HTML object>"
      ]
     },
     "metadata": {},
     "output_type": "display_data"
    },
    {
     "data": {
      "text/html": [
       "<strong> Data </strong>: 2020-04-28 14:39:28 "
      ],
      "text/plain": [
       "<IPython.core.display.HTML object>"
      ]
     },
     "metadata": {},
     "output_type": "display_data"
    },
    {
     "data": {
      "text/html": [
       "<strong> Likes </strong>: 39147 "
      ],
      "text/plain": [
       "<IPython.core.display.HTML object>"
      ]
     },
     "metadata": {},
     "output_type": "display_data"
    },
    {
     "data": {
      "text/html": [
       "<strong> Link </strong>: <a href='https://twitter.com//jairbolsonaro/status/1255189906961453066' target='_blank'> Acessar </a> "
      ],
      "text/plain": [
       "<IPython.core.display.HTML object>"
      ]
     },
     "metadata": {},
     "output_type": "display_data"
    },
    {
     "data": {
      "text/html": [
       "<hr>"
      ],
      "text/plain": [
       "<IPython.core.display.HTML object>"
      ]
     },
     "metadata": {},
     "output_type": "display_data"
    },
    {
     "data": {
      "text/html": [
       "<strong> Tweet </strong>: 2- Em 2020,  o @mdregional_br já instalou mais de 40 Sistemas Simplificados de Abastecimento de Água na Bahia. O acesso à água potável avança anualmente em áreas rurais garantindo melhores condições de vida e a manutenção dos hábitos de higiene, como no enfrentamento da covid-19. "
      ],
      "text/plain": [
       "<IPython.core.display.HTML object>"
      ]
     },
     "metadata": {},
     "output_type": "display_data"
    },
    {
     "data": {
      "text/html": [
       "<strong> Data </strong>: 2020-04-28 08:59:19 "
      ],
      "text/plain": [
       "<IPython.core.display.HTML object>"
      ]
     },
     "metadata": {},
     "output_type": "display_data"
    },
    {
     "data": {
      "text/html": [
       "<strong> Likes </strong>: 19835 "
      ],
      "text/plain": [
       "<IPython.core.display.HTML object>"
      ]
     },
     "metadata": {},
     "output_type": "display_data"
    },
    {
     "data": {
      "text/html": [
       "<strong> Link </strong>: <a href='https://twitter.com//jairbolsonaro/status/1255104303129415681' target='_blank'> Acessar </a> "
      ],
      "text/plain": [
       "<IPython.core.display.HTML object>"
      ]
     },
     "metadata": {},
     "output_type": "display_data"
    },
    {
     "data": {
      "text/html": [
       "<hr>"
      ],
      "text/plain": [
       "<IPython.core.display.HTML object>"
      ]
     },
     "metadata": {},
     "output_type": "display_data"
    },
    {
     "data": {
      "text/html": [
       "<strong> Tweet </strong>: 1- O @minsaude @TeichNelson encerra o mês com a entrega de 272 novos respiradores ao Sistema Único de Saúde. Produzidos no Brasil, os equipamentos ajudam no enfrentamento da Covid-19.  Saiba mais: https://bit.ly/2ySjq4T  "
      ],
      "text/plain": [
       "<IPython.core.display.HTML object>"
      ]
     },
     "metadata": {},
     "output_type": "display_data"
    },
    {
     "data": {
      "text/html": [
       "<strong> Data </strong>: 2020-04-28 08:56:24 "
      ],
      "text/plain": [
       "<IPython.core.display.HTML object>"
      ]
     },
     "metadata": {},
     "output_type": "display_data"
    },
    {
     "data": {
      "text/html": [
       "<strong> Likes </strong>: 37774 "
      ],
      "text/plain": [
       "<IPython.core.display.HTML object>"
      ]
     },
     "metadata": {},
     "output_type": "display_data"
    },
    {
     "data": {
      "text/html": [
       "<strong> Link </strong>: <a href='https://twitter.com//jairbolsonaro/status/1255103572234194945' target='_blank'> Acessar </a> "
      ],
      "text/plain": [
       "<IPython.core.display.HTML object>"
      ]
     },
     "metadata": {},
     "output_type": "display_data"
    },
    {
     "data": {
      "text/html": [
       "<hr>"
      ],
      "text/plain": [
       "<IPython.core.display.HTML object>"
      ]
     },
     "metadata": {},
     "output_type": "display_data"
    },
    {
     "data": {
      "text/html": [
       "<strong> Tweet </strong>: 3- Manaus (AM) ganha reforço no atendimento a pessoas com coronavírus.  2 fisioterapeutas, 3 médicos e 8 enfermeiros formam a segunda turma de voluntários da Força Nacional do SUS que vão fortalecer o atendimento na capital amazonense. Saiba mais: https://www.saude.gov.br/noticias/agencia-saude/46770-segunda-turma-de-profissionais-da-saude-chegam-a-manaus … "
      ],
      "text/plain": [
       "<IPython.core.display.HTML object>"
      ]
     },
     "metadata": {},
     "output_type": "display_data"
    },
    {
     "data": {
      "text/html": [
       "<strong> Data </strong>: 2020-04-27 13:20:37 "
      ],
      "text/plain": [
       "<IPython.core.display.HTML object>"
      ]
     },
     "metadata": {},
     "output_type": "display_data"
    },
    {
     "data": {
      "text/html": [
       "<strong> Likes </strong>: 14948 "
      ],
      "text/plain": [
       "<IPython.core.display.HTML object>"
      ]
     },
     "metadata": {},
     "output_type": "display_data"
    },
    {
     "data": {
      "text/html": [
       "<strong> Link </strong>: <a href='https://twitter.com//jairbolsonaro/status/1254807675864526850' target='_blank'> Acessar </a> "
      ],
      "text/plain": [
       "<IPython.core.display.HTML object>"
      ]
     },
     "metadata": {},
     "output_type": "display_data"
    },
    {
     "data": {
      "text/html": [
       "<hr>"
      ],
      "text/plain": [
       "<IPython.core.display.HTML object>"
      ]
     },
     "metadata": {},
     "output_type": "display_data"
    },
    {
     "data": {
      "text/html": [
       "<strong> Tweet </strong>: 3- Os leitos de UTI para Covid-19 estão distribuídos em 19 estados: AC/10, BA/90, CE/180, DF/80, ES/68, MA/100, MG/50, MS/60, PA/52, PE/10, PI/40, PR/30, RJ/40, RN/10, RO/51, RS/30, SC/72, SE/44 e SP/744. @TeichNelson "
      ],
      "text/plain": [
       "<IPython.core.display.HTML object>"
      ]
     },
     "metadata": {},
     "output_type": "display_data"
    },
    {
     "data": {
      "text/html": [
       "<strong> Data </strong>: 2020-04-27 13:20:12 "
      ],
      "text/plain": [
       "<IPython.core.display.HTML object>"
      ]
     },
     "metadata": {},
     "output_type": "display_data"
    },
    {
     "data": {
      "text/html": [
       "<strong> Likes </strong>: 16681 "
      ],
      "text/plain": [
       "<IPython.core.display.HTML object>"
      ]
     },
     "metadata": {},
     "output_type": "display_data"
    },
    {
     "data": {
      "text/html": [
       "<strong> Link </strong>: <a href='https://twitter.com//jairbolsonaro/status/1254807568045785088' target='_blank'> Acessar </a> "
      ],
      "text/plain": [
       "<IPython.core.display.HTML object>"
      ]
     },
     "metadata": {},
     "output_type": "display_data"
    },
    {
     "data": {
      "text/html": [
       "<hr>"
      ],
      "text/plain": [
       "<IPython.core.display.HTML object>"
      ]
     },
     "metadata": {},
     "output_type": "display_data"
    },
    {
     "data": {
      "text/html": [
       "<strong> Tweet </strong>: 2- O @minsaude reforça ações de atendimento ao pacientes com coronavírus. A partir de hoje, 1.761 leitos de UTI recebem recursos exclusivos para a assistência a doença. "
      ],
      "text/plain": [
       "<IPython.core.display.HTML object>"
      ]
     },
     "metadata": {},
     "output_type": "display_data"
    },
    {
     "data": {
      "text/html": [
       "<strong> Data </strong>: 2020-04-27 13:19:44 "
      ],
      "text/plain": [
       "<IPython.core.display.HTML object>"
      ]
     },
     "metadata": {},
     "output_type": "display_data"
    },
    {
     "data": {
      "text/html": [
       "<strong> Likes </strong>: 8020 "
      ],
      "text/plain": [
       "<IPython.core.display.HTML object>"
      ]
     },
     "metadata": {},
     "output_type": "display_data"
    },
    {
     "data": {
      "text/html": [
       "<strong> Link </strong>: <a href='https://twitter.com//jairbolsonaro/status/1254807450512961536' target='_blank'> Acessar </a> "
      ],
      "text/plain": [
       "<IPython.core.display.HTML object>"
      ]
     },
     "metadata": {},
     "output_type": "display_data"
    },
    {
     "data": {
      "text/html": [
       "<hr>"
      ],
      "text/plain": [
       "<IPython.core.display.HTML object>"
      ]
     },
     "metadata": {},
     "output_type": "display_data"
    },
    {
     "data": {
      "text/html": [
       "<strong> Tweet </strong>: 1- A parceria do @govbr com a indústria nacional deixa o Brasil mais forte no combate ao covid-19. Após cancelamento da entrega por fornecedores internacionais, uma rede com mais de 15 instituições envolvidas darão o suporte. Detalhes: https://bit.ly/3cMs0AY  "
      ],
      "text/plain": [
       "<IPython.core.display.HTML object>"
      ]
     },
     "metadata": {},
     "output_type": "display_data"
    },
    {
     "data": {
      "text/html": [
       "<strong> Data </strong>: 2020-04-27 13:18:54 "
      ],
      "text/plain": [
       "<IPython.core.display.HTML object>"
      ]
     },
     "metadata": {},
     "output_type": "display_data"
    },
    {
     "data": {
      "text/html": [
       "<strong> Likes </strong>: 34764 "
      ],
      "text/plain": [
       "<IPython.core.display.HTML object>"
      ]
     },
     "metadata": {},
     "output_type": "display_data"
    },
    {
     "data": {
      "text/html": [
       "<strong> Link </strong>: <a href='https://twitter.com//jairbolsonaro/status/1254807241515040769' target='_blank'> Acessar </a> "
      ],
      "text/plain": [
       "<IPython.core.display.HTML object>"
      ]
     },
     "metadata": {},
     "output_type": "display_data"
    },
    {
     "data": {
      "text/html": [
       "<hr>"
      ],
      "text/plain": [
       "<IPython.core.display.HTML object>"
      ]
     },
     "metadata": {},
     "output_type": "display_data"
    },
    {
     "data": {
      "text/html": [
       "<strong> Tweet </strong>: 10. Pagamento do auxílio @Caixa para 43 milhões de brasileiros;\n",
       "\n",
       "11. Empenho de R$ 140 bilhões no combate ao covid-19 e auxílio aos estados e municípios; @minsaude\n",
       "\n",
       "12. R$ 51 bilhões em investimentos do @TesouroNacional no combate ao coronavirus; @secomvc "
      ],
      "text/plain": [
       "<IPython.core.display.HTML object>"
      ]
     },
     "metadata": {},
     "output_type": "display_data"
    },
    {
     "data": {
      "text/html": [
       "<strong> Data </strong>: 2020-04-27 08:34:19 "
      ],
      "text/plain": [
       "<IPython.core.display.HTML object>"
      ]
     },
     "metadata": {},
     "output_type": "display_data"
    },
    {
     "data": {
      "text/html": [
       "<strong> Likes </strong>: 16601 "
      ],
      "text/plain": [
       "<IPython.core.display.HTML object>"
      ]
     },
     "metadata": {},
     "output_type": "display_data"
    },
    {
     "data": {
      "text/html": [
       "<strong> Link </strong>: <a href='https://twitter.com//jairbolsonaro/status/1254735625984630790' target='_blank'> Acessar </a> "
      ],
      "text/plain": [
       "<IPython.core.display.HTML object>"
      ]
     },
     "metadata": {},
     "output_type": "display_data"
    },
    {
     "data": {
      "text/html": [
       "<hr>"
      ],
      "text/plain": [
       "<IPython.core.display.HTML object>"
      ]
     },
     "metadata": {},
     "output_type": "display_data"
    },
    {
     "data": {
      "text/html": [
       "<strong> Tweet </strong>: .6 Ampliação do horário de atendimento em mais de 5 mil agências da @Caixa;\n",
       "\n",
       "7. Publicação do Plano Emergencial de contingenciamento para a covid-19 da Operação Acolhida; @DefesaGovBr "
      ],
      "text/plain": [
       "<IPython.core.display.HTML object>"
      ]
     },
     "metadata": {},
     "output_type": "display_data"
    },
    {
     "data": {
      "text/html": [
       "<strong> Data </strong>: 2020-04-27 08:32:18 "
      ],
      "text/plain": [
       "<IPython.core.display.HTML object>"
      ]
     },
     "metadata": {},
     "output_type": "display_data"
    },
    {
     "data": {
      "text/html": [
       "<strong> Likes </strong>: 7152 "
      ],
      "text/plain": [
       "<IPython.core.display.HTML object>"
      ]
     },
     "metadata": {},
     "output_type": "display_data"
    },
    {
     "data": {
      "text/html": [
       "<strong> Link </strong>: <a href='https://twitter.com//jairbolsonaro/status/1254735117425299457' target='_blank'> Acessar </a> "
      ],
      "text/plain": [
       "<IPython.core.display.HTML object>"
      ]
     },
     "metadata": {},
     "output_type": "display_data"
    },
    {
     "data": {
      "text/html": [
       "<hr>"
      ],
      "text/plain": [
       "<IPython.core.display.HTML object>"
      ]
     },
     "metadata": {},
     "output_type": "display_data"
    },
    {
     "data": {
      "text/html": [
       "<strong> Tweet </strong>: 8- As máscaras são do tipo Face Shield (extremamente seguro) e servem para aumentar a proteção dos profissionais que atuam diretamente no combate ao coronavírus. "
      ],
      "text/plain": [
       "<IPython.core.display.HTML object>"
      ]
     },
     "metadata": {},
     "output_type": "display_data"
    },
    {
     "data": {
      "text/html": [
       "<strong> Data </strong>: 2020-04-22 00:59:07 "
      ],
      "text/plain": [
       "<IPython.core.display.HTML object>"
      ]
     },
     "metadata": {},
     "output_type": "display_data"
    },
    {
     "data": {
      "text/html": [
       "<strong> Likes </strong>: 17356 "
      ],
      "text/plain": [
       "<IPython.core.display.HTML object>"
      ]
     },
     "metadata": {},
     "output_type": "display_data"
    },
    {
     "data": {
      "text/html": [
       "<strong> Link </strong>: <a href='https://twitter.com//jairbolsonaro/status/1252809132836438017' target='_blank'> Acessar </a> "
      ],
      "text/plain": [
       "<IPython.core.display.HTML object>"
      ]
     },
     "metadata": {},
     "output_type": "display_data"
    },
    {
     "data": {
      "text/html": [
       "<hr>"
      ],
      "text/plain": [
       "<IPython.core.display.HTML object>"
      ]
     },
     "metadata": {},
     "output_type": "display_data"
    },
    {
     "data": {
      "text/html": [
       "<strong> Tweet </strong>: . GOVERNO FEDERAL ITENSIFICA PARCERIAS DENTRO DO PAÍS PARA PRODUÇÃO DE MÁSCARAS NO ENFRENTAMENTO DO COVID-19:\n",
       "\n",
       "1 - Militares produzem máscaras de tecido e de TNT em linha de produção acelerada. Além disso, o @govbr busca alinhar com costureiras para fomento de empregos. "
      ],
      "text/plain": [
       "<IPython.core.display.HTML object>"
      ]
     },
     "metadata": {},
     "output_type": "display_data"
    },
    {
     "data": {
      "text/html": [
       "<strong> Data </strong>: 2020-04-22 00:47:02 "
      ],
      "text/plain": [
       "<IPython.core.display.HTML object>"
      ]
     },
     "metadata": {},
     "output_type": "display_data"
    },
    {
     "data": {
      "text/html": [
       "<strong> Likes </strong>: 41209 "
      ],
      "text/plain": [
       "<IPython.core.display.HTML object>"
      ]
     },
     "metadata": {},
     "output_type": "display_data"
    },
    {
     "data": {
      "text/html": [
       "<strong> Link </strong>: <a href='https://twitter.com//jairbolsonaro/status/1252806091513028609' target='_blank'> Acessar </a> "
      ],
      "text/plain": [
       "<IPython.core.display.HTML object>"
      ]
     },
     "metadata": {},
     "output_type": "display_data"
    },
    {
     "data": {
      "text/html": [
       "<hr>"
      ],
      "text/plain": [
       "<IPython.core.display.HTML object>"
      ]
     },
     "metadata": {},
     "output_type": "display_data"
    },
    {
     "data": {
      "text/html": [
       "<strong> Tweet </strong>: O @govbr convocou 3.391 médicos, se juntando aos quase 13.000 que atuam no Projeto Mais Médicos para o Brasil. 1.202 municípios de todos os estados e DF receberam reforço. O @minsaude @TeichNelson anunciou mais 3.300 respiradores nacionais e multiplicação dos testes da Covid-19. "
      ],
      "text/plain": [
       "<IPython.core.display.HTML object>"
      ]
     },
     "metadata": {},
     "output_type": "display_data"
    },
    {
     "data": {
      "text/html": [
       "<strong> Data </strong>: 2020-04-21 10:24:18 "
      ],
      "text/plain": [
       "<IPython.core.display.HTML object>"
      ]
     },
     "metadata": {},
     "output_type": "display_data"
    },
    {
     "data": {
      "text/html": [
       "<strong> Likes </strong>: 45434 "
      ],
      "text/plain": [
       "<IPython.core.display.HTML object>"
      ]
     },
     "metadata": {},
     "output_type": "display_data"
    },
    {
     "data": {
      "text/html": [
       "<strong> Link </strong>: <a href='https://twitter.com//jairbolsonaro/status/1252588977686753287' target='_blank'> Acessar </a> "
      ],
      "text/plain": [
       "<IPython.core.display.HTML object>"
      ]
     },
     "metadata": {},
     "output_type": "display_data"
    },
    {
     "data": {
      "text/html": [
       "<hr>"
      ],
      "text/plain": [
       "<IPython.core.display.HTML object>"
      ]
     },
     "metadata": {},
     "output_type": "display_data"
    },
    {
     "data": {
      "text/html": [
       "<strong> Tweet </strong>: Determinei à @CGUonline, órgão federal  responsável pela fiscalização dos gastos públicos, que atue preventivamente, permitindo que os recursos cheguem de maneira segura ao usuário final, o povo brasileiro. O governo federal já empenhou R$ 140 bilhões no combate ao covid-19. "
      ],
      "text/plain": [
       "<IPython.core.display.HTML object>"
      ]
     },
     "metadata": {},
     "output_type": "display_data"
    },
    {
     "data": {
      "text/html": [
       "<strong> Data </strong>: 2020-04-17 17:14:07 "
      ],
      "text/plain": [
       "<IPython.core.display.HTML object>"
      ]
     },
     "metadata": {},
     "output_type": "display_data"
    },
    {
     "data": {
      "text/html": [
       "<strong> Likes </strong>: 112982 "
      ],
      "text/plain": [
       "<IPython.core.display.HTML object>"
      ]
     },
     "metadata": {},
     "output_type": "display_data"
    },
    {
     "data": {
      "text/html": [
       "<strong> Link </strong>: <a href='https://twitter.com//jairbolsonaro/status/1251242559566905346' target='_blank'> Acessar </a> "
      ],
      "text/plain": [
       "<IPython.core.display.HTML object>"
      ]
     },
     "metadata": {},
     "output_type": "display_data"
    },
    {
     "data": {
      "text/html": [
       "<hr>"
      ],
      "text/plain": [
       "<IPython.core.display.HTML object>"
      ]
     },
     "metadata": {},
     "output_type": "display_data"
    },
    {
     "data": {
      "text/html": [
       "<strong> Tweet </strong>: - Minha solidariedade ao cantor @gusttavo_lima, que vem sendo injusta e covardemente atacado após a grande live que fez dentro de sua própria casa. Ele e outros artistas sertanejos e de demais gêneros, têm sido grandes heróis nessa luta contra a COVID19 e merecem aplausos! "
      ],
      "text/plain": [
       "<IPython.core.display.HTML object>"
      ]
     },
     "metadata": {},
     "output_type": "display_data"
    },
    {
     "data": {
      "text/html": [
       "<strong> Data </strong>: 2020-04-16 21:50:36 "
      ],
      "text/plain": [
       "<IPython.core.display.HTML object>"
      ]
     },
     "metadata": {},
     "output_type": "display_data"
    },
    {
     "data": {
      "text/html": [
       "<strong> Likes </strong>: 161712 "
      ],
      "text/plain": [
       "<IPython.core.display.HTML object>"
      ]
     },
     "metadata": {},
     "output_type": "display_data"
    },
    {
     "data": {
      "text/html": [
       "<strong> Link </strong>: <a href='https://twitter.com//jairbolsonaro/status/1250949747772456962' target='_blank'> Acessar </a> "
      ],
      "text/plain": [
       "<IPython.core.display.HTML object>"
      ]
     },
     "metadata": {},
     "output_type": "display_data"
    },
    {
     "data": {
      "text/html": [
       "<hr>"
      ],
      "text/plain": [
       "<IPython.core.display.HTML object>"
      ]
     },
     "metadata": {},
     "output_type": "display_data"
    },
    {
     "data": {
      "text/html": [
       "<strong> Tweet </strong>: - Ações do Presidente Bolsonaro no combate ao covid-19:\n",
       ". Link no youtuve: https://youtu.be/cdQRORfmpcQ pic.twitter.com/JYgzuYGkJE "
      ],
      "text/plain": [
       "<IPython.core.display.HTML object>"
      ]
     },
     "metadata": {},
     "output_type": "display_data"
    },
    {
     "data": {
      "text/html": [
       "<strong> Data </strong>: 2020-04-15 19:51:38 "
      ],
      "text/plain": [
       "<IPython.core.display.HTML object>"
      ]
     },
     "metadata": {},
     "output_type": "display_data"
    },
    {
     "data": {
      "text/html": [
       "<strong> Likes </strong>: 37332 "
      ],
      "text/plain": [
       "<IPython.core.display.HTML object>"
      ]
     },
     "metadata": {},
     "output_type": "display_data"
    },
    {
     "data": {
      "text/html": [
       "<strong> Link </strong>: <a href='https://twitter.com//jairbolsonaro/status/1250557422340575232' target='_blank'> Acessar </a> "
      ],
      "text/plain": [
       "<IPython.core.display.HTML object>"
      ]
     },
     "metadata": {},
     "output_type": "display_data"
    },
    {
     "data": {
      "text/html": [
       "<hr>"
      ],
      "text/plain": [
       "<IPython.core.display.HTML object>"
      ]
     },
     "metadata": {},
     "output_type": "display_data"
    },
    {
     "data": {
      "text/html": [
       "<strong> Tweet </strong>: Hoje, estivemos em Águas Lindas/GO onde o Governo Federal investe com auxílio do governo de Goiás em 200 leitos para o atendimento da covid-19. pic.twitter.com/bNNc3OZLhy "
      ],
      "text/plain": [
       "<IPython.core.display.HTML object>"
      ]
     },
     "metadata": {},
     "output_type": "display_data"
    },
    {
     "data": {
      "text/html": [
       "<strong> Data </strong>: 2020-04-11 13:24:29 "
      ],
      "text/plain": [
       "<IPython.core.display.HTML object>"
      ]
     },
     "metadata": {},
     "output_type": "display_data"
    },
    {
     "data": {
      "text/html": [
       "<strong> Likes </strong>: 39068 "
      ],
      "text/plain": [
       "<IPython.core.display.HTML object>"
      ]
     },
     "metadata": {},
     "output_type": "display_data"
    },
    {
     "data": {
      "text/html": [
       "<strong> Link </strong>: <a href='https://twitter.com//jairbolsonaro/status/1249010440820142080' target='_blank'> Acessar </a> "
      ],
      "text/plain": [
       "<IPython.core.display.HTML object>"
      ]
     },
     "metadata": {},
     "output_type": "display_data"
    },
    {
     "data": {
      "text/html": [
       "<hr>"
      ],
      "text/plain": [
       "<IPython.core.display.HTML object>"
      ]
     },
     "metadata": {},
     "output_type": "display_data"
    },
    {
     "data": {
      "text/html": [
       "<strong> Tweet </strong>: 7.1- coronavoucher: R$ 98 bilhões para 54 milhões de brasileiros.\n",
       "\n",
       "8- Ajuda financeira à prefeituras:  R$ 3 bilhões já usados e serão mais R$5 bilhões para mais de 300 municípios.\n",
       "\n",
       "9- Saque de até R$1.045,00 do FGTS a partir de junho. 60 milhões de brasileiros e R$37 bilhões. "
      ],
      "text/plain": [
       "<IPython.core.display.HTML object>"
      ]
     },
     "metadata": {},
     "output_type": "display_data"
    },
    {
     "data": {
      "text/html": [
       "<strong> Data </strong>: 2020-04-09 19:59:54 "
      ],
      "text/plain": [
       "<IPython.core.display.HTML object>"
      ]
     },
     "metadata": {},
     "output_type": "display_data"
    },
    {
     "data": {
      "text/html": [
       "<strong> Likes </strong>: 8793 "
      ],
      "text/plain": [
       "<IPython.core.display.HTML object>"
      ]
     },
     "metadata": {},
     "output_type": "display_data"
    },
    {
     "data": {
      "text/html": [
       "<strong> Link </strong>: <a href='https://twitter.com//jairbolsonaro/status/1248385175865581579' target='_blank'> Acessar </a> "
      ],
      "text/plain": [
       "<IPython.core.display.HTML object>"
      ]
     },
     "metadata": {},
     "output_type": "display_data"
    },
    {
     "data": {
      "text/html": [
       "<hr>"
      ],
      "text/plain": [
       "<IPython.core.display.HTML object>"
      ]
     },
     "metadata": {},
     "output_type": "display_data"
    },
    {
     "data": {
      "text/html": [
       "<strong> Tweet </strong>: 4- Com muito sacrifício, o Governo Federal já utilizou mais de R$600 bilhões na luta contra o covid-19 e manutenção de empregos. Em breve não haverá mais recursos para durar por muito tempo.\n",
       "\n",
       "5- Onze mil brasileiros repatriados, com devido acompanhamento médico e mais a caminho. "
      ],
      "text/plain": [
       "<IPython.core.display.HTML object>"
      ]
     },
     "metadata": {},
     "output_type": "display_data"
    },
    {
     "data": {
      "text/html": [
       "<strong> Data </strong>: 2020-04-09 19:48:17 "
      ],
      "text/plain": [
       "<IPython.core.display.HTML object>"
      ]
     },
     "metadata": {},
     "output_type": "display_data"
    },
    {
     "data": {
      "text/html": [
       "<strong> Likes </strong>: 6520 "
      ],
      "text/plain": [
       "<IPython.core.display.HTML object>"
      ]
     },
     "metadata": {},
     "output_type": "display_data"
    },
    {
     "data": {
      "text/html": [
       "<strong> Link </strong>: <a href='https://twitter.com//jairbolsonaro/status/1248382250799869955' target='_blank'> Acessar </a> "
      ],
      "text/plain": [
       "<IPython.core.display.HTML object>"
      ]
     },
     "metadata": {},
     "output_type": "display_data"
    },
    {
     "data": {
      "text/html": [
       "<hr>"
      ],
      "text/plain": [
       "<IPython.core.display.HTML object>"
      ]
     },
     "metadata": {},
     "output_type": "display_data"
    },
    {
     "data": {
      "text/html": [
       "<strong> Tweet </strong>: Conselho Regional de Medicina do Estado do Amazonas acaba de publicar Resolução 101 recomendando que o médico possa indicar uso da cloroquina e hidroxicloroquina para pacientes com Covid-19, em casos LEVES, moderados ou graves. "
      ],
      "text/plain": [
       "<IPython.core.display.HTML object>"
      ]
     },
     "metadata": {},
     "output_type": "display_data"
    },
    {
     "data": {
      "text/html": [
       "<strong> Data </strong>: 2020-04-09 15:43:09 "
      ],
      "text/plain": [
       "<IPython.core.display.HTML object>"
      ]
     },
     "metadata": {},
     "output_type": "display_data"
    },
    {
     "data": {
      "text/html": [
       "<strong> Likes </strong>: 29115 "
      ],
      "text/plain": [
       "<IPython.core.display.HTML object>"
      ]
     },
     "metadata": {},
     "output_type": "display_data"
    },
    {
     "data": {
      "text/html": [
       "<strong> Link </strong>: <a href='https://twitter.com//ArthurWeint/status/1248320562000265216' target='_blank'> Acessar </a> "
      ],
      "text/plain": [
       "<IPython.core.display.HTML object>"
      ]
     },
     "metadata": {},
     "output_type": "display_data"
    },
    {
     "data": {
      "text/html": [
       "<hr>"
      ],
      "text/plain": [
       "<IPython.core.display.HTML object>"
      ]
     },
     "metadata": {},
     "output_type": "display_data"
    },
    {
     "data": {
      "text/html": [
       "<strong> Tweet </strong>: Para amenizar os prejuízos causados pelo Covid-19, concederemos, por 3 meses, isenção de pagamento de energia para mais de 9 milhões de famílias humildes. Não estamos medindo esforços para proteger nossa nação e garantir que nenhum brasileiro fique para trás nessa luta!0 "
      ],
      "text/plain": [
       "<IPython.core.display.HTML object>"
      ]
     },
     "metadata": {},
     "output_type": "display_data"
    },
    {
     "data": {
      "text/html": [
       "<strong> Data </strong>: 2020-04-08 21:23:04 "
      ],
      "text/plain": [
       "<IPython.core.display.HTML object>"
      ]
     },
     "metadata": {},
     "output_type": "display_data"
    },
    {
     "data": {
      "text/html": [
       "<strong> Likes </strong>: 79497 "
      ],
      "text/plain": [
       "<IPython.core.display.HTML object>"
      ]
     },
     "metadata": {},
     "output_type": "display_data"
    },
    {
     "data": {
      "text/html": [
       "<strong> Link </strong>: <a href='https://twitter.com//jairbolsonaro/status/1248043717031854080' target='_blank'> Acessar </a> "
      ],
      "text/plain": [
       "<IPython.core.display.HTML object>"
      ]
     },
     "metadata": {},
     "output_type": "display_data"
    },
    {
     "data": {
      "text/html": [
       "<hr>"
      ],
      "text/plain": [
       "<IPython.core.display.HTML object>"
      ]
     },
     "metadata": {},
     "output_type": "display_data"
    },
    {
     "data": {
      "text/html": [
       "<strong> Tweet </strong>: - Dr. Kalil Filho: \"Eu usei ... vale a pena o uso da HIDROXICLOROQUINA em pacientes infectados pelo coronavirus.\" https://youtu.be/_vwHYaw1WgI  "
      ],
      "text/plain": [
       "<IPython.core.display.HTML object>"
      ]
     },
     "metadata": {},
     "output_type": "display_data"
    },
    {
     "data": {
      "text/html": [
       "<strong> Data </strong>: 2020-04-08 12:51:17 "
      ],
      "text/plain": [
       "<IPython.core.display.HTML object>"
      ]
     },
     "metadata": {},
     "output_type": "display_data"
    },
    {
     "data": {
      "text/html": [
       "<strong> Likes </strong>: 41489 "
      ],
      "text/plain": [
       "<IPython.core.display.HTML object>"
      ]
     },
     "metadata": {},
     "output_type": "display_data"
    },
    {
     "data": {
      "text/html": [
       "<strong> Link </strong>: <a href='https://twitter.com//jairbolsonaro/status/1247914924665438209' target='_blank'> Acessar </a> "
      ],
      "text/plain": [
       "<IPython.core.display.HTML object>"
      ]
     },
     "metadata": {},
     "output_type": "display_data"
    },
    {
     "data": {
      "text/html": [
       "<hr>"
      ],
      "text/plain": [
       "<IPython.core.display.HTML object>"
      ]
     },
     "metadata": {},
     "output_type": "display_data"
    },
    {
     "data": {
      "text/html": [
       "<strong> Tweet </strong>: O GOV @jairbolsonaro autorizou a distribuição dos alimentos que estão em estoque nas escolas com aulas suspensas aos pais/responsáveis dos estudantes. É mais uma ação neste momento de enfrentamento ao coronavírus. Conheça outras ações http://portal.mec.gov.br/component/content/article?id=86791 … "
      ],
      "text/plain": [
       "<IPython.core.display.HTML object>"
      ]
     },
     "metadata": {},
     "output_type": "display_data"
    },
    {
     "data": {
      "text/html": [
       "<strong> Data </strong>: 2020-04-08 12:35:44 "
      ],
      "text/plain": [
       "<IPython.core.display.HTML object>"
      ]
     },
     "metadata": {},
     "output_type": "display_data"
    },
    {
     "data": {
      "text/html": [
       "<strong> Likes </strong>: 22378 "
      ],
      "text/plain": [
       "<IPython.core.display.HTML object>"
      ]
     },
     "metadata": {},
     "output_type": "display_data"
    },
    {
     "data": {
      "text/html": [
       "<strong> Link </strong>: <a href='https://twitter.com//AbrahamWeint/status/1247911011857940481' target='_blank'> Acessar </a> "
      ],
      "text/plain": [
       "<IPython.core.display.HTML object>"
      ]
     },
     "metadata": {},
     "output_type": "display_data"
    },
    {
     "data": {
      "text/html": [
       "<hr>"
      ],
      "text/plain": [
       "<IPython.core.display.HTML object>"
      ]
     },
     "metadata": {},
     "output_type": "display_data"
    },
    {
     "data": {
      "text/html": [
       "<strong> Tweet </strong>: 2- Cada vez mais o uso da Cloroquina se apresenta como algo eficaz. Dois renomados médicos no Brasil se recusaram a divulgar o que os curou da COVID-19. Seriam questões políticas, já que um pertence a equipe do Governador de SP? "
      ],
      "text/plain": [
       "<IPython.core.display.HTML object>"
      ]
     },
     "metadata": {},
     "output_type": "display_data"
    },
    {
     "data": {
      "text/html": [
       "<strong> Data </strong>: 2020-04-08 08:01:04 "
      ],
      "text/plain": [
       "<IPython.core.display.HTML object>"
      ]
     },
     "metadata": {},
     "output_type": "display_data"
    },
    {
     "data": {
      "text/html": [
       "<strong> Likes </strong>: 43293 "
      ],
      "text/plain": [
       "<IPython.core.display.HTML object>"
      ]
     },
     "metadata": {},
     "output_type": "display_data"
    },
    {
     "data": {
      "text/html": [
       "<strong> Link </strong>: <a href='https://twitter.com//jairbolsonaro/status/1247841886917791745' target='_blank'> Acessar </a> "
      ],
      "text/plain": [
       "<IPython.core.display.HTML object>"
      ]
     },
     "metadata": {},
     "output_type": "display_data"
    },
    {
     "data": {
      "text/html": [
       "<hr>"
      ],
      "text/plain": [
       "<IPython.core.display.HTML object>"
      ]
     },
     "metadata": {},
     "output_type": "display_data"
    },
    {
     "data": {
      "text/html": [
       "<strong> Tweet </strong>: 1- Há 40 dias venho falando do uso da Hidroxicloroquina no tratamento do COVID-19. Sempre busquei tratar da vida das pessoas em 1° lugar, mas também se preocupando em preservar empregos. Fiz, ao longo desse tempo, contato com dezenas médicos e chefes de estados de outros países. "
      ],
      "text/plain": [
       "<IPython.core.display.HTML object>"
      ]
     },
     "metadata": {},
     "output_type": "display_data"
    },
    {
     "data": {
      "text/html": [
       "<strong> Data </strong>: 2020-04-08 08:00:16 "
      ],
      "text/plain": [
       "<IPython.core.display.HTML object>"
      ]
     },
     "metadata": {},
     "output_type": "display_data"
    },
    {
     "data": {
      "text/html": [
       "<strong> Likes </strong>: 73376 "
      ],
      "text/plain": [
       "<IPython.core.display.HTML object>"
      ]
     },
     "metadata": {},
     "output_type": "display_data"
    },
    {
     "data": {
      "text/html": [
       "<strong> Link </strong>: <a href='https://twitter.com//jairbolsonaro/status/1247841684584640512' target='_blank'> Acessar </a> "
      ],
      "text/plain": [
       "<IPython.core.display.HTML object>"
      ]
     },
     "metadata": {},
     "output_type": "display_data"
    },
    {
     "data": {
      "text/html": [
       "<hr>"
      ],
      "text/plain": [
       "<IPython.core.display.HTML object>"
      ]
     },
     "metadata": {},
     "output_type": "display_data"
    },
    {
     "data": {
      "text/html": [
       "<strong> Tweet </strong>: - Minha solidariedade ao primeiro-ministro @BorisJohnson. Faço votos para que ele se recupere o quanto antes.\n",
       "\n",
       "- Desejo, também, muita força para sua família e para todo o grande povo britânico, ao qual estamos unidos no combate ao covid-19 e aos seus efeitos malignos. "
      ],
      "text/plain": [
       "<IPython.core.display.HTML object>"
      ]
     },
     "metadata": {},
     "output_type": "display_data"
    },
    {
     "data": {
      "text/html": [
       "<strong> Data </strong>: 2020-04-07 18:51:57 "
      ],
      "text/plain": [
       "<IPython.core.display.HTML object>"
      ]
     },
     "metadata": {},
     "output_type": "display_data"
    },
    {
     "data": {
      "text/html": [
       "<strong> Likes </strong>: 64429 "
      ],
      "text/plain": [
       "<IPython.core.display.HTML object>"
      ]
     },
     "metadata": {},
     "output_type": "display_data"
    },
    {
     "data": {
      "text/html": [
       "<strong> Link </strong>: <a href='https://twitter.com//jairbolsonaro/status/1247643300032663552' target='_blank'> Acessar </a> "
      ],
      "text/plain": [
       "<IPython.core.display.HTML object>"
      ]
     },
     "metadata": {},
     "output_type": "display_data"
    },
    {
     "data": {
      "text/html": [
       "<hr>"
      ],
      "text/plain": [
       "<IPython.core.display.HTML object>"
      ]
     },
     "metadata": {},
     "output_type": "display_data"
    },
    {
     "data": {
      "text/html": [
       "<strong> Tweet </strong>: - Imumologista/oncologista Nise Yamaguchi  e o uso da Hidroxicloroquina no tratamento do COVID-19. pic.twitter.com/8QwQX7Z0H7 "
      ],
      "text/plain": [
       "<IPython.core.display.HTML object>"
      ]
     },
     "metadata": {},
     "output_type": "display_data"
    },
    {
     "data": {
      "text/html": [
       "<strong> Data </strong>: 2020-04-07 18:22:09 "
      ],
      "text/plain": [
       "<IPython.core.display.HTML object>"
      ]
     },
     "metadata": {},
     "output_type": "display_data"
    },
    {
     "data": {
      "text/html": [
       "<strong> Likes </strong>: 61080 "
      ],
      "text/plain": [
       "<IPython.core.display.HTML object>"
      ]
     },
     "metadata": {},
     "output_type": "display_data"
    },
    {
     "data": {
      "text/html": [
       "<strong> Link </strong>: <a href='https://twitter.com//jairbolsonaro/status/1247635800101212160' target='_blank'> Acessar </a> "
      ],
      "text/plain": [
       "<IPython.core.display.HTML object>"
      ]
     },
     "metadata": {},
     "output_type": "display_data"
    },
    {
     "data": {
      "text/html": [
       "<hr>"
      ],
      "text/plain": [
       "<IPython.core.display.HTML object>"
      ]
     },
     "metadata": {},
     "output_type": "display_data"
    },
    {
     "data": {
      "text/html": [
       "<strong> Tweet </strong>: Pesquisa com 6.227 médicos de 30 países indicou que a hidroxicloroquina é o tratamento mais efetivo contra COVID-19. Havia uma lista de 15 outras opções de tratamento. Não houve cunho ideológico na pesquisa. pic.twitter.com/upCufQ6kFd "
      ],
      "text/plain": [
       "<IPython.core.display.HTML object>"
      ]
     },
     "metadata": {},
     "output_type": "display_data"
    },
    {
     "data": {
      "text/html": [
       "<strong> Data </strong>: 2020-04-06 11:25:49 "
      ],
      "text/plain": [
       "<IPython.core.display.HTML object>"
      ]
     },
     "metadata": {},
     "output_type": "display_data"
    },
    {
     "data": {
      "text/html": [
       "<strong> Likes </strong>: 28743 "
      ],
      "text/plain": [
       "<IPython.core.display.HTML object>"
      ]
     },
     "metadata": {},
     "output_type": "display_data"
    },
    {
     "data": {
      "text/html": [
       "<strong> Link </strong>: <a href='https://twitter.com//ArthurWeint/status/1247168637246541824' target='_blank'> Acessar </a> "
      ],
      "text/plain": [
       "<IPython.core.display.HTML object>"
      ]
     },
     "metadata": {},
     "output_type": "display_data"
    },
    {
     "data": {
      "text/html": [
       "<hr>"
      ],
      "text/plain": [
       "<IPython.core.display.HTML object>"
      ]
     },
     "metadata": {},
     "output_type": "display_data"
    },
    {
     "data": {
      "text/html": [
       "<strong> Tweet </strong>: LIVE com @heliobeltrao , Dr. Zanotto e Pedro Batista Jr., da Prevent Senior. Esclarecedores dados e pró-atividade contra o covid-19. Assista: https://youtu.be/nTPGCsMT8ww  "
      ],
      "text/plain": [
       "<IPython.core.display.HTML object>"
      ]
     },
     "metadata": {},
     "output_type": "display_data"
    },
    {
     "data": {
      "text/html": [
       "<strong> Data </strong>: 2020-04-05 11:07:12 "
      ],
      "text/plain": [
       "<IPython.core.display.HTML object>"
      ]
     },
     "metadata": {},
     "output_type": "display_data"
    },
    {
     "data": {
      "text/html": [
       "<strong> Likes </strong>: 30436 "
      ],
      "text/plain": [
       "<IPython.core.display.HTML object>"
      ]
     },
     "metadata": {},
     "output_type": "display_data"
    },
    {
     "data": {
      "text/html": [
       "<strong> Link </strong>: <a href='https://twitter.com//jairbolsonaro/status/1246801566386053120' target='_blank'> Acessar </a> "
      ],
      "text/plain": [
       "<IPython.core.display.HTML object>"
      ]
     },
     "metadata": {},
     "output_type": "display_data"
    },
    {
     "data": {
      "text/html": [
       "<hr>"
      ],
      "text/plain": [
       "<IPython.core.display.HTML object>"
      ]
     },
     "metadata": {},
     "output_type": "display_data"
    },
    {
     "data": {
      "text/html": [
       "<strong> Tweet </strong>: - @RudyGiuliani entrevistou o médico DR. ZELENKO que já tratou cerca de 500 pacientes com covid-19.\n",
       "\n",
       "- Assista: https://youtu.be/xSKcnejJmVw \n",
       "@emb_resistencia "
      ],
      "text/plain": [
       "<IPython.core.display.HTML object>"
      ]
     },
     "metadata": {},
     "output_type": "display_data"
    },
    {
     "data": {
      "text/html": [
       "<strong> Data </strong>: 2020-04-05 09:52:13 "
      ],
      "text/plain": [
       "<IPython.core.display.HTML object>"
      ]
     },
     "metadata": {},
     "output_type": "display_data"
    },
    {
     "data": {
      "text/html": [
       "<strong> Likes </strong>: 22557 "
      ],
      "text/plain": [
       "<IPython.core.display.HTML object>"
      ]
     },
     "metadata": {},
     "output_type": "display_data"
    },
    {
     "data": {
      "text/html": [
       "<strong> Link </strong>: <a href='https://twitter.com//jairbolsonaro/status/1246782693972590592' target='_blank'> Acessar </a> "
      ],
      "text/plain": [
       "<IPython.core.display.HTML object>"
      ]
     },
     "metadata": {},
     "output_type": "display_data"
    },
    {
     "data": {
      "text/html": [
       "<hr>"
      ],
      "text/plain": [
       "<IPython.core.display.HTML object>"
      ]
     },
     "metadata": {},
     "output_type": "display_data"
    },
    {
     "data": {
      "text/html": [
       "<strong> Tweet </strong>: - Medicamentos (entre outros) que tiveram todos seus impostos zerados pelo Governo Federal: Hidroxicloroquina e Azitromicina.\n",
       "\n",
       "- Outros que serão \"zerados\" nos próximos dias: Zinco e vitamina \"D\".\n",
       "\n",
       "- Todos usados no tratamento de pacientes portadores da COVID-19. "
      ],
      "text/plain": [
       "<IPython.core.display.HTML object>"
      ]
     },
     "metadata": {},
     "output_type": "display_data"
    },
    {
     "data": {
      "text/html": [
       "<strong> Data </strong>: 2020-04-04 10:41:34 "
      ],
      "text/plain": [
       "<IPython.core.display.HTML object>"
      ]
     },
     "metadata": {},
     "output_type": "display_data"
    },
    {
     "data": {
      "text/html": [
       "<strong> Likes </strong>: 54565 "
      ],
      "text/plain": [
       "<IPython.core.display.HTML object>"
      ]
     },
     "metadata": {},
     "output_type": "display_data"
    },
    {
     "data": {
      "text/html": [
       "<strong> Link </strong>: <a href='https://twitter.com//jairbolsonaro/status/1246432726460305414' target='_blank'> Acessar </a> "
      ],
      "text/plain": [
       "<IPython.core.display.HTML object>"
      ]
     },
     "metadata": {},
     "output_type": "display_data"
    },
    {
     "data": {
      "text/html": [
       "<hr>"
      ],
      "text/plain": [
       "<IPython.core.display.HTML object>"
      ]
     },
     "metadata": {},
     "output_type": "display_data"
    },
    {
     "data": {
      "text/html": [
       "<strong> Tweet </strong>: - A iniciativa foi motivada pela necessidade de otimizar os serviços públicos de saúde para conter o Covid-19. O valor adicional será pago diretamente a médicos, enfermeiros, fisioterapeutas, farmacêuticos, terapeutas ocupacionais, psicólogos etc.\n",
       "\n",
       "@secomvc "
      ],
      "text/plain": [
       "<IPython.core.display.HTML object>"
      ]
     },
     "metadata": {},
     "output_type": "display_data"
    },
    {
     "data": {
      "text/html": [
       "<strong> Data </strong>: 2020-04-03 07:15:22 "
      ],
      "text/plain": [
       "<IPython.core.display.HTML object>"
      ]
     },
     "metadata": {},
     "output_type": "display_data"
    },
    {
     "data": {
      "text/html": [
       "<strong> Likes </strong>: 21252 "
      ],
      "text/plain": [
       "<IPython.core.display.HTML object>"
      ]
     },
     "metadata": {},
     "output_type": "display_data"
    },
    {
     "data": {
      "text/html": [
       "<strong> Link </strong>: <a href='https://twitter.com//jairbolsonaro/status/1246018449207328768' target='_blank'> Acessar </a> "
      ],
      "text/plain": [
       "<IPython.core.display.HTML object>"
      ]
     },
     "metadata": {},
     "output_type": "display_data"
    },
    {
     "data": {
      "text/html": [
       "<hr>"
      ],
      "text/plain": [
       "<IPython.core.display.HTML object>"
      ]
     },
     "metadata": {},
     "output_type": "display_data"
    },
    {
     "data": {
      "text/html": [
       "<strong> Tweet </strong>: O @govbr destinou R$140 milhões para a construção do Centro Hospitalar Fiocruz no RJ para o combate ao Covid-19. 200 leitos de intensivo e semi-intensivo. As Forças Armadas concluíram hospital de campanha em Boa Vista/Roraima com capacidade para 1.600 pessoas. Mais sendo feito! "
      ],
      "text/plain": [
       "<IPython.core.display.HTML object>"
      ]
     },
     "metadata": {},
     "output_type": "display_data"
    },
    {
     "data": {
      "text/html": [
       "<strong> Data </strong>: 2020-04-02 08:33:29 "
      ],
      "text/plain": [
       "<IPython.core.display.HTML object>"
      ]
     },
     "metadata": {},
     "output_type": "display_data"
    },
    {
     "data": {
      "text/html": [
       "<strong> Likes </strong>: 31584 "
      ],
      "text/plain": [
       "<IPython.core.display.HTML object>"
      ]
     },
     "metadata": {},
     "output_type": "display_data"
    },
    {
     "data": {
      "text/html": [
       "<strong> Link </strong>: <a href='https://twitter.com//jairbolsonaro/status/1245675718023004160' target='_blank'> Acessar </a> "
      ],
      "text/plain": [
       "<IPython.core.display.HTML object>"
      ]
     },
     "metadata": {},
     "output_type": "display_data"
    },
    {
     "data": {
      "text/html": [
       "<hr>"
      ],
      "text/plain": [
       "<IPython.core.display.HTML object>"
      ]
     },
     "metadata": {},
     "output_type": "display_data"
    },
    {
     "data": {
      "text/html": [
       "<strong> Tweet </strong>: - Sancionei o projeto que prevê auxílio emergencial de R$ 600/mês p/ trabalhadores informais, autônomos, microempreendedores individuais e outros afetados pelos efeitos da pandemia de Covid-19 por 3 meses. Benefício atende até 2 membros da mesma família, podendo chegar a R$ 1200. "
      ],
      "text/plain": [
       "<IPython.core.display.HTML object>"
      ]
     },
     "metadata": {},
     "output_type": "display_data"
    },
    {
     "data": {
      "text/html": [
       "<strong> Data </strong>: 2020-04-01 22:27:38 "
      ],
      "text/plain": [
       "<IPython.core.display.HTML object>"
      ]
     },
     "metadata": {},
     "output_type": "display_data"
    },
    {
     "data": {
      "text/html": [
       "<strong> Likes </strong>: 42695 "
      ],
      "text/plain": [
       "<IPython.core.display.HTML object>"
      ]
     },
     "metadata": {},
     "output_type": "display_data"
    },
    {
     "data": {
      "text/html": [
       "<strong> Link </strong>: <a href='https://twitter.com//jairbolsonaro/status/1245523249670340616' target='_blank'> Acessar </a> "
      ],
      "text/plain": [
       "<IPython.core.display.HTML object>"
      ]
     },
     "metadata": {},
     "output_type": "display_data"
    },
    {
     "data": {
      "text/html": [
       "<hr>"
      ],
      "text/plain": [
       "<IPython.core.display.HTML object>"
      ]
     },
     "metadata": {},
     "output_type": "display_data"
    },
    {
     "data": {
      "text/html": [
       "<strong> Tweet </strong>: - O Governo Federal anuncia o início da distribuição de testes rápidos para o covid-19. O primeiro lote de 500.000 unidades já foi direcionado para todo país, de acordo com os números do vírus. @minsaude @DefesaGovBr @exercitooficial @marmilbr @fab_oficial pic.twitter.com/jg3gohsib4 "
      ],
      "text/plain": [
       "<IPython.core.display.HTML object>"
      ]
     },
     "metadata": {},
     "output_type": "display_data"
    },
    {
     "data": {
      "text/html": [
       "<strong> Data </strong>: 2020-04-01 20:00:14 "
      ],
      "text/plain": [
       "<IPython.core.display.HTML object>"
      ]
     },
     "metadata": {},
     "output_type": "display_data"
    },
    {
     "data": {
      "text/html": [
       "<strong> Likes </strong>: 23089 "
      ],
      "text/plain": [
       "<IPython.core.display.HTML object>"
      ]
     },
     "metadata": {},
     "output_type": "display_data"
    },
    {
     "data": {
      "text/html": [
       "<strong> Link </strong>: <a href='https://twitter.com//jairbolsonaro/status/1245486158034984960' target='_blank'> Acessar </a> "
      ],
      "text/plain": [
       "<IPython.core.display.HTML object>"
      ]
     },
     "metadata": {},
     "output_type": "display_data"
    },
    {
     "data": {
      "text/html": [
       "<hr>"
      ],
      "text/plain": [
       "<IPython.core.display.HTML object>"
      ]
     },
     "metadata": {},
     "output_type": "display_data"
    },
    {
     "data": {
      "text/html": [
       "<strong> Tweet </strong>: - Atualização de ações do Governo Federal no enfrentamento ao covid-19: http://youtu.be/zYSqjQeTRVU  "
      ],
      "text/plain": [
       "<IPython.core.display.HTML object>"
      ]
     },
     "metadata": {},
     "output_type": "display_data"
    },
    {
     "data": {
      "text/html": [
       "<strong> Data </strong>: 2020-04-01 12:22:17 "
      ],
      "text/plain": [
       "<IPython.core.display.HTML object>"
      ]
     },
     "metadata": {},
     "output_type": "display_data"
    },
    {
     "data": {
      "text/html": [
       "<strong> Likes </strong>: 19586 "
      ],
      "text/plain": [
       "<IPython.core.display.HTML object>"
      ]
     },
     "metadata": {},
     "output_type": "display_data"
    },
    {
     "data": {
      "text/html": [
       "<strong> Link </strong>: <a href='https://twitter.com//jairbolsonaro/status/1245370909361397761' target='_blank'> Acessar </a> "
      ],
      "text/plain": [
       "<IPython.core.display.HTML object>"
      ]
     },
     "metadata": {},
     "output_type": "display_data"
    },
    {
     "data": {
      "text/html": [
       "<hr>"
      ],
      "text/plain": [
       "<IPython.core.display.HTML object>"
      ]
     },
     "metadata": {},
     "output_type": "display_data"
    },
    {
     "data": {
      "text/html": [
       "<strong> Tweet </strong>: As duas grandes desgraças do mundo: o comunismo e o Coronavírus! "
      ],
      "text/plain": [
       "<IPython.core.display.HTML object>"
      ]
     },
     "metadata": {},
     "output_type": "display_data"
    },
    {
     "data": {
      "text/html": [
       "<strong> Data </strong>: 2020-04-01 12:03:34 "
      ],
      "text/plain": [
       "<IPython.core.display.HTML object>"
      ]
     },
     "metadata": {},
     "output_type": "display_data"
    },
    {
     "data": {
      "text/html": [
       "<strong> Likes </strong>: 56352 "
      ],
      "text/plain": [
       "<IPython.core.display.HTML object>"
      ]
     },
     "metadata": {},
     "output_type": "display_data"
    },
    {
     "data": {
      "text/html": [
       "<strong> Link </strong>: <a href='https://twitter.com//Miltonneves/status/1245366199892037634' target='_blank'> Acessar </a> "
      ],
      "text/plain": [
       "<IPython.core.display.HTML object>"
      ]
     },
     "metadata": {},
     "output_type": "display_data"
    },
    {
     "data": {
      "text/html": [
       "<hr>"
      ],
      "text/plain": [
       "<IPython.core.display.HTML object>"
      ]
     },
     "metadata": {},
     "output_type": "display_data"
    },
    {
     "data": {
      "text/html": [
       "<strong> Tweet </strong>: - Nesta manhã tive contato telefônico com o Presidente dos EUA, @realDonaldTrump .Trocamos informações sobre o impacto do covid-19, bem como experiências no uso da hidroxicloroquina.\n",
       "\n",
       "- Na oportunidade, reafirmamos a solidariedade mútua entre os dois países. Com @ernestofaraujo pic.twitter.com/3IiC4C34Bq "
      ],
      "text/plain": [
       "<IPython.core.display.HTML object>"
      ]
     },
     "metadata": {},
     "output_type": "display_data"
    },
    {
     "data": {
      "text/html": [
       "<strong> Data </strong>: 2020-04-01 11:32:49 "
      ],
      "text/plain": [
       "<IPython.core.display.HTML object>"
      ]
     },
     "metadata": {},
     "output_type": "display_data"
    },
    {
     "data": {
      "text/html": [
       "<strong> Likes </strong>: 37606 "
      ],
      "text/plain": [
       "<IPython.core.display.HTML object>"
      ]
     },
     "metadata": {},
     "output_type": "display_data"
    },
    {
     "data": {
      "text/html": [
       "<strong> Link </strong>: <a href='https://twitter.com//jairbolsonaro/status/1245358462953050115' target='_blank'> Acessar </a> "
      ],
      "text/plain": [
       "<IPython.core.display.HTML object>"
      ]
     },
     "metadata": {},
     "output_type": "display_data"
    },
    {
     "data": {
      "text/html": [
       "<hr>"
      ],
      "text/plain": [
       "<IPython.core.display.HTML object>"
      ]
     },
     "metadata": {},
     "output_type": "display_data"
    },
    {
     "data": {
      "text/html": [
       "<strong> Tweet </strong>: Chegaram os equipamentos de UTI do Hospital das Clínicas de Porto Alegre de recursos do @MEC_Comunicacao. Mais vindo para expansões dos leitos de 40 Hospitais Universitários (maior rede do Brasil), no enfrentamento do covid-19 e outros anúncios diários em nossas redes sociais. pic.twitter.com/fnEHgEuz2U "
      ],
      "text/plain": [
       "<IPython.core.display.HTML object>"
      ]
     },
     "metadata": {},
     "output_type": "display_data"
    },
    {
     "data": {
      "text/html": [
       "<strong> Data </strong>: 2020-03-31 06:52:00 "
      ],
      "text/plain": [
       "<IPython.core.display.HTML object>"
      ]
     },
     "metadata": {},
     "output_type": "display_data"
    },
    {
     "data": {
      "text/html": [
       "<strong> Likes </strong>: 20677 "
      ],
      "text/plain": [
       "<IPython.core.display.HTML object>"
      ]
     },
     "metadata": {},
     "output_type": "display_data"
    },
    {
     "data": {
      "text/html": [
       "<strong> Link </strong>: <a href='https://twitter.com//jairbolsonaro/status/1244925403111841792' target='_blank'> Acessar </a> "
      ],
      "text/plain": [
       "<IPython.core.display.HTML object>"
      ]
     },
     "metadata": {},
     "output_type": "display_data"
    },
    {
     "data": {
      "text/html": [
       "<hr>"
      ],
      "text/plain": [
       "<IPython.core.display.HTML object>"
      ]
     },
     "metadata": {},
     "output_type": "display_data"
    },
    {
     "data": {
      "text/html": [
       "<strong> Tweet </strong>: - A Hidroxicloroquina cada vez mais demonstra sua eficácia em portadores do COVID-19.\n",
       "- Tenho recebido relatos de todo o Brasil nesse sentido.\n",
       "- Preservar vidas e empregos.\n",
       "- https://youtu.be/vYLIRzhJIoY pic.twitter.com/YdP4h3FsD1 "
      ],
      "text/plain": [
       "<IPython.core.display.HTML object>"
      ]
     },
     "metadata": {},
     "output_type": "display_data"
    },
    {
     "data": {
      "text/html": [
       "<strong> Data </strong>: 2020-03-29 20:02:04 "
      ],
      "text/plain": [
       "<IPython.core.display.HTML object>"
      ]
     },
     "metadata": {},
     "output_type": "display_data"
    },
    {
     "data": {
      "text/html": [
       "<strong> Likes </strong>: 48135 "
      ],
      "text/plain": [
       "<IPython.core.display.HTML object>"
      ]
     },
     "metadata": {},
     "output_type": "display_data"
    },
    {
     "data": {
      "text/html": [
       "<strong> Link </strong>: <a href='https://twitter.com//jairbolsonaro/status/1244399453093724169' target='_blank'> Acessar </a> "
      ],
      "text/plain": [
       "<IPython.core.display.HTML object>"
      ]
     },
     "metadata": {},
     "output_type": "display_data"
    },
    {
     "data": {
      "text/html": [
       "<hr>"
      ],
      "text/plain": [
       "<IPython.core.display.HTML object>"
      ]
     },
     "metadata": {},
     "output_type": "display_data"
    },
    {
     "data": {
      "text/html": [
       "<strong> Tweet </strong>: Declaração do G-20:\n",
       "http://www.itamaraty.gov.br/pt-BR/notas-a-imprensa/21469-cupula-extraordinaria-dos-lideres-do-g20-declaracao-sobre-covid-19 … "
      ],
      "text/plain": [
       "<IPython.core.display.HTML object>"
      ]
     },
     "metadata": {},
     "output_type": "display_data"
    },
    {
     "data": {
      "text/html": [
       "<strong> Data </strong>: 2020-03-29 17:49:49 "
      ],
      "text/plain": [
       "<IPython.core.display.HTML object>"
      ]
     },
     "metadata": {},
     "output_type": "display_data"
    },
    {
     "data": {
      "text/html": [
       "<strong> Likes </strong>: 10928 "
      ],
      "text/plain": [
       "<IPython.core.display.HTML object>"
      ]
     },
     "metadata": {},
     "output_type": "display_data"
    },
    {
     "data": {
      "text/html": [
       "<strong> Link </strong>: <a href='https://twitter.com//jairbolsonaro/status/1244366171136315394' target='_blank'> Acessar </a> "
      ],
      "text/plain": [
       "<IPython.core.display.HTML object>"
      ]
     },
     "metadata": {},
     "output_type": "display_data"
    },
    {
     "data": {
      "text/html": [
       "<hr>"
      ],
      "text/plain": [
       "<IPython.core.display.HTML object>"
      ]
     },
     "metadata": {},
     "output_type": "display_data"
    },
    {
     "data": {
      "text/html": [
       "<strong> Tweet </strong>: - Cúpula extraordinária do G-20, declaração sobre o COVID-19:\n",
       "\n",
       "1- Proteger vidas, trabalho diário exposto em nossa timeline;\n",
       "2- Salvaguardar os empregos;\n",
       "3- Restaurar a confiança;\n",
       "4- Minimizar interrupções no comércio... pic.twitter.com/ZLKb1q7eaF "
      ],
      "text/plain": [
       "<IPython.core.display.HTML object>"
      ]
     },
     "metadata": {},
     "output_type": "display_data"
    },
    {
     "data": {
      "text/html": [
       "<strong> Data </strong>: 2020-03-29 16:42:28 "
      ],
      "text/plain": [
       "<IPython.core.display.HTML object>"
      ]
     },
     "metadata": {},
     "output_type": "display_data"
    },
    {
     "data": {
      "text/html": [
       "<strong> Likes </strong>: 44632 "
      ],
      "text/plain": [
       "<IPython.core.display.HTML object>"
      ]
     },
     "metadata": {},
     "output_type": "display_data"
    },
    {
     "data": {
      "text/html": [
       "<strong> Link </strong>: <a href='https://twitter.com//jairbolsonaro/status/1244349222016729089' target='_blank'> Acessar </a> "
      ],
      "text/plain": [
       "<IPython.core.display.HTML object>"
      ]
     },
     "metadata": {},
     "output_type": "display_data"
    },
    {
     "data": {
      "text/html": [
       "<hr>"
      ],
      "text/plain": [
       "<IPython.core.display.HTML object>"
      ]
     },
     "metadata": {},
     "output_type": "display_data"
    },
    {
     "data": {
      "text/html": [
       "<strong> Tweet </strong>: O @MEC_Comunicacao @AbrahamWeint cortou R$ 450 milhões da estatal TV Escola. O Grupo de Trabalho do covid-19 expande os leitos de 40 Hospitais Universitários (maior rede do Brasil). "
      ],
      "text/plain": [
       "<IPython.core.display.HTML object>"
      ]
     },
     "metadata": {},
     "output_type": "display_data"
    },
    {
     "data": {
      "text/html": [
       "<strong> Data </strong>: 2020-03-28 19:22:13 "
      ],
      "text/plain": [
       "<IPython.core.display.HTML object>"
      ]
     },
     "metadata": {},
     "output_type": "display_data"
    },
    {
     "data": {
      "text/html": [
       "<strong> Likes </strong>: 16593 "
      ],
      "text/plain": [
       "<IPython.core.display.HTML object>"
      ]
     },
     "metadata": {},
     "output_type": "display_data"
    },
    {
     "data": {
      "text/html": [
       "<strong> Link </strong>: <a href='https://twitter.com//jairbolsonaro/status/1244027038220144640' target='_blank'> Acessar </a> "
      ],
      "text/plain": [
       "<IPython.core.display.HTML object>"
      ]
     },
     "metadata": {},
     "output_type": "display_data"
    },
    {
     "data": {
      "text/html": [
       "<hr>"
      ],
      "text/plain": [
       "<IPython.core.display.HTML object>"
      ]
     },
     "metadata": {},
     "output_type": "display_data"
    },
    {
     "data": {
      "text/html": [
       "<strong> Tweet </strong>: Forças Armadas seguem o trabalho 24h por dia, 7 dias na semana, no combate ao covid-19. @DefesaGovBr @exercitooficial @marmilbr @fab_oficial pic.twitter.com/yarz4PnSBl "
      ],
      "text/plain": [
       "<IPython.core.display.HTML object>"
      ]
     },
     "metadata": {},
     "output_type": "display_data"
    },
    {
     "data": {
      "text/html": [
       "<strong> Data </strong>: 2020-03-28 13:10:21 "
      ],
      "text/plain": [
       "<IPython.core.display.HTML object>"
      ]
     },
     "metadata": {},
     "output_type": "display_data"
    },
    {
     "data": {
      "text/html": [
       "<strong> Likes </strong>: 18891 "
      ],
      "text/plain": [
       "<IPython.core.display.HTML object>"
      ]
     },
     "metadata": {},
     "output_type": "display_data"
    },
    {
     "data": {
      "text/html": [
       "<strong> Link </strong>: <a href='https://twitter.com//jairbolsonaro/status/1243933453596401664' target='_blank'> Acessar </a> "
      ],
      "text/plain": [
       "<IPython.core.display.HTML object>"
      ]
     },
     "metadata": {},
     "output_type": "display_data"
    },
    {
     "data": {
      "text/html": [
       "<hr>"
      ],
      "text/plain": [
       "<IPython.core.display.HTML object>"
      ]
     },
     "metadata": {},
     "output_type": "display_data"
    },
    {
     "data": {
      "text/html": [
       "<strong> Tweet </strong>: 7- Mais testes para profissionais de saúde e segurança que agem no front de batalha.\n",
       "\n",
       "8- R$ 202 milhões do fundo de segurança vão para o combate ao coronavirus. @JusticaGovBR\n",
       "\n",
       "9- Hospitais de pequeno porte recebem infectados, dando  mais segurança aos postos de saúde. "
      ],
      "text/plain": [
       "<IPython.core.display.HTML object>"
      ]
     },
     "metadata": {},
     "output_type": "display_data"
    },
    {
     "data": {
      "text/html": [
       "<strong> Data </strong>: 2020-03-28 10:09:31 "
      ],
      "text/plain": [
       "<IPython.core.display.HTML object>"
      ]
     },
     "metadata": {},
     "output_type": "display_data"
    },
    {
     "data": {
      "text/html": [
       "<strong> Likes </strong>: 13599 "
      ],
      "text/plain": [
       "<IPython.core.display.HTML object>"
      ]
     },
     "metadata": {},
     "output_type": "display_data"
    },
    {
     "data": {
      "text/html": [
       "<strong> Link </strong>: <a href='https://twitter.com//jairbolsonaro/status/1243887948690579456' target='_blank'> Acessar </a> "
      ],
      "text/plain": [
       "<IPython.core.display.HTML object>"
      ]
     },
     "metadata": {},
     "output_type": "display_data"
    },
    {
     "data": {
      "text/html": [
       "<hr>"
      ],
      "text/plain": [
       "<IPython.core.display.HTML object>"
      ]
     },
     "metadata": {},
     "output_type": "display_data"
    },
    {
     "data": {
      "text/html": [
       "<strong> Tweet </strong>: - Tratamento: covid-19 / Mais detalhes das ações do Governo Federal (21/03 a 27/03):\n",
       "\n",
       "1- @minsaude libera mais de R$600 milhões para ações no combate ao vírus.\n",
       "\n",
       "2- Ampliação de testes para 22,9 milhões.\n",
       "\n",
       "3- Mais 84 laboratórios ajudarão no diagnóstico para o covid-19. "
      ],
      "text/plain": [
       "<IPython.core.display.HTML object>"
      ]
     },
     "metadata": {},
     "output_type": "display_data"
    },
    {
     "data": {
      "text/html": [
       "<strong> Data </strong>: 2020-03-28 10:07:43 "
      ],
      "text/plain": [
       "<IPython.core.display.HTML object>"
      ]
     },
     "metadata": {},
     "output_type": "display_data"
    },
    {
     "data": {
      "text/html": [
       "<strong> Likes </strong>: 31828 "
      ],
      "text/plain": [
       "<IPython.core.display.HTML object>"
      ]
     },
     "metadata": {},
     "output_type": "display_data"
    },
    {
     "data": {
      "text/html": [
       "<strong> Link </strong>: <a href='https://twitter.com//jairbolsonaro/status/1243887492203511809' target='_blank'> Acessar </a> "
      ],
      "text/plain": [
       "<IPython.core.display.HTML object>"
      ]
     },
     "metadata": {},
     "output_type": "display_data"
    },
    {
     "data": {
      "text/html": [
       "<hr>"
      ],
      "text/plain": [
       "<IPython.core.display.HTML object>"
      ]
     },
     "metadata": {},
     "output_type": "display_data"
    },
    {
     "data": {
      "text/html": [
       "<strong> Tweet </strong>: - A @anvisa_oficial aprovou três novos testes para detectar o Covid-19. No total,  já são 11 os testes aprovados pela agência para aumentar a capacidade de diagnóstico do vírus no Brasil, nove do tipo rápido, com resultados em 15 minutos, e dois do tipo molecular. "
      ],
      "text/plain": [
       "<IPython.core.display.HTML object>"
      ]
     },
     "metadata": {},
     "output_type": "display_data"
    },
    {
     "data": {
      "text/html": [
       "<strong> Data </strong>: 2020-03-28 07:56:00 "
      ],
      "text/plain": [
       "<IPython.core.display.HTML object>"
      ]
     },
     "metadata": {},
     "output_type": "display_data"
    },
    {
     "data": {
      "text/html": [
       "<strong> Likes </strong>: 59184 "
      ],
      "text/plain": [
       "<IPython.core.display.HTML object>"
      ]
     },
     "metadata": {},
     "output_type": "display_data"
    },
    {
     "data": {
      "text/html": [
       "<strong> Link </strong>: <a href='https://twitter.com//jairbolsonaro/status/1243854345176788995' target='_blank'> Acessar </a> "
      ],
      "text/plain": [
       "<IPython.core.display.HTML object>"
      ]
     },
     "metadata": {},
     "output_type": "display_data"
    },
    {
     "data": {
      "text/html": [
       "<hr>"
      ],
      "text/plain": [
       "<IPython.core.display.HTML object>"
      ]
     },
     "metadata": {},
     "output_type": "display_data"
    },
    {
     "data": {
      "text/html": [
       "<strong> Tweet </strong>: - Cada vez mais a Hidroxicloroquina demonstra ser um remédio eficaz contra o Covid-19. pic.twitter.com/YMwNj5hytI "
      ],
      "text/plain": [
       "<IPython.core.display.HTML object>"
      ]
     },
     "metadata": {},
     "output_type": "display_data"
    },
    {
     "data": {
      "text/html": [
       "<strong> Data </strong>: 2020-03-27 20:36:15 "
      ],
      "text/plain": [
       "<IPython.core.display.HTML object>"
      ]
     },
     "metadata": {},
     "output_type": "display_data"
    },
    {
     "data": {
      "text/html": [
       "<strong> Likes </strong>: 48462 "
      ],
      "text/plain": [
       "<IPython.core.display.HTML object>"
      ]
     },
     "metadata": {},
     "output_type": "display_data"
    },
    {
     "data": {
      "text/html": [
       "<strong> Link </strong>: <a href='https://twitter.com//jairbolsonaro/status/1243683282656559104' target='_blank'> Acessar </a> "
      ],
      "text/plain": [
       "<IPython.core.display.HTML object>"
      ]
     },
     "metadata": {},
     "output_type": "display_data"
    },
    {
     "data": {
      "text/html": [
       "<hr>"
      ],
      "text/plain": [
       "<IPython.core.display.HTML object>"
      ]
     },
     "metadata": {},
     "output_type": "display_data"
    },
    {
     "data": {
      "text/html": [
       "<strong> Tweet </strong>: O Presidente @jairbolsonaro nos solicitou um mapeamento de imóveis vagos que possam ser usados para instalação de hospitais de campanha no combate ao coronavírus. "
      ],
      "text/plain": [
       "<IPython.core.display.HTML object>"
      ]
     },
     "metadata": {},
     "output_type": "display_data"
    },
    {
     "data": {
      "text/html": [
       "<strong> Data </strong>: 2020-03-27 16:36:32 "
      ],
      "text/plain": [
       "<IPython.core.display.HTML object>"
      ]
     },
     "metadata": {},
     "output_type": "display_data"
    },
    {
     "data": {
      "text/html": [
       "<strong> Likes </strong>: 26900 "
      ],
      "text/plain": [
       "<IPython.core.display.HTML object>"
      ]
     },
     "metadata": {},
     "output_type": "display_data"
    },
    {
     "data": {
      "text/html": [
       "<strong> Link </strong>: <a href='https://twitter.com//salimmattarBR/status/1243622956389056514' target='_blank'> Acessar </a> "
      ],
      "text/plain": [
       "<IPython.core.display.HTML object>"
      ]
     },
     "metadata": {},
     "output_type": "display_data"
    },
    {
     "data": {
      "text/html": [
       "<hr>"
      ],
      "text/plain": [
       "<IPython.core.display.HTML object>"
      ]
     },
     "metadata": {},
     "output_type": "display_data"
    },
    {
     "data": {
      "text/html": [
       "<strong> Tweet </strong>: Acompanhe as publicações em nossa timeline e tenha conhecimento do trabalho do Governo Bolsonaro muito antes do coronavírus ser considerado pandemia: pic.twitter.com/mezeGb30iW "
      ],
      "text/plain": [
       "<IPython.core.display.HTML object>"
      ]
     },
     "metadata": {},
     "output_type": "display_data"
    },
    {
     "data": {
      "text/html": [
       "<strong> Data </strong>: 2020-03-27 09:42:32 "
      ],
      "text/plain": [
       "<IPython.core.display.HTML object>"
      ]
     },
     "metadata": {},
     "output_type": "display_data"
    },
    {
     "data": {
      "text/html": [
       "<strong> Likes </strong>: 14906 "
      ],
      "text/plain": [
       "<IPython.core.display.HTML object>"
      ]
     },
     "metadata": {},
     "output_type": "display_data"
    },
    {
     "data": {
      "text/html": [
       "<strong> Link </strong>: <a href='https://twitter.com//CarlosBolsonaro/status/1243518767692423168' target='_blank'> Acessar </a> "
      ],
      "text/plain": [
       "<IPython.core.display.HTML object>"
      ]
     },
     "metadata": {},
     "output_type": "display_data"
    },
    {
     "data": {
      "text/html": [
       "<hr>"
      ],
      "text/plain": [
       "<IPython.core.display.HTML object>"
      ]
     },
     "metadata": {},
     "output_type": "display_data"
    },
    {
     "data": {
      "text/html": [
       "<strong> Tweet </strong>: - Ontem, 26 de março, a @anvisa_oficial liberou a licença para a pesquisa com a Hidroxicloroquina, no Hospital Israelita Albert Einstein.\n",
       "\n",
       "- O objetivo é que pacientes, em breve, se beneficiem desse tratamento para a COVID-19. "
      ],
      "text/plain": [
       "<IPython.core.display.HTML object>"
      ]
     },
     "metadata": {},
     "output_type": "display_data"
    },
    {
     "data": {
      "text/html": [
       "<strong> Data </strong>: 2020-03-27 08:36:55 "
      ],
      "text/plain": [
       "<IPython.core.display.HTML object>"
      ]
     },
     "metadata": {},
     "output_type": "display_data"
    },
    {
     "data": {
      "text/html": [
       "<strong> Likes </strong>: 46442 "
      ],
      "text/plain": [
       "<IPython.core.display.HTML object>"
      ]
     },
     "metadata": {},
     "output_type": "display_data"
    },
    {
     "data": {
      "text/html": [
       "<strong> Link </strong>: <a href='https://twitter.com//jairbolsonaro/status/1243502255606824963' target='_blank'> Acessar </a> "
      ],
      "text/plain": [
       "<IPython.core.display.HTML object>"
      ]
     },
     "metadata": {},
     "output_type": "display_data"
    },
    {
     "data": {
      "text/html": [
       "<hr>"
      ],
      "text/plain": [
       "<IPython.core.display.HTML object>"
      ]
     },
     "metadata": {},
     "output_type": "display_data"
    },
    {
     "data": {
      "text/html": [
       "<strong> Tweet </strong>: 9- o @DefesaGovBr e a @Caixa colocam seus navios hospitais e barcos agência a disposição em locais remotos e outras regiões no enfrentamento ao covid-19.\n",
       "\n",
       "10- A Apsen Farmacêutica anuncia a produção gratúita de milhões de unidades dos medicamentos no combate ao coronavirus. "
      ],
      "text/plain": [
       "<IPython.core.display.HTML object>"
      ]
     },
     "metadata": {},
     "output_type": "display_data"
    },
    {
     "data": {
      "text/html": [
       "<strong> Data </strong>: 2020-03-26 20:07:02 "
      ],
      "text/plain": [
       "<IPython.core.display.HTML object>"
      ]
     },
     "metadata": {},
     "output_type": "display_data"
    },
    {
     "data": {
      "text/html": [
       "<strong> Likes </strong>: 11086 "
      ],
      "text/plain": [
       "<IPython.core.display.HTML object>"
      ]
     },
     "metadata": {},
     "output_type": "display_data"
    },
    {
     "data": {
      "text/html": [
       "<strong> Link </strong>: <a href='https://twitter.com//jairbolsonaro/status/1243313542264164353' target='_blank'> Acessar </a> "
      ],
      "text/plain": [
       "<IPython.core.display.HTML object>"
      ]
     },
     "metadata": {},
     "output_type": "display_data"
    },
    {
     "data": {
      "text/html": [
       "<hr>"
      ],
      "text/plain": [
       "<IPython.core.display.HTML object>"
      ]
     },
     "metadata": {},
     "output_type": "display_data"
    },
    {
     "data": {
      "text/html": [
       "<strong> Tweet </strong>: 5- Por determinação do Presidente, os laboratórios do @DefesaGovBr aumentam sua produção dos medicamentos promissores ao enfrentamento do coronavirus.\n",
       "\n",
       "6- O @MinEconomia anuncia por 3 meses o valor de R$600 do pagamento de auxílio a trabalhadores informais no Brasil. "
      ],
      "text/plain": [
       "<IPython.core.display.HTML object>"
      ]
     },
     "metadata": {},
     "output_type": "display_data"
    },
    {
     "data": {
      "text/html": [
       "<strong> Data </strong>: 2020-03-26 19:58:11 "
      ],
      "text/plain": [
       "<IPython.core.display.HTML object>"
      ]
     },
     "metadata": {},
     "output_type": "display_data"
    },
    {
     "data": {
      "text/html": [
       "<strong> Likes </strong>: 14876 "
      ],
      "text/plain": [
       "<IPython.core.display.HTML object>"
      ]
     },
     "metadata": {},
     "output_type": "display_data"
    },
    {
     "data": {
      "text/html": [
       "<strong> Link </strong>: <a href='https://twitter.com//jairbolsonaro/status/1243311314505785346' target='_blank'> Acessar </a> "
      ],
      "text/plain": [
       "<IPython.core.display.HTML object>"
      ]
     },
     "metadata": {},
     "output_type": "display_data"
    },
    {
     "data": {
      "text/html": [
       "<hr>"
      ],
      "text/plain": [
       "<IPython.core.display.HTML object>"
      ]
     },
     "metadata": {},
     "output_type": "display_data"
    },
    {
     "data": {
      "text/html": [
       "<strong> Tweet </strong>: - Resumo de anúncios da Live de Quinta-feira (26/03/2020) com o Presidente @jairbolsonaro :\n",
       "\n",
       "1- Reunião com países do G20 animou as nações diante dos resultados positivos brasileiros iniciais na eficácia dos medicamentos Reuquinol e Hidroxicloroquina contra o covid-19. "
      ],
      "text/plain": [
       "<IPython.core.display.HTML object>"
      ]
     },
     "metadata": {},
     "output_type": "display_data"
    },
    {
     "data": {
      "text/html": [
       "<strong> Data </strong>: 2020-03-26 19:49:35 "
      ],
      "text/plain": [
       "<IPython.core.display.HTML object>"
      ]
     },
     "metadata": {},
     "output_type": "display_data"
    },
    {
     "data": {
      "text/html": [
       "<strong> Likes </strong>: 46534 "
      ],
      "text/plain": [
       "<IPython.core.display.HTML object>"
      ]
     },
     "metadata": {},
     "output_type": "display_data"
    },
    {
     "data": {
      "text/html": [
       "<strong> Link </strong>: <a href='https://twitter.com//jairbolsonaro/status/1243309148865003522' target='_blank'> Acessar </a> "
      ],
      "text/plain": [
       "<IPython.core.display.HTML object>"
      ]
     },
     "metadata": {},
     "output_type": "display_data"
    },
    {
     "data": {
      "text/html": [
       "<hr>"
      ],
      "text/plain": [
       "<IPython.core.display.HTML object>"
      ]
     },
     "metadata": {},
     "output_type": "display_data"
    },
    {
     "data": {
      "text/html": [
       "<strong> Tweet </strong>: Líderes do G20, após sua reunião por videoconferência, emitem declaração confirmando que a frente econômica - preservação de empregos - é tão importante quanto a frente da saúde no combate ao coronavírus e seus efeitos: http://www.itamaraty.gov.br/pt-BR/notas-a-imprensa/21469-cupula-extraordinaria-dos-lideres-do-g20-declaracao-sobre-covid-19 … pic.twitter.com/PRF6rJSb4z "
      ],
      "text/plain": [
       "<IPython.core.display.HTML object>"
      ]
     },
     "metadata": {},
     "output_type": "display_data"
    },
    {
     "data": {
      "text/html": [
       "<strong> Data </strong>: 2020-03-26 13:48:42 "
      ],
      "text/plain": [
       "<IPython.core.display.HTML object>"
      ]
     },
     "metadata": {},
     "output_type": "display_data"
    },
    {
     "data": {
      "text/html": [
       "<strong> Likes </strong>: 21929 "
      ],
      "text/plain": [
       "<IPython.core.display.HTML object>"
      ]
     },
     "metadata": {},
     "output_type": "display_data"
    },
    {
     "data": {
      "text/html": [
       "<strong> Link </strong>: <a href='https://twitter.com//ernestofaraujo/status/1243218331118731265' target='_blank'> Acessar </a> "
      ],
      "text/plain": [
       "<IPython.core.display.HTML object>"
      ]
     },
     "metadata": {},
     "output_type": "display_data"
    },
    {
     "data": {
      "text/html": [
       "<hr>"
      ],
      "text/plain": [
       "<IPython.core.display.HTML object>"
      ]
     },
     "metadata": {},
     "output_type": "display_data"
    },
    {
     "data": {
      "text/html": [
       "<strong> Tweet </strong>: - Com o objetivo de facilitar o combate ao coronavírus, zeramos o Imposto de Importação da cloroquina e da azitromicina, para uso exclusivo de hospitais em pacientes em estado crítico. Essa redução também se estende a outros produtos e vai fazer toda a diferença em nossa luta! "
      ],
      "text/plain": [
       "<IPython.core.display.HTML object>"
      ]
     },
     "metadata": {},
     "output_type": "display_data"
    },
    {
     "data": {
      "text/html": [
       "<strong> Data </strong>: 2020-03-26 10:33:39 "
      ],
      "text/plain": [
       "<IPython.core.display.HTML object>"
      ]
     },
     "metadata": {},
     "output_type": "display_data"
    },
    {
     "data": {
      "text/html": [
       "<strong> Likes </strong>: 68424 "
      ],
      "text/plain": [
       "<IPython.core.display.HTML object>"
      ]
     },
     "metadata": {},
     "output_type": "display_data"
    },
    {
     "data": {
      "text/html": [
       "<strong> Link </strong>: <a href='https://twitter.com//jairbolsonaro/status/1243169243589476353' target='_blank'> Acessar </a> "
      ],
      "text/plain": [
       "<IPython.core.display.HTML object>"
      ]
     },
     "metadata": {},
     "output_type": "display_data"
    },
    {
     "data": {
      "text/html": [
       "<hr>"
      ],
      "text/plain": [
       "<IPython.core.display.HTML object>"
      ]
     },
     "metadata": {},
     "output_type": "display_data"
    },
    {
     "data": {
      "text/html": [
       "<strong> Tweet </strong>: - Não queremos descaso com a questão da Covid-19. Apenas buscamos a dose adequada para combater esse mal sem causar um ainda maior. Se todos colaborarem, poderemos cuidar e proteger os idosos e demais grupos de risco, manter os cuidados diários de prevenção e o país funcionando. "
      ],
      "text/plain": [
       "<IPython.core.display.HTML object>"
      ]
     },
     "metadata": {},
     "output_type": "display_data"
    },
    {
     "data": {
      "text/html": [
       "<strong> Data </strong>: 2020-03-25 22:18:47 "
      ],
      "text/plain": [
       "<IPython.core.display.HTML object>"
      ]
     },
     "metadata": {},
     "output_type": "display_data"
    },
    {
     "data": {
      "text/html": [
       "<strong> Likes </strong>: 51097 "
      ],
      "text/plain": [
       "<IPython.core.display.HTML object>"
      ]
     },
     "metadata": {},
     "output_type": "display_data"
    },
    {
     "data": {
      "text/html": [
       "<strong> Link </strong>: <a href='https://twitter.com//jairbolsonaro/status/1242984309365051397' target='_blank'> Acessar </a> "
      ],
      "text/plain": [
       "<IPython.core.display.HTML object>"
      ]
     },
     "metadata": {},
     "output_type": "display_data"
    },
    {
     "data": {
      "text/html": [
       "<hr>"
      ],
      "text/plain": [
       "<IPython.core.display.HTML object>"
      ]
     },
     "metadata": {},
     "output_type": "display_data"
    },
    {
     "data": {
      "text/html": [
       "<strong> Tweet </strong>: A @petrobras doa 600.000 testes para covid-19 ao SUS: Empresas e órgãos que há poucos anos eram desvalorizados por problemas administrativos e de CORRUPÇÃO GENERALIZADA voltam a dar resultados aos brasileiros e a servirem à nação. "
      ],
      "text/plain": [
       "<IPython.core.display.HTML object>"
      ]
     },
     "metadata": {},
     "output_type": "display_data"
    },
    {
     "data": {
      "text/html": [
       "<strong> Data </strong>: 2020-03-25 21:19:02 "
      ],
      "text/plain": [
       "<IPython.core.display.HTML object>"
      ]
     },
     "metadata": {},
     "output_type": "display_data"
    },
    {
     "data": {
      "text/html": [
       "<strong> Likes </strong>: 46228 "
      ],
      "text/plain": [
       "<IPython.core.display.HTML object>"
      ]
     },
     "metadata": {},
     "output_type": "display_data"
    },
    {
     "data": {
      "text/html": [
       "<strong> Link </strong>: <a href='https://twitter.com//jairbolsonaro/status/1242969272089022465' target='_blank'> Acessar </a> "
      ],
      "text/plain": [
       "<IPython.core.display.HTML object>"
      ]
     },
     "metadata": {},
     "output_type": "display_data"
    },
    {
     "data": {
      "text/html": [
       "<hr>"
      ],
      "text/plain": [
       "<IPython.core.display.HTML object>"
      ]
     },
     "metadata": {},
     "output_type": "display_data"
    },
    {
     "data": {
      "text/html": [
       "<strong> Tweet </strong>: O tratamento da COVID-19, a base de Hidroxicloriquina e Azitromicina, tem se mostrado eficaz nos pacientes ora em tratamento. Nos próximos dias, tais resultados poderão ser apresentados ao público, trazendo o necessário ambiente de tranquilidade e serenidade ao Brasil e ao mundo. "
      ],
      "text/plain": [
       "<IPython.core.display.HTML object>"
      ]
     },
     "metadata": {},
     "output_type": "display_data"
    },
    {
     "data": {
      "text/html": [
       "<strong> Data </strong>: 2020-03-25 15:31:16 "
      ],
      "text/plain": [
       "<IPython.core.display.HTML object>"
      ]
     },
     "metadata": {},
     "output_type": "display_data"
    },
    {
     "data": {
      "text/html": [
       "<strong> Likes </strong>: 79221 "
      ],
      "text/plain": [
       "<IPython.core.display.HTML object>"
      ]
     },
     "metadata": {},
     "output_type": "display_data"
    },
    {
     "data": {
      "text/html": [
       "<strong> Link </strong>: <a href='https://twitter.com//jairbolsonaro/status/1242881753162940419' target='_blank'> Acessar </a> "
      ],
      "text/plain": [
       "<IPython.core.display.HTML object>"
      ]
     },
     "metadata": {},
     "output_type": "display_data"
    },
    {
     "data": {
      "text/html": [
       "<hr>"
      ],
      "text/plain": [
       "<IPython.core.display.HTML object>"
      ]
     },
     "metadata": {},
     "output_type": "display_data"
    },
    {
     "data": {
      "text/html": [
       "<strong> Tweet </strong>: Duas aeronaves C-130 (Hércules) da @fab_oficial, como estas, decolaram, nesta terça-feira (24), do RJ e do PA, rumo a Cuzco (Peru), para resgatar brasileiros que se encontram isolados naquela cidade devido ao covid-19. @DefesaGovBr @ItamaratyGovBr @ernestofaraujo pic.twitter.com/CoSYQxufXf "
      ],
      "text/plain": [
       "<IPython.core.display.HTML object>"
      ]
     },
     "metadata": {},
     "output_type": "display_data"
    },
    {
     "data": {
      "text/html": [
       "<strong> Data </strong>: 2020-03-24 14:46:44 "
      ],
      "text/plain": [
       "<IPython.core.display.HTML object>"
      ]
     },
     "metadata": {},
     "output_type": "display_data"
    },
    {
     "data": {
      "text/html": [
       "<strong> Likes </strong>: 33488 "
      ],
      "text/plain": [
       "<IPython.core.display.HTML object>"
      ]
     },
     "metadata": {},
     "output_type": "display_data"
    },
    {
     "data": {
      "text/html": [
       "<strong> Link </strong>: <a href='https://twitter.com//jairbolsonaro/status/1242508158997856256' target='_blank'> Acessar </a> "
      ],
      "text/plain": [
       "<IPython.core.display.HTML object>"
      ]
     },
     "metadata": {},
     "output_type": "display_data"
    },
    {
     "data": {
      "text/html": [
       "<hr>"
      ],
      "text/plain": [
       "<IPython.core.display.HTML object>"
      ]
     },
     "metadata": {},
     "output_type": "display_data"
    },
    {
     "data": {
      "text/html": [
       "<strong> Tweet </strong>: E- Postagens anteriores são extremamente importantes para acompanhamento do dia a dia das decisões tomadas pelo corpo do Poder Executivo Federal.\n",
       "\n",
       "F- Já são quase R$ 600 bilhões de recursos do Governo Federal para o enfrentamento ao covid-19. "
      ],
      "text/plain": [
       "<IPython.core.display.HTML object>"
      ]
     },
     "metadata": {},
     "output_type": "display_data"
    },
    {
     "data": {
      "text/html": [
       "<strong> Data </strong>: 2020-03-24 12:02:21 "
      ],
      "text/plain": [
       "<IPython.core.display.HTML object>"
      ]
     },
     "metadata": {},
     "output_type": "display_data"
    },
    {
     "data": {
      "text/html": [
       "<strong> Likes </strong>: 9125 "
      ],
      "text/plain": [
       "<IPython.core.display.HTML object>"
      ]
     },
     "metadata": {},
     "output_type": "display_data"
    },
    {
     "data": {
      "text/html": [
       "<strong> Link </strong>: <a href='https://twitter.com//jairbolsonaro/status/1242466791051444224' target='_blank'> Acessar </a> "
      ],
      "text/plain": [
       "<IPython.core.display.HTML object>"
      ]
     },
     "metadata": {},
     "output_type": "display_data"
    },
    {
     "data": {
      "text/html": [
       "<hr>"
      ],
      "text/plain": [
       "<IPython.core.display.HTML object>"
      ]
     },
     "metadata": {},
     "output_type": "display_data"
    },
    {
     "data": {
      "text/html": [
       "<strong> Tweet </strong>: D- Dia 25/03, ocorrerá reunião entre Secretários de Saúde de todo Brasil com o Ministro da Saúde para direcionamentos conjuntos, diante de mais uma fase da evolução do enfrentamento ao covid-19. "
      ],
      "text/plain": [
       "<IPython.core.display.HTML object>"
      ]
     },
     "metadata": {},
     "output_type": "display_data"
    },
    {
     "data": {
      "text/html": [
       "<strong> Data </strong>: 2020-03-24 12:01:54 "
      ],
      "text/plain": [
       "<IPython.core.display.HTML object>"
      ]
     },
     "metadata": {},
     "output_type": "display_data"
    },
    {
     "data": {
      "text/html": [
       "<strong> Likes </strong>: 8863 "
      ],
      "text/plain": [
       "<IPython.core.display.HTML object>"
      ]
     },
     "metadata": {},
     "output_type": "display_data"
    },
    {
     "data": {
      "text/html": [
       "<strong> Link </strong>: <a href='https://twitter.com//jairbolsonaro/status/1242466679382093825' target='_blank'> Acessar </a> "
      ],
      "text/plain": [
       "<IPython.core.display.HTML object>"
      ]
     },
     "metadata": {},
     "output_type": "display_data"
    },
    {
     "data": {
      "text/html": [
       "<hr>"
      ],
      "text/plain": [
       "<IPython.core.display.HTML object>"
      ]
     },
     "metadata": {},
     "output_type": "display_data"
    },
    {
     "data": {
      "text/html": [
       "<strong> Tweet </strong>: B- Novidades práticas no enfrentamento ao coronavirus, como por exemplo, a descoberta de que um ventilador de oxigênio pode ser usado para quatro pacientes ao mesmo tempo.\n",
       "\n",
       "C- Nova Portaria do @minsaude,  de 24/03, liberando mais recursos para estados e municípios. "
      ],
      "text/plain": [
       "<IPython.core.display.HTML object>"
      ]
     },
     "metadata": {},
     "output_type": "display_data"
    },
    {
     "data": {
      "text/html": [
       "<strong> Data </strong>: 2020-03-24 12:01:04 "
      ],
      "text/plain": [
       "<IPython.core.display.HTML object>"
      ]
     },
     "metadata": {},
     "output_type": "display_data"
    },
    {
     "data": {
      "text/html": [
       "<strong> Likes </strong>: 3934 "
      ],
      "text/plain": [
       "<IPython.core.display.HTML object>"
      ]
     },
     "metadata": {},
     "output_type": "display_data"
    },
    {
     "data": {
      "text/html": [
       "<strong> Link </strong>: <a href='https://twitter.com//jairbolsonaro/status/1242466466932445184' target='_blank'> Acessar </a> "
      ],
      "text/plain": [
       "<IPython.core.display.HTML object>"
      ]
     },
     "metadata": {},
     "output_type": "display_data"
    },
    {
     "data": {
      "text/html": [
       "<hr>"
      ],
      "text/plain": [
       "<IPython.core.display.HTML object>"
      ]
     },
     "metadata": {},
     "output_type": "display_data"
    },
    {
     "data": {
      "text/html": [
       "<strong> Tweet </strong>: 2- A Logistica de transportes precisa ser compreendida para distribuição de kits dos mais de 10.000.000.000 de kits iniciais para testes do covid-19. "
      ],
      "text/plain": [
       "<IPython.core.display.HTML object>"
      ]
     },
     "metadata": {},
     "output_type": "display_data"
    },
    {
     "data": {
      "text/html": [
       "<strong> Data </strong>: 2020-03-24 11:59:24 "
      ],
      "text/plain": [
       "<IPython.core.display.HTML object>"
      ]
     },
     "metadata": {},
     "output_type": "display_data"
    },
    {
     "data": {
      "text/html": [
       "<strong> Likes </strong>: 14615 "
      ],
      "text/plain": [
       "<IPython.core.display.HTML object>"
      ]
     },
     "metadata": {},
     "output_type": "display_data"
    },
    {
     "data": {
      "text/html": [
       "<strong> Link </strong>: <a href='https://twitter.com//jairbolsonaro/status/1242466046830731265' target='_blank'> Acessar </a> "
      ],
      "text/plain": [
       "<IPython.core.display.HTML object>"
      ]
     },
     "metadata": {},
     "output_type": "display_data"
    },
    {
     "data": {
      "text/html": [
       "<hr>"
      ],
      "text/plain": [
       "<IPython.core.display.HTML object>"
      ]
     },
     "metadata": {},
     "output_type": "display_data"
    },
    {
     "data": {
      "text/html": [
       "<strong> Tweet </strong>: 4- As reformas encaminhadas pelo Executivo Federal e aprovadas pelo Congresso possibilitaram maior investimento e as que estão por vir são prioridades para o combate à onda de desemprego, conjuntamente com mais recursos no combate ao covid-19. "
      ],
      "text/plain": [
       "<IPython.core.display.HTML object>"
      ]
     },
     "metadata": {},
     "output_type": "display_data"
    },
    {
     "data": {
      "text/html": [
       "<strong> Data </strong>: 2020-03-24 10:59:14 "
      ],
      "text/plain": [
       "<IPython.core.display.HTML object>"
      ]
     },
     "metadata": {},
     "output_type": "display_data"
    },
    {
     "data": {
      "text/html": [
       "<strong> Likes </strong>: 10097 "
      ],
      "text/plain": [
       "<IPython.core.display.HTML object>"
      ]
     },
     "metadata": {},
     "output_type": "display_data"
    },
    {
     "data": {
      "text/html": [
       "<strong> Link </strong>: <a href='https://twitter.com//jairbolsonaro/status/1242450906756644866' target='_blank'> Acessar </a> "
      ],
      "text/plain": [
       "<IPython.core.display.HTML object>"
      ]
     },
     "metadata": {},
     "output_type": "display_data"
    },
    {
     "data": {
      "text/html": [
       "<hr>"
      ],
      "text/plain": [
       "<IPython.core.display.HTML object>"
      ]
     },
     "metadata": {},
     "output_type": "display_data"
    },
    {
     "data": {
      "text/html": [
       "<strong> Tweet </strong>: 2- O @MinEconomia ,Paulo Guedes, esclarece que disponibiliza todos os recursos possíveis no prioritário enfrentamento ao  coronavirus, sendo direcionados como mostram atualizações em nossas redes sociais. "
      ],
      "text/plain": [
       "<IPython.core.display.HTML object>"
      ]
     },
     "metadata": {},
     "output_type": "display_data"
    },
    {
     "data": {
      "text/html": [
       "<strong> Data </strong>: 2020-03-24 10:56:36 "
      ],
      "text/plain": [
       "<IPython.core.display.HTML object>"
      ]
     },
     "metadata": {},
     "output_type": "display_data"
    },
    {
     "data": {
      "text/html": [
       "<strong> Likes </strong>: 3903 "
      ],
      "text/plain": [
       "<IPython.core.display.HTML object>"
      ]
     },
     "metadata": {},
     "output_type": "display_data"
    },
    {
     "data": {
      "text/html": [
       "<strong> Link </strong>: <a href='https://twitter.com//jairbolsonaro/status/1242450243276455938' target='_blank'> Acessar </a> "
      ],
      "text/plain": [
       "<IPython.core.display.HTML object>"
      ]
     },
     "metadata": {},
     "output_type": "display_data"
    },
    {
     "data": {
      "text/html": [
       "<hr>"
      ],
      "text/plain": [
       "<IPython.core.display.HTML object>"
      ]
     },
     "metadata": {},
     "output_type": "display_data"
    },
    {
     "data": {
      "text/html": [
       "<strong> Tweet </strong>: 1- Questionamento sobre legalidade de doações de álcool por usineiros para higienização e combate ao covid-19. O Presidente da @anvisa_oficial, Almirante Barra, esclarece que basta a Autorização de Funcionamento de Empresa para procedimento, sem mais burocracias. "
      ],
      "text/plain": [
       "<IPython.core.display.HTML object>"
      ]
     },
     "metadata": {},
     "output_type": "display_data"
    },
    {
     "data": {
      "text/html": [
       "<strong> Data </strong>: 2020-03-24 10:53:43 "
      ],
      "text/plain": [
       "<IPython.core.display.HTML object>"
      ]
     },
     "metadata": {},
     "output_type": "display_data"
    },
    {
     "data": {
      "text/html": [
       "<strong> Likes </strong>: 4294 "
      ],
      "text/plain": [
       "<IPython.core.display.HTML object>"
      ]
     },
     "metadata": {},
     "output_type": "display_data"
    },
    {
     "data": {
      "text/html": [
       "<strong> Link </strong>: <a href='https://twitter.com//jairbolsonaro/status/1242449517309497344' target='_blank'> Acessar </a> "
      ],
      "text/plain": [
       "<IPython.core.display.HTML object>"
      ]
     },
     "metadata": {},
     "output_type": "display_data"
    },
    {
     "data": {
      "text/html": [
       "<hr>"
      ],
      "text/plain": [
       "<IPython.core.display.HTML object>"
      ]
     },
     "metadata": {},
     "output_type": "display_data"
    },
    {
     "data": {
      "text/html": [
       "<strong> Tweet </strong>: - Neste momento, teleconferência com Governadores do Centro-Oeste, atualizando medidas do Governo Federal no enfrentamento ao coronavirus e alinhando às demandas dos Estados. pic.twitter.com/VB8zvnzNJC "
      ],
      "text/plain": [
       "<IPython.core.display.HTML object>"
      ]
     },
     "metadata": {},
     "output_type": "display_data"
    },
    {
     "data": {
      "text/html": [
       "<strong> Data </strong>: 2020-03-24 10:51:49 "
      ],
      "text/plain": [
       "<IPython.core.display.HTML object>"
      ]
     },
     "metadata": {},
     "output_type": "display_data"
    },
    {
     "data": {
      "text/html": [
       "<strong> Likes </strong>: 24305 "
      ],
      "text/plain": [
       "<IPython.core.display.HTML object>"
      ]
     },
     "metadata": {},
     "output_type": "display_data"
    },
    {
     "data": {
      "text/html": [
       "<strong> Link </strong>: <a href='https://twitter.com//jairbolsonaro/status/1242449042191396864' target='_blank'> Acessar </a> "
      ],
      "text/plain": [
       "<IPython.core.display.HTML object>"
      ]
     },
     "metadata": {},
     "output_type": "display_data"
    },
    {
     "data": {
      "text/html": [
       "<hr>"
      ],
      "text/plain": [
       "<IPython.core.display.HTML object>"
      ]
     },
     "metadata": {},
     "output_type": "display_data"
    },
    {
     "data": {
      "text/html": [
       "<strong> Tweet </strong>: Nesta manhã , em ligação telefônica com o Presidente da China, Xi Jinping, reafirmamos nossos laços de amizade, troca de informações e ações sobre o covid-19 e ampliação de nossos laços comerciais. @TerezaCrisMS @ernestofaraujo @rsallesmma pic.twitter.com/nvR7G2tnJI "
      ],
      "text/plain": [
       "<IPython.core.display.HTML object>"
      ]
     },
     "metadata": {},
     "output_type": "display_data"
    },
    {
     "data": {
      "text/html": [
       "<strong> Data </strong>: 2020-03-24 09:45:08 "
      ],
      "text/plain": [
       "<IPython.core.display.HTML object>"
      ]
     },
     "metadata": {},
     "output_type": "display_data"
    },
    {
     "data": {
      "text/html": [
       "<strong> Likes </strong>: 29964 "
      ],
      "text/plain": [
       "<IPython.core.display.HTML object>"
      ]
     },
     "metadata": {},
     "output_type": "display_data"
    },
    {
     "data": {
      "text/html": [
       "<strong> Link </strong>: <a href='https://twitter.com//jairbolsonaro/status/1242432260349067265' target='_blank'> Acessar </a> "
      ],
      "text/plain": [
       "<IPython.core.display.HTML object>"
      ]
     },
     "metadata": {},
     "output_type": "display_data"
    },
    {
     "data": {
      "text/html": [
       "<hr>"
      ],
      "text/plain": [
       "<IPython.core.display.HTML object>"
      ]
     },
     "metadata": {},
     "output_type": "display_data"
    },
    {
     "data": {
      "text/html": [
       "<strong> Tweet </strong>: - Tive importantes reuniões com governadores do Norte e Nordeste. Anunciamos mais de R$ 88 bilhões em medidas para apoiar Estados e Municípios no combate à Covid-19 e outras medidas, mas alguns jornalistas insistem em falar de assuntos que alimentam intrigas, fofocas e pânico. "
      ],
      "text/plain": [
       "<IPython.core.display.HTML object>"
      ]
     },
     "metadata": {},
     "output_type": "display_data"
    },
    {
     "data": {
      "text/html": [
       "<strong> Data </strong>: 2020-03-23 21:49:32 "
      ],
      "text/plain": [
       "<IPython.core.display.HTML object>"
      ]
     },
     "metadata": {},
     "output_type": "display_data"
    },
    {
     "data": {
      "text/html": [
       "<strong> Likes </strong>: 41787 "
      ],
      "text/plain": [
       "<IPython.core.display.HTML object>"
      ]
     },
     "metadata": {},
     "output_type": "display_data"
    },
    {
     "data": {
      "text/html": [
       "<strong> Link </strong>: <a href='https://twitter.com//jairbolsonaro/status/1242252172466814982' target='_blank'> Acessar </a> "
      ],
      "text/plain": [
       "<IPython.core.display.HTML object>"
      ]
     },
     "metadata": {},
     "output_type": "display_data"
    },
    {
     "data": {
      "text/html": [
       "<hr>"
      ],
      "text/plain": [
       "<IPython.core.display.HTML object>"
      ]
     },
     "metadata": {},
     "output_type": "display_data"
    },
    {
     "data": {
      "text/html": [
       "<strong> Tweet </strong>: Seguimos em teleconferência com Governadores da Região Norte, para alinhamento de ações no enfrentamento ao coronavirus:\n",
       "\n",
       "- Envio ao Congresso das PECs 186, 187 e 188 e PLP 149. Propostas relativas principalmente ao Novo Pacto Federativo, descentralizando recursos. pic.twitter.com/3vzdPlXgmM "
      ],
      "text/plain": [
       "<IPython.core.display.HTML object>"
      ]
     },
     "metadata": {},
     "output_type": "display_data"
    },
    {
     "data": {
      "text/html": [
       "<strong> Data </strong>: 2020-03-23 17:15:41 "
      ],
      "text/plain": [
       "<IPython.core.display.HTML object>"
      ]
     },
     "metadata": {},
     "output_type": "display_data"
    },
    {
     "data": {
      "text/html": [
       "<strong> Likes </strong>: 19803 "
      ],
      "text/plain": [
       "<IPython.core.display.HTML object>"
      ]
     },
     "metadata": {},
     "output_type": "display_data"
    },
    {
     "data": {
      "text/html": [
       "<strong> Link </strong>: <a href='https://twitter.com//jairbolsonaro/status/1242183254826004480' target='_blank'> Acessar </a> "
      ],
      "text/plain": [
       "<IPython.core.display.HTML object>"
      ]
     },
     "metadata": {},
     "output_type": "display_data"
    },
    {
     "data": {
      "text/html": [
       "<hr>"
      ],
      "text/plain": [
       "<IPython.core.display.HTML object>"
      ]
     },
     "metadata": {},
     "output_type": "display_data"
    },
    {
     "data": {
      "text/html": [
       "<strong> Tweet </strong>: - Adiantamento de logística nacional centralizada para ampliação do testes de coronavirus.\n",
       "\n",
       "- Criação de Gabinete Nacional para troca de informações e alinhamento de prioridades para aperfeiçoamento de diretrizes. "
      ],
      "text/plain": [
       "<IPython.core.display.HTML object>"
      ]
     },
     "metadata": {},
     "output_type": "display_data"
    },
    {
     "data": {
      "text/html": [
       "<strong> Data </strong>: 2020-03-23 16:42:16 "
      ],
      "text/plain": [
       "<IPython.core.display.HTML object>"
      ]
     },
     "metadata": {},
     "output_type": "display_data"
    },
    {
     "data": {
      "text/html": [
       "<strong> Likes </strong>: 10466 "
      ],
      "text/plain": [
       "<IPython.core.display.HTML object>"
      ]
     },
     "metadata": {},
     "output_type": "display_data"
    },
    {
     "data": {
      "text/html": [
       "<strong> Link </strong>: <a href='https://twitter.com//jairbolsonaro/status/1242174847368790016' target='_blank'> Acessar </a> "
      ],
      "text/plain": [
       "<IPython.core.display.HTML object>"
      ]
     },
     "metadata": {},
     "output_type": "display_data"
    },
    {
     "data": {
      "text/html": [
       "<hr>"
      ],
      "text/plain": [
       "<IPython.core.display.HTML object>"
      ]
     },
     "metadata": {},
     "output_type": "display_data"
    },
    {
     "data": {
      "text/html": [
       "<strong> Tweet </strong>: -  Portaria para que hospitais de pequeno porte recebam infectados, tirando-os do posto de saúde, assim todos os municípios atuarão com mais segurança a todos.\n",
       "\n",
       "- Fundo de doações para enfrentamento ao covid-19 / @minsaude "
      ],
      "text/plain": [
       "<IPython.core.display.HTML object>"
      ]
     },
     "metadata": {},
     "output_type": "display_data"
    },
    {
     "data": {
      "text/html": [
       "<strong> Data </strong>: 2020-03-23 16:41:22 "
      ],
      "text/plain": [
       "<IPython.core.display.HTML object>"
      ]
     },
     "metadata": {},
     "output_type": "display_data"
    },
    {
     "data": {
      "text/html": [
       "<strong> Likes </strong>: 7116 "
      ],
      "text/plain": [
       "<IPython.core.display.HTML object>"
      ]
     },
     "metadata": {},
     "output_type": "display_data"
    },
    {
     "data": {
      "text/html": [
       "<strong> Link </strong>: <a href='https://twitter.com//jairbolsonaro/status/1242174617923584005' target='_blank'> Acessar </a> "
      ],
      "text/plain": [
       "<IPython.core.display.HTML object>"
      ]
     },
     "metadata": {},
     "output_type": "display_data"
    },
    {
     "data": {
      "text/html": [
       "<hr>"
      ],
      "text/plain": [
       "<IPython.core.display.HTML object>"
      ]
     },
     "metadata": {},
     "output_type": "display_data"
    },
    {
     "data": {
      "text/html": [
       "<strong> Tweet </strong>: Dando início à reunião com Governadores do Nordeste. Ao longo desta, vamos esclarecendo ações do Poder Executivo Federal em relação ao covid-19 e ouvindo os anseios dos senhores dos Executivos Estaduais: pic.twitter.com/NDpexT8xub "
      ],
      "text/plain": [
       "<IPython.core.display.HTML object>"
      ]
     },
     "metadata": {},
     "output_type": "display_data"
    },
    {
     "data": {
      "text/html": [
       "<strong> Data </strong>: 2020-03-23 15:10:31 "
      ],
      "text/plain": [
       "<IPython.core.display.HTML object>"
      ]
     },
     "metadata": {},
     "output_type": "display_data"
    },
    {
     "data": {
      "text/html": [
       "<strong> Likes </strong>: 24157 "
      ],
      "text/plain": [
       "<IPython.core.display.HTML object>"
      ]
     },
     "metadata": {},
     "output_type": "display_data"
    },
    {
     "data": {
      "text/html": [
       "<strong> Link </strong>: <a href='https://twitter.com//jairbolsonaro/status/1242151755183505413' target='_blank'> Acessar </a> "
      ],
      "text/plain": [
       "<IPython.core.display.HTML object>"
      ]
     },
     "metadata": {},
     "output_type": "display_data"
    },
    {
     "data": {
      "text/html": [
       "<hr>"
      ],
      "text/plain": [
       "<IPython.core.display.HTML object>"
      ]
     },
     "metadata": {},
     "output_type": "display_data"
    },
    {
     "data": {
      "text/html": [
       "<strong> Tweet </strong>: - Live - manhã (23/03/2020): atualização covid-19.\n",
       "\n",
       ". Link no youtube: https://youtu.be/IqBcgzSsPO8  "
      ],
      "text/plain": [
       "<IPython.core.display.HTML object>"
      ]
     },
     "metadata": {},
     "output_type": "display_data"
    },
    {
     "data": {
      "text/html": [
       "<strong> Data </strong>: 2020-03-23 09:08:23 "
      ],
      "text/plain": [
       "<IPython.core.display.HTML object>"
      ]
     },
     "metadata": {},
     "output_type": "display_data"
    },
    {
     "data": {
      "text/html": [
       "<strong> Likes </strong>: 13123 "
      ],
      "text/plain": [
       "<IPython.core.display.HTML object>"
      ]
     },
     "metadata": {},
     "output_type": "display_data"
    },
    {
     "data": {
      "text/html": [
       "<strong> Link </strong>: <a href='https://twitter.com//jairbolsonaro/status/1242060623938301954' target='_blank'> Acessar </a> "
      ],
      "text/plain": [
       "<IPython.core.display.HTML object>"
      ]
     },
     "metadata": {},
     "output_type": "display_data"
    },
    {
     "data": {
      "text/html": [
       "<hr>"
      ],
      "text/plain": [
       "<IPython.core.display.HTML object>"
      ]
     },
     "metadata": {},
     "output_type": "display_data"
    },
    {
     "data": {
      "text/html": [
       "<strong> Tweet </strong>: - Nossas Forças Armadas, sempre lembradas em tempos difíceis, estão à disposição p/ dar todo apoio possível aos Estados e Municípios do país na guerra contra o coronavírus, com logística, transporte de profissionais de saúde e materiais, postos de triagem, etc. JUNTOS VENCEREMOS! "
      ],
      "text/plain": [
       "<IPython.core.display.HTML object>"
      ]
     },
     "metadata": {},
     "output_type": "display_data"
    },
    {
     "data": {
      "text/html": [
       "<strong> Data </strong>: 2020-03-22 21:07:17 "
      ],
      "text/plain": [
       "<IPython.core.display.HTML object>"
      ]
     },
     "metadata": {},
     "output_type": "display_data"
    },
    {
     "data": {
      "text/html": [
       "<strong> Likes </strong>: 47305 "
      ],
      "text/plain": [
       "<IPython.core.display.HTML object>"
      ]
     },
     "metadata": {},
     "output_type": "display_data"
    },
    {
     "data": {
      "text/html": [
       "<strong> Link </strong>: <a href='https://twitter.com//jairbolsonaro/status/1241879151214288896' target='_blank'> Acessar </a> "
      ],
      "text/plain": [
       "<IPython.core.display.HTML object>"
      ]
     },
     "metadata": {},
     "output_type": "display_data"
    }
   ],
   "source": [
    "def criterio(tuite): return tuite['time']\n",
    "tuites_ordenados = sorted(tuites, key=criterio, reverse=True)\n",
    "for t in tuites_ordenados:\n",
    "    display(HTML(f\"<hr>\"))\n",
    "    display(HTML(f\"<strong> Tweet </strong>: {t['text']} \"))\n",
    "    display(HTML(f\"<strong> Data </strong>: {t['time']} \"))\n",
    "    display(HTML(f\"<strong> Likes </strong>: {t['likes']} \"))\n",
    "    url = t['tweetUrl']\n",
    "    display(HTML(f\"<strong> Link </strong>: <a href='https://twitter.com/{url}' target='_blank'> Acessar </a> \"))"
   ]
  },
  {
   "cell_type": "code",
   "execution_count": null,
   "metadata": {},
   "outputs": [],
   "source": []
  }
 ],
 "metadata": {
  "kernelspec": {
   "display_name": "Python 3",
   "language": "python",
   "name": "python3"
  },
  "language_info": {
   "codemirror_mode": {
    "name": "ipython",
    "version": 3
   },
   "file_extension": ".py",
   "mimetype": "text/x-python",
   "name": "python",
   "nbconvert_exporter": "python",
   "pygments_lexer": "ipython3",
   "version": "3.6.5"
  }
 },
 "nbformat": 4,
 "nbformat_minor": 4
}
